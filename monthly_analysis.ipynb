{
 "cells": [
  {
   "cell_type": "code",
   "execution_count": 1,
   "id": "914efdb6-456e-4b8a-a39a-45857fe2c164",
   "metadata": {},
   "outputs": [],
   "source": [
    "import re\n",
    "import pickle\n",
    "import numpy as np\n",
    "import pandas as pd\n",
    "import os\n",
    "import json"
   ]
  },
  {
   "cell_type": "code",
   "execution_count": 2,
   "id": "69324a1f-b62f-4669-b061-6ad929a4e4b2",
   "metadata": {},
   "outputs": [],
   "source": [
    "import matplotlib.pyplot as plt\n",
    "import seaborn as sns\n",
    "%matplotlib inline"
   ]
  },
  {
   "cell_type": "code",
   "execution_count": 3,
   "id": "884362a4-597d-4603-bc84-96370bbda819",
   "metadata": {},
   "outputs": [
    {
     "name": "stdout",
     "output_type": "stream",
     "text": [
      "Requirement already satisfied: emoji in /Users/rishitajain/opt/anaconda3/lib/python3.9/site-packages (1.7.0)\n",
      "Requirement already satisfied: tweet-preprocessor in /Users/rishitajain/opt/anaconda3/lib/python3.9/site-packages (0.6.0)\n"
     ]
    }
   ],
   "source": [
    "!pip install emoji --upgrade\n",
    "import emoji\n",
    "\n",
    "!pip install tweet-preprocessor\n",
    "import preprocessor as p"
   ]
  },
  {
   "cell_type": "code",
   "execution_count": 4,
   "id": "7184338e-57ae-4aea-a5b2-5276213221d8",
   "metadata": {},
   "outputs": [
    {
     "name": "stdout",
     "output_type": "stream",
     "text": [
      "Requirement already satisfied: transformers in /Users/rishitajain/opt/anaconda3/lib/python3.9/site-packages (4.19.2)\n",
      "Requirement already satisfied: packaging>=20.0 in /Users/rishitajain/opt/anaconda3/lib/python3.9/site-packages (from transformers) (21.3)\n",
      "Requirement already satisfied: tqdm>=4.27 in /Users/rishitajain/opt/anaconda3/lib/python3.9/site-packages (from transformers) (4.64.0)\n",
      "Requirement already satisfied: huggingface-hub<1.0,>=0.1.0 in /Users/rishitajain/opt/anaconda3/lib/python3.9/site-packages (from transformers) (0.7.0)\n",
      "Requirement already satisfied: regex!=2019.12.17 in /Users/rishitajain/opt/anaconda3/lib/python3.9/site-packages (from transformers) (2022.3.15)\n",
      "Requirement already satisfied: numpy>=1.17 in /Users/rishitajain/opt/anaconda3/lib/python3.9/site-packages (from transformers) (1.21.5)\n",
      "Requirement already satisfied: filelock in /Users/rishitajain/opt/anaconda3/lib/python3.9/site-packages (from transformers) (3.6.0)\n",
      "Requirement already satisfied: requests in /Users/rishitajain/opt/anaconda3/lib/python3.9/site-packages (from transformers) (2.27.1)\n",
      "Requirement already satisfied: pyyaml>=5.1 in /Users/rishitajain/opt/anaconda3/lib/python3.9/site-packages (from transformers) (6.0)\n",
      "Requirement already satisfied: tokenizers!=0.11.3,<0.13,>=0.11.1 in /Users/rishitajain/opt/anaconda3/lib/python3.9/site-packages (from transformers) (0.12.1)\n",
      "Requirement already satisfied: typing-extensions>=3.7.4.3 in /Users/rishitajain/opt/anaconda3/lib/python3.9/site-packages (from huggingface-hub<1.0,>=0.1.0->transformers) (4.1.1)\n",
      "Requirement already satisfied: pyparsing!=3.0.5,>=2.0.2 in /Users/rishitajain/opt/anaconda3/lib/python3.9/site-packages (from packaging>=20.0->transformers) (3.0.4)\n",
      "Requirement already satisfied: charset-normalizer~=2.0.0 in /Users/rishitajain/opt/anaconda3/lib/python3.9/site-packages (from requests->transformers) (2.0.4)\n",
      "Requirement already satisfied: certifi>=2017.4.17 in /Users/rishitajain/opt/anaconda3/lib/python3.9/site-packages (from requests->transformers) (2021.10.8)\n",
      "Requirement already satisfied: idna<4,>=2.5 in /Users/rishitajain/opt/anaconda3/lib/python3.9/site-packages (from requests->transformers) (3.3)\n",
      "Requirement already satisfied: urllib3<1.27,>=1.21.1 in /Users/rishitajain/opt/anaconda3/lib/python3.9/site-packages (from requests->transformers) (1.26.9)\n"
     ]
    }
   ],
   "source": [
    "!pip install transformers\n",
    "from transformers import AutoTokenizer, AutoModelForSequenceClassification\n",
    "from transformers import BertTokenizer, TFBertForSequenceClassification\n",
    "from transformers import InputExample, InputFeatures\n",
    "from transformers import T5Tokenizer, T5ForConditionalGeneration\n",
    "from wordcloud import WordCloud, STOPWORDS, ImageColorGenerator"
   ]
  },
  {
   "cell_type": "code",
   "execution_count": 4,
   "id": "deca8597-95ef-4794-b9e0-a49afac90996",
   "metadata": {},
   "outputs": [],
   "source": [
    "urw_collection = []\n",
    "for dirname, _, filenames in os.walk('/Users/rishitajain/Downloads/archive'):\n",
    "    for filename in filenames:\n",
    "        fullpath = os.path.join(dirname, filename)\n",
    "        urw_collection.append(fullpath)"
   ]
  },
  {
   "cell_type": "code",
   "execution_count": 5,
   "id": "c61a1294-462e-497a-9408-bb7630fc9a2c",
   "metadata": {},
   "outputs": [],
   "source": [
    "urw_collection.sort()"
   ]
  },
  {
   "cell_type": "code",
   "execution_count": 6,
   "id": "bed833ac-5d93-497a-8f30-f296727d39b8",
   "metadata": {},
   "outputs": [
    {
     "data": {
      "text/plain": [
       "['/Users/rishitajain/Downloads/archive/feb0227.csv.gzip',\n",
       " '/Users/rishitajain/Downloads/archive/feb0228.csv.gzip',\n",
       " '/Users/rishitajain/Downloads/archive/feb0229.csv.gzip']"
      ]
     },
     "execution_count": 6,
     "metadata": {},
     "output_type": "execute_result"
    }
   ],
   "source": [
    "feb_files = [file for file in urw_collection if re.search(r\"feb\", file) or re.search(r\"022\", file)]\n",
    "feb_files"
   ]
  },
  {
   "cell_type": "code",
   "execution_count": 7,
   "id": "58a89812-5de9-435d-bcfe-c6a664622537",
   "metadata": {},
   "outputs": [
    {
     "data": {
      "text/plain": [
       "['/Users/rishitajain/Downloads/archive/mar0301.csv.gzip',\n",
       " '/Users/rishitajain/Downloads/archive/mar0302.csv.gzip',\n",
       " '/Users/rishitajain/Downloads/archive/mar0303.csv.gzip',\n",
       " '/Users/rishitajain/Downloads/archive/mar0304.csv.gzip',\n",
       " '/Users/rishitajain/Downloads/archive/mar0305.csv.gzip',\n",
       " '/Users/rishitajain/Downloads/archive/mar0306.csv.gzip',\n",
       " '/Users/rishitajain/Downloads/archive/mar0307.csv.gzip',\n",
       " '/Users/rishitajain/Downloads/archive/mar0308.csv.gzip',\n",
       " '/Users/rishitajain/Downloads/archive/mar0309.csv.gzip',\n",
       " '/Users/rishitajain/Downloads/archive/mar0310.csv.gzip',\n",
       " '/Users/rishitajain/Downloads/archive/mar0311.csv.gzip',\n",
       " '/Users/rishitajain/Downloads/archive/mar0312.csv.gzip',\n",
       " '/Users/rishitajain/Downloads/archive/mar0313.csv.gzip',\n",
       " '/Users/rishitajain/Downloads/archive/mar0314.csv.gzip',\n",
       " '/Users/rishitajain/Downloads/archive/mar0315.csv.gzip',\n",
       " '/Users/rishitajain/Downloads/archive/mar0316.csv.gzip',\n",
       " '/Users/rishitajain/Downloads/archive/mar0317.csv.gzip',\n",
       " '/Users/rishitajain/Downloads/archive/mar0318.csv.gzip',\n",
       " '/Users/rishitajain/Downloads/archive/mar0319.csv.gzip',\n",
       " '/Users/rishitajain/Downloads/archive/mar0320.csv.gzip',\n",
       " '/Users/rishitajain/Downloads/archive/mar0321.csv.gzip',\n",
       " '/Users/rishitajain/Downloads/archive/mar0322.csv.gzip',\n",
       " '/Users/rishitajain/Downloads/archive/mar0323.csv.gzip',\n",
       " '/Users/rishitajain/Downloads/archive/mar0324.csv.gzip',\n",
       " '/Users/rishitajain/Downloads/archive/mar0325.csv.gzip',\n",
       " '/Users/rishitajain/Downloads/archive/mar0326.csv.gzip',\n",
       " '/Users/rishitajain/Downloads/archive/mar0327.csv.gzip',\n",
       " '/Users/rishitajain/Downloads/archive/mar0329.csv.gzip',\n",
       " '/Users/rishitajain/Downloads/archive/mar0330.csv.gzip',\n",
       " '/Users/rishitajain/Downloads/archive/mar0331.csv.gzip']"
      ]
     },
     "execution_count": 7,
     "metadata": {},
     "output_type": "execute_result"
    }
   ],
   "source": [
    "mar_files = [file for file in urw_collection if re.search(r\"mar\", file)]\n",
    "mar_files"
   ]
  },
  {
   "cell_type": "code",
   "execution_count": 8,
   "id": "4ced114c-cbe4-47fd-8a6e-0ddacdb72144",
   "metadata": {},
   "outputs": [
    {
     "data": {
      "text/plain": [
       "['/Users/rishitajain/Downloads/archive/apr0401.csv.gzip',\n",
       " '/Users/rishitajain/Downloads/archive/apr0402.csv.gzip',\n",
       " '/Users/rishitajain/Downloads/archive/apr0403.csv.gzip',\n",
       " '/Users/rishitajain/Downloads/archive/apr0404.csv.gzip',\n",
       " '/Users/rishitajain/Downloads/archive/apr0405.csv.gzip',\n",
       " '/Users/rishitajain/Downloads/archive/apr0406.csv.gzip',\n",
       " '/Users/rishitajain/Downloads/archive/apr0407.csv.gzip',\n",
       " '/Users/rishitajain/Downloads/archive/apr0408.csv.gzip',\n",
       " '/Users/rishitajain/Downloads/archive/apr0409.csv.gzip',\n",
       " '/Users/rishitajain/Downloads/archive/apr0410.csv.gzip',\n",
       " '/Users/rishitajain/Downloads/archive/apr0411.csv.gzip',\n",
       " '/Users/rishitajain/Downloads/archive/apr0412.csv.gzip',\n",
       " '/Users/rishitajain/Downloads/archive/apr0413.csv.gzip',\n",
       " '/Users/rishitajain/Downloads/archive/apr0414.csv.gzip',\n",
       " '/Users/rishitajain/Downloads/archive/apr0415.csv.gzip',\n",
       " '/Users/rishitajain/Downloads/archive/apr0416.csv.gzip',\n",
       " '/Users/rishitajain/Downloads/archive/apr0417.csv.gzip',\n",
       " '/Users/rishitajain/Downloads/archive/apr0418.csv.gzip',\n",
       " '/Users/rishitajain/Downloads/archive/apr0419.csv.gzip',\n",
       " '/Users/rishitajain/Downloads/archive/apr0420.csv.gzip',\n",
       " '/Users/rishitajain/Downloads/archive/apr0421.csv.gzip',\n",
       " '/Users/rishitajain/Downloads/archive/apr0422.csv.gzip',\n",
       " '/Users/rishitajain/Downloads/archive/apr0423.csv.gzip',\n",
       " '/Users/rishitajain/Downloads/archive/apr0424.csv.gzip',\n",
       " '/Users/rishitajain/Downloads/archive/apr0425.csv.gzip',\n",
       " '/Users/rishitajain/Downloads/archive/apr0426.csv.gzip',\n",
       " '/Users/rishitajain/Downloads/archive/apr0427.csv.gzip',\n",
       " '/Users/rishitajain/Downloads/archive/apr0428.csv.gzip',\n",
       " '/Users/rishitajain/Downloads/archive/apr0429.csv.gzip',\n",
       " '/Users/rishitajain/Downloads/archive/apr0430.csv.gzip']"
      ]
     },
     "execution_count": 8,
     "metadata": {},
     "output_type": "execute_result"
    }
   ],
   "source": [
    "apr_files = [file for file in urw_collection if re.search(r\"apr\", file)]\n",
    "apr_files"
   ]
  },
  {
   "cell_type": "code",
   "execution_count": 9,
   "id": "9fbcc7d0-3ba4-4a5b-a9d7-aaab38c0d7cd",
   "metadata": {},
   "outputs": [
    {
     "data": {
      "text/plain": [
       "['/Users/rishitajain/Downloads/archive/may0501.csv.gzip',\n",
       " '/Users/rishitajain/Downloads/archive/may0502.csv.gzip',\n",
       " '/Users/rishitajain/Downloads/archive/may0503.csv.gzip',\n",
       " '/Users/rishitajain/Downloads/archive/may0504.csv.gzip',\n",
       " '/Users/rishitajain/Downloads/archive/may0505.csv.gzip',\n",
       " '/Users/rishitajain/Downloads/archive/may0508.csv.gzip',\n",
       " '/Users/rishitajain/Downloads/archive/may0509.csv.gzip',\n",
       " '/Users/rishitajain/Downloads/archive/may0510.csv.gzip',\n",
       " '/Users/rishitajain/Downloads/archive/may0511.csv.gzip',\n",
       " '/Users/rishitajain/Downloads/archive/may0512.csv.gzip',\n",
       " '/Users/rishitajain/Downloads/archive/may0513.csv.gzip',\n",
       " '/Users/rishitajain/Downloads/archive/may0514.csv.gzip',\n",
       " '/Users/rishitajain/Downloads/archive/may0515.csv.gzip',\n",
       " '/Users/rishitajain/Downloads/archive/may0516.csv.gzip',\n",
       " '/Users/rishitajain/Downloads/archive/may0517.csv.gzip',\n",
       " '/Users/rishitajain/Downloads/archive/may0518.csv.gzip',\n",
       " '/Users/rishitajain/Downloads/archive/may0519.csv.gzip',\n",
       " '/Users/rishitajain/Downloads/archive/may0520.csv.gzip',\n",
       " '/Users/rishitajain/Downloads/archive/may0521.csv.gzip',\n",
       " '/Users/rishitajain/Downloads/archive/may0522.csv.gzip',\n",
       " '/Users/rishitajain/Downloads/archive/may0523.csv.gzip',\n",
       " '/Users/rishitajain/Downloads/archive/may0524.csv.gzip',\n",
       " '/Users/rishitajain/Downloads/archive/may0525.csv.gzip']"
      ]
     },
     "execution_count": 9,
     "metadata": {},
     "output_type": "execute_result"
    }
   ],
   "source": [
    "may_files = [file for file in urw_collection if re.search(r\"may\", file)]\n",
    "may_files"
   ]
  },
  {
   "cell_type": "code",
   "execution_count": 10,
   "id": "76f421fe-7e08-46b7-b0f1-e25e86f04604",
   "metadata": {},
   "outputs": [
    {
     "name": "stdout",
     "output_type": "stream",
     "text": [
      "Reading in /Users/rishitajain/Downloads/archive/feb0227.csv.gzip\n",
      "Reading in /Users/rishitajain/Downloads/archive/feb0228.csv.gzip\n"
     ]
    },
    {
     "name": "stderr",
     "output_type": "stream",
     "text": [
      "/var/folders/f3/vhjrz95x7zb97qbtlcxtjx0c0000gn/T/ipykernel_1032/682431765.py:5: DtypeWarning: Columns (15) have mixed types. Specify dtype option on import or set low_memory=False.\n",
      "  tmp_df = pd.read_csv(file, compression=\"gzip\", header=0, index_col=0)\n"
     ]
    },
    {
     "name": "stdout",
     "output_type": "stream",
     "text": [
      "Reading in /Users/rishitajain/Downloads/archive/feb0229.csv.gzip\n",
      "Concatenating the DataFrames\n",
      "Concatenation complete!\n"
     ]
    }
   ],
   "source": [
    "tmp_df_list = []\n",
    "for file in feb_files:\n",
    "    print(f\"Reading in {file}\")\n",
    "    # unzip and read in the csv file as a dataframe\n",
    "    tmp_df = pd.read_csv(file, compression=\"gzip\", header=0, index_col=0)\n",
    "    # append dataframe to temp list\n",
    "    tmp_df_list.append(tmp_df)\n",
    "\n",
    "print(\"Concatenating the DataFrames\")\n",
    "# concatenate the dataframes in the temp list row-wise\n",
    "feb_df= pd.concat(tmp_df_list, axis=0)\n",
    "print(\"Concatenation complete!\")"
   ]
  },
  {
   "cell_type": "code",
   "execution_count": 11,
   "id": "bdf512ad-cede-4780-b4c9-50198ec30f23",
   "metadata": {},
   "outputs": [
    {
     "name": "stdout",
     "output_type": "stream",
     "text": [
      "Reading in /Users/rishitajain/Downloads/archive/mar0301.csv.gzip\n",
      "Reading in /Users/rishitajain/Downloads/archive/mar0302.csv.gzip\n",
      "Reading in /Users/rishitajain/Downloads/archive/mar0303.csv.gzip\n",
      "Reading in /Users/rishitajain/Downloads/archive/mar0304.csv.gzip\n"
     ]
    },
    {
     "name": "stderr",
     "output_type": "stream",
     "text": [
      "/var/folders/f3/vhjrz95x7zb97qbtlcxtjx0c0000gn/T/ipykernel_1032/2375583803.py:5: DtypeWarning: Columns (15) have mixed types. Specify dtype option on import or set low_memory=False.\n",
      "  tmp_df = pd.read_csv(file, compression=\"gzip\", header=0, index_col=0)\n"
     ]
    },
    {
     "name": "stdout",
     "output_type": "stream",
     "text": [
      "Reading in /Users/rishitajain/Downloads/archive/mar0305.csv.gzip\n"
     ]
    },
    {
     "name": "stderr",
     "output_type": "stream",
     "text": [
      "/var/folders/f3/vhjrz95x7zb97qbtlcxtjx0c0000gn/T/ipykernel_1032/2375583803.py:5: DtypeWarning: Columns (15) have mixed types. Specify dtype option on import or set low_memory=False.\n",
      "  tmp_df = pd.read_csv(file, compression=\"gzip\", header=0, index_col=0)\n"
     ]
    },
    {
     "name": "stdout",
     "output_type": "stream",
     "text": [
      "Reading in /Users/rishitajain/Downloads/archive/mar0306.csv.gzip\n"
     ]
    },
    {
     "name": "stderr",
     "output_type": "stream",
     "text": [
      "/var/folders/f3/vhjrz95x7zb97qbtlcxtjx0c0000gn/T/ipykernel_1032/2375583803.py:5: DtypeWarning: Columns (15) have mixed types. Specify dtype option on import or set low_memory=False.\n",
      "  tmp_df = pd.read_csv(file, compression=\"gzip\", header=0, index_col=0)\n"
     ]
    },
    {
     "name": "stdout",
     "output_type": "stream",
     "text": [
      "Reading in /Users/rishitajain/Downloads/archive/mar0307.csv.gzip\n"
     ]
    },
    {
     "name": "stderr",
     "output_type": "stream",
     "text": [
      "/var/folders/f3/vhjrz95x7zb97qbtlcxtjx0c0000gn/T/ipykernel_1032/2375583803.py:5: DtypeWarning: Columns (15) have mixed types. Specify dtype option on import or set low_memory=False.\n",
      "  tmp_df = pd.read_csv(file, compression=\"gzip\", header=0, index_col=0)\n"
     ]
    },
    {
     "name": "stdout",
     "output_type": "stream",
     "text": [
      "Reading in /Users/rishitajain/Downloads/archive/mar0308.csv.gzip\n",
      "Reading in /Users/rishitajain/Downloads/archive/mar0309.csv.gzip\n"
     ]
    },
    {
     "name": "stderr",
     "output_type": "stream",
     "text": [
      "/var/folders/f3/vhjrz95x7zb97qbtlcxtjx0c0000gn/T/ipykernel_1032/2375583803.py:5: DtypeWarning: Columns (15) have mixed types. Specify dtype option on import or set low_memory=False.\n",
      "  tmp_df = pd.read_csv(file, compression=\"gzip\", header=0, index_col=0)\n"
     ]
    },
    {
     "name": "stdout",
     "output_type": "stream",
     "text": [
      "Reading in /Users/rishitajain/Downloads/archive/mar0310.csv.gzip\n"
     ]
    },
    {
     "name": "stderr",
     "output_type": "stream",
     "text": [
      "/var/folders/f3/vhjrz95x7zb97qbtlcxtjx0c0000gn/T/ipykernel_1032/2375583803.py:5: DtypeWarning: Columns (15) have mixed types. Specify dtype option on import or set low_memory=False.\n",
      "  tmp_df = pd.read_csv(file, compression=\"gzip\", header=0, index_col=0)\n"
     ]
    },
    {
     "name": "stdout",
     "output_type": "stream",
     "text": [
      "Reading in /Users/rishitajain/Downloads/archive/mar0311.csv.gzip\n",
      "Reading in /Users/rishitajain/Downloads/archive/mar0312.csv.gzip\n"
     ]
    },
    {
     "name": "stderr",
     "output_type": "stream",
     "text": [
      "/var/folders/f3/vhjrz95x7zb97qbtlcxtjx0c0000gn/T/ipykernel_1032/2375583803.py:5: DtypeWarning: Columns (15) have mixed types. Specify dtype option on import or set low_memory=False.\n",
      "  tmp_df = pd.read_csv(file, compression=\"gzip\", header=0, index_col=0)\n"
     ]
    },
    {
     "name": "stdout",
     "output_type": "stream",
     "text": [
      "Reading in /Users/rishitajain/Downloads/archive/mar0313.csv.gzip\n",
      "Reading in /Users/rishitajain/Downloads/archive/mar0314.csv.gzip\n",
      "Reading in /Users/rishitajain/Downloads/archive/mar0315.csv.gzip\n",
      "Reading in /Users/rishitajain/Downloads/archive/mar0316.csv.gzip\n",
      "Reading in /Users/rishitajain/Downloads/archive/mar0317.csv.gzip\n",
      "Reading in /Users/rishitajain/Downloads/archive/mar0318.csv.gzip\n"
     ]
    },
    {
     "name": "stderr",
     "output_type": "stream",
     "text": [
      "/var/folders/f3/vhjrz95x7zb97qbtlcxtjx0c0000gn/T/ipykernel_1032/2375583803.py:5: DtypeWarning: Columns (15) have mixed types. Specify dtype option on import or set low_memory=False.\n",
      "  tmp_df = pd.read_csv(file, compression=\"gzip\", header=0, index_col=0)\n"
     ]
    },
    {
     "name": "stdout",
     "output_type": "stream",
     "text": [
      "Reading in /Users/rishitajain/Downloads/archive/mar0319.csv.gzip\n",
      "Reading in /Users/rishitajain/Downloads/archive/mar0320.csv.gzip\n",
      "Reading in /Users/rishitajain/Downloads/archive/mar0321.csv.gzip\n",
      "Reading in /Users/rishitajain/Downloads/archive/mar0322.csv.gzip\n",
      "Reading in /Users/rishitajain/Downloads/archive/mar0323.csv.gzip\n",
      "Reading in /Users/rishitajain/Downloads/archive/mar0324.csv.gzip\n",
      "Reading in /Users/rishitajain/Downloads/archive/mar0325.csv.gzip\n",
      "Reading in /Users/rishitajain/Downloads/archive/mar0326.csv.gzip\n",
      "Reading in /Users/rishitajain/Downloads/archive/mar0327.csv.gzip\n"
     ]
    },
    {
     "name": "stderr",
     "output_type": "stream",
     "text": [
      "/var/folders/f3/vhjrz95x7zb97qbtlcxtjx0c0000gn/T/ipykernel_1032/2375583803.py:5: DtypeWarning: Columns (15) have mixed types. Specify dtype option on import or set low_memory=False.\n",
      "  tmp_df = pd.read_csv(file, compression=\"gzip\", header=0, index_col=0)\n"
     ]
    },
    {
     "name": "stdout",
     "output_type": "stream",
     "text": [
      "Reading in /Users/rishitajain/Downloads/archive/mar0329.csv.gzip\n"
     ]
    },
    {
     "name": "stderr",
     "output_type": "stream",
     "text": [
      "/var/folders/f3/vhjrz95x7zb97qbtlcxtjx0c0000gn/T/ipykernel_1032/2375583803.py:5: DtypeWarning: Columns (15) have mixed types. Specify dtype option on import or set low_memory=False.\n",
      "  tmp_df = pd.read_csv(file, compression=\"gzip\", header=0, index_col=0)\n"
     ]
    },
    {
     "name": "stdout",
     "output_type": "stream",
     "text": [
      "Reading in /Users/rishitajain/Downloads/archive/mar0330.csv.gzip\n",
      "Reading in /Users/rishitajain/Downloads/archive/mar0331.csv.gzip\n",
      "Concatenating the DataFrames\n",
      "Concatenation complete!\n"
     ]
    }
   ],
   "source": [
    "tmp_df_list = []\n",
    "for file in mar_files:\n",
    "    print(f\"Reading in {file}\")\n",
    "    # unzip and read in the csv file as a dataframe\n",
    "    tmp_df = pd.read_csv(file, compression=\"gzip\", header=0, index_col=0)\n",
    "    # append dataframe to temp list\n",
    "    tmp_df_list.append(tmp_df)\n",
    "\n",
    "print(\"Concatenating the DataFrames\")\n",
    "# concatenate the dataframes in the temp list row-wise\n",
    "mar_df= pd.concat(tmp_df_list, axis=0)\n",
    "print(\"Concatenation complete!\")"
   ]
  },
  {
   "cell_type": "code",
   "execution_count": 12,
   "id": "f4759e10-6a0f-452c-88a9-ee6f22496ba4",
   "metadata": {},
   "outputs": [
    {
     "name": "stdout",
     "output_type": "stream",
     "text": [
      "Reading in /Users/rishitajain/Downloads/archive/apr0401.csv.gzip\n"
     ]
    },
    {
     "name": "stderr",
     "output_type": "stream",
     "text": [
      "/var/folders/f3/vhjrz95x7zb97qbtlcxtjx0c0000gn/T/ipykernel_1032/3511579794.py:5: DtypeWarning: Columns (15) have mixed types. Specify dtype option on import or set low_memory=False.\n",
      "  tmp_df = pd.read_csv(file, compression=\"gzip\", header=0, index_col=0)\n"
     ]
    },
    {
     "name": "stdout",
     "output_type": "stream",
     "text": [
      "Reading in /Users/rishitajain/Downloads/archive/apr0402.csv.gzip\n"
     ]
    },
    {
     "name": "stderr",
     "output_type": "stream",
     "text": [
      "/var/folders/f3/vhjrz95x7zb97qbtlcxtjx0c0000gn/T/ipykernel_1032/3511579794.py:5: DtypeWarning: Columns (15) have mixed types. Specify dtype option on import or set low_memory=False.\n",
      "  tmp_df = pd.read_csv(file, compression=\"gzip\", header=0, index_col=0)\n"
     ]
    },
    {
     "name": "stdout",
     "output_type": "stream",
     "text": [
      "Reading in /Users/rishitajain/Downloads/archive/apr0403.csv.gzip\n",
      "Reading in /Users/rishitajain/Downloads/archive/apr0404.csv.gzip\n"
     ]
    },
    {
     "name": "stderr",
     "output_type": "stream",
     "text": [
      "/var/folders/f3/vhjrz95x7zb97qbtlcxtjx0c0000gn/T/ipykernel_1032/3511579794.py:5: DtypeWarning: Columns (15) have mixed types. Specify dtype option on import or set low_memory=False.\n",
      "  tmp_df = pd.read_csv(file, compression=\"gzip\", header=0, index_col=0)\n"
     ]
    },
    {
     "name": "stdout",
     "output_type": "stream",
     "text": [
      "Reading in /Users/rishitajain/Downloads/archive/apr0405.csv.gzip\n",
      "Reading in /Users/rishitajain/Downloads/archive/apr0406.csv.gzip\n"
     ]
    },
    {
     "name": "stderr",
     "output_type": "stream",
     "text": [
      "/var/folders/f3/vhjrz95x7zb97qbtlcxtjx0c0000gn/T/ipykernel_1032/3511579794.py:5: DtypeWarning: Columns (15) have mixed types. Specify dtype option on import or set low_memory=False.\n",
      "  tmp_df = pd.read_csv(file, compression=\"gzip\", header=0, index_col=0)\n"
     ]
    },
    {
     "name": "stdout",
     "output_type": "stream",
     "text": [
      "Reading in /Users/rishitajain/Downloads/archive/apr0407.csv.gzip\n",
      "Reading in /Users/rishitajain/Downloads/archive/apr0408.csv.gzip\n",
      "Reading in /Users/rishitajain/Downloads/archive/apr0409.csv.gzip\n",
      "Reading in /Users/rishitajain/Downloads/archive/apr0410.csv.gzip\n",
      "Reading in /Users/rishitajain/Downloads/archive/apr0411.csv.gzip\n",
      "Reading in /Users/rishitajain/Downloads/archive/apr0412.csv.gzip\n",
      "Reading in /Users/rishitajain/Downloads/archive/apr0413.csv.gzip\n",
      "Reading in /Users/rishitajain/Downloads/archive/apr0414.csv.gzip\n"
     ]
    },
    {
     "name": "stderr",
     "output_type": "stream",
     "text": [
      "/var/folders/f3/vhjrz95x7zb97qbtlcxtjx0c0000gn/T/ipykernel_1032/3511579794.py:5: DtypeWarning: Columns (15) have mixed types. Specify dtype option on import or set low_memory=False.\n",
      "  tmp_df = pd.read_csv(file, compression=\"gzip\", header=0, index_col=0)\n"
     ]
    },
    {
     "name": "stdout",
     "output_type": "stream",
     "text": [
      "Reading in /Users/rishitajain/Downloads/archive/apr0415.csv.gzip\n",
      "Reading in /Users/rishitajain/Downloads/archive/apr0416.csv.gzip\n",
      "Reading in /Users/rishitajain/Downloads/archive/apr0417.csv.gzip\n",
      "Reading in /Users/rishitajain/Downloads/archive/apr0418.csv.gzip\n"
     ]
    },
    {
     "name": "stderr",
     "output_type": "stream",
     "text": [
      "/var/folders/f3/vhjrz95x7zb97qbtlcxtjx0c0000gn/T/ipykernel_1032/3511579794.py:5: DtypeWarning: Columns (15) have mixed types. Specify dtype option on import or set low_memory=False.\n",
      "  tmp_df = pd.read_csv(file, compression=\"gzip\", header=0, index_col=0)\n"
     ]
    },
    {
     "name": "stdout",
     "output_type": "stream",
     "text": [
      "Reading in /Users/rishitajain/Downloads/archive/apr0419.csv.gzip\n"
     ]
    },
    {
     "name": "stderr",
     "output_type": "stream",
     "text": [
      "/var/folders/f3/vhjrz95x7zb97qbtlcxtjx0c0000gn/T/ipykernel_1032/3511579794.py:5: DtypeWarning: Columns (15) have mixed types. Specify dtype option on import or set low_memory=False.\n",
      "  tmp_df = pd.read_csv(file, compression=\"gzip\", header=0, index_col=0)\n"
     ]
    },
    {
     "name": "stdout",
     "output_type": "stream",
     "text": [
      "Reading in /Users/rishitajain/Downloads/archive/apr0420.csv.gzip\n"
     ]
    },
    {
     "name": "stderr",
     "output_type": "stream",
     "text": [
      "/var/folders/f3/vhjrz95x7zb97qbtlcxtjx0c0000gn/T/ipykernel_1032/3511579794.py:5: DtypeWarning: Columns (15) have mixed types. Specify dtype option on import or set low_memory=False.\n",
      "  tmp_df = pd.read_csv(file, compression=\"gzip\", header=0, index_col=0)\n"
     ]
    },
    {
     "name": "stdout",
     "output_type": "stream",
     "text": [
      "Reading in /Users/rishitajain/Downloads/archive/apr0421.csv.gzip\n",
      "Reading in /Users/rishitajain/Downloads/archive/apr0422.csv.gzip\n"
     ]
    },
    {
     "name": "stderr",
     "output_type": "stream",
     "text": [
      "/var/folders/f3/vhjrz95x7zb97qbtlcxtjx0c0000gn/T/ipykernel_1032/3511579794.py:5: DtypeWarning: Columns (18,21,24,25,28) have mixed types. Specify dtype option on import or set low_memory=False.\n",
      "  tmp_df = pd.read_csv(file, compression=\"gzip\", header=0, index_col=0)\n"
     ]
    },
    {
     "name": "stdout",
     "output_type": "stream",
     "text": [
      "Reading in /Users/rishitajain/Downloads/archive/apr0423.csv.gzip\n"
     ]
    },
    {
     "name": "stderr",
     "output_type": "stream",
     "text": [
      "/var/folders/f3/vhjrz95x7zb97qbtlcxtjx0c0000gn/T/ipykernel_1032/3511579794.py:5: DtypeWarning: Columns (15) have mixed types. Specify dtype option on import or set low_memory=False.\n",
      "  tmp_df = pd.read_csv(file, compression=\"gzip\", header=0, index_col=0)\n"
     ]
    },
    {
     "name": "stdout",
     "output_type": "stream",
     "text": [
      "Reading in /Users/rishitajain/Downloads/archive/apr0424.csv.gzip\n",
      "Reading in /Users/rishitajain/Downloads/archive/apr0425.csv.gzip\n",
      "Reading in /Users/rishitajain/Downloads/archive/apr0426.csv.gzip\n",
      "Reading in /Users/rishitajain/Downloads/archive/apr0427.csv.gzip\n",
      "Reading in /Users/rishitajain/Downloads/archive/apr0428.csv.gzip\n",
      "Reading in /Users/rishitajain/Downloads/archive/apr0429.csv.gzip\n"
     ]
    },
    {
     "name": "stderr",
     "output_type": "stream",
     "text": [
      "/var/folders/f3/vhjrz95x7zb97qbtlcxtjx0c0000gn/T/ipykernel_1032/3511579794.py:5: DtypeWarning: Columns (15) have mixed types. Specify dtype option on import or set low_memory=False.\n",
      "  tmp_df = pd.read_csv(file, compression=\"gzip\", header=0, index_col=0)\n"
     ]
    },
    {
     "name": "stdout",
     "output_type": "stream",
     "text": [
      "Reading in /Users/rishitajain/Downloads/archive/apr0430.csv.gzip\n"
     ]
    },
    {
     "name": "stderr",
     "output_type": "stream",
     "text": [
      "/var/folders/f3/vhjrz95x7zb97qbtlcxtjx0c0000gn/T/ipykernel_1032/3511579794.py:5: DtypeWarning: Columns (15) have mixed types. Specify dtype option on import or set low_memory=False.\n",
      "  tmp_df = pd.read_csv(file, compression=\"gzip\", header=0, index_col=0)\n"
     ]
    },
    {
     "name": "stdout",
     "output_type": "stream",
     "text": [
      "Concatenating the DataFrames\n",
      "Concatenation complete!\n"
     ]
    }
   ],
   "source": [
    "tmp_df_list = []\n",
    "for file in apr_files:\n",
    "    print(f\"Reading in {file}\")\n",
    "    # unzip and read in the csv file as a dataframe\n",
    "    tmp_df = pd.read_csv(file, compression=\"gzip\", header=0, index_col=0)\n",
    "    # append dataframe to temp list\n",
    "    tmp_df_list.append(tmp_df)\n",
    "\n",
    "print(\"Concatenating the DataFrames\")\n",
    "# concatenate the dataframes in the temp list row-wise\n",
    "apr_df= pd.concat(tmp_df_list, axis=0)\n",
    "print(\"Concatenation complete!\")"
   ]
  },
  {
   "cell_type": "code",
   "execution_count": null,
   "id": "1aeec834-c286-4abe-bfa7-da5a1cfa656c",
   "metadata": {},
   "outputs": [
    {
     "name": "stdout",
     "output_type": "stream",
     "text": [
      "Reading in /Users/rishitajain/Downloads/archive/may0501.csv.gzip\n",
      "Reading in /Users/rishitajain/Downloads/archive/may0502.csv.gzip\n"
     ]
    },
    {
     "name": "stderr",
     "output_type": "stream",
     "text": [
      "/var/folders/f3/vhjrz95x7zb97qbtlcxtjx0c0000gn/T/ipykernel_10584/3976406661.py:5: DtypeWarning: Columns (15) have mixed types. Specify dtype option on import or set low_memory=False.\n",
      "  tmp_df = pd.read_csv(file, compression=\"gzip\", header=0, index_col=0)\n"
     ]
    },
    {
     "name": "stdout",
     "output_type": "stream",
     "text": [
      "Reading in /Users/rishitajain/Downloads/archive/may0503.csv.gzip\n",
      "Reading in /Users/rishitajain/Downloads/archive/may0504.csv.gzip\n",
      "Reading in /Users/rishitajain/Downloads/archive/may0505.csv.gzip\n",
      "Reading in /Users/rishitajain/Downloads/archive/may0508.csv.gzip\n",
      "Reading in /Users/rishitajain/Downloads/archive/may0509.csv.gzip\n"
     ]
    },
    {
     "name": "stderr",
     "output_type": "stream",
     "text": [
      "/var/folders/f3/vhjrz95x7zb97qbtlcxtjx0c0000gn/T/ipykernel_10584/3976406661.py:5: DtypeWarning: Columns (15) have mixed types. Specify dtype option on import or set low_memory=False.\n",
      "  tmp_df = pd.read_csv(file, compression=\"gzip\", header=0, index_col=0)\n"
     ]
    },
    {
     "name": "stdout",
     "output_type": "stream",
     "text": [
      "Reading in /Users/rishitajain/Downloads/archive/may0510.csv.gzip\n",
      "Reading in /Users/rishitajain/Downloads/archive/may0511.csv.gzip\n",
      "Reading in /Users/rishitajain/Downloads/archive/may0512.csv.gzip\n",
      "Reading in /Users/rishitajain/Downloads/archive/may0513.csv.gzip\n",
      "Reading in /Users/rishitajain/Downloads/archive/may0514.csv.gzip\n",
      "Reading in /Users/rishitajain/Downloads/archive/may0515.csv.gzip\n"
     ]
    }
   ],
   "source": [
    "tmp_df_list = []\n",
    "for file in may_files:\n",
    "    print(f\"Reading in {file}\")\n",
    "    # unzip and read in the csv file as a dataframe\n",
    "    tmp_df = pd.read_csv(file, compression=\"gzip\", header=0, index_col=0)\n",
    "    # append dataframe to temp list\n",
    "    tmp_df_list.append(tmp_df)\n",
    "\n",
    "print(\"Concatenating the DataFrames\")\n",
    "# concatenate the dataframes in the temp list row-wise\n",
    "may_df= pd.concat(tmp_df_list, axis=0)\n",
    "print(\"Concatenation complete!\")"
   ]
  },
  {
   "cell_type": "code",
   "execution_count": 15,
   "id": "5623f2f6-219f-4a56-afab-bfa011fc7f77",
   "metadata": {},
   "outputs": [
    {
     "data": {
      "text/html": [
       "<div>\n",
       "<style scoped>\n",
       "    .dataframe tbody tr th:only-of-type {\n",
       "        vertical-align: middle;\n",
       "    }\n",
       "\n",
       "    .dataframe tbody tr th {\n",
       "        vertical-align: top;\n",
       "    }\n",
       "\n",
       "    .dataframe thead th {\n",
       "        text-align: right;\n",
       "    }\n",
       "</style>\n",
       "<table border=\"1\" class=\"dataframe\">\n",
       "  <thead>\n",
       "    <tr style=\"text-align: right;\">\n",
       "      <th></th>\n",
       "      <th>userid</th>\n",
       "      <th>username</th>\n",
       "      <th>acctdesc</th>\n",
       "      <th>location</th>\n",
       "      <th>following</th>\n",
       "      <th>followers</th>\n",
       "      <th>totaltweets</th>\n",
       "      <th>usercreatedts</th>\n",
       "      <th>tweetid</th>\n",
       "      <th>tweetcreatedts</th>\n",
       "      <th>retweetcount</th>\n",
       "      <th>text</th>\n",
       "      <th>hashtags</th>\n",
       "      <th>language</th>\n",
       "      <th>coordinates</th>\n",
       "      <th>favorite_count</th>\n",
       "      <th>extractedts</th>\n",
       "    </tr>\n",
       "  </thead>\n",
       "  <tbody>\n",
       "    <tr>\n",
       "      <th>1141800</th>\n",
       "      <td>1466752038960656385</td>\n",
       "      <td>Curtin2Tiffany</td>\n",
       "      <td>I am just like everyone else.  The universe ex...</td>\n",
       "      <td>Colorado, USA</td>\n",
       "      <td>253</td>\n",
       "      <td>40</td>\n",
       "      <td>94</td>\n",
       "      <td>2021-12-03 12:52:22.000000</td>\n",
       "      <td>1497724980259262467</td>\n",
       "      <td>2022-02-27 00:07:16</td>\n",
       "      <td>5</td>\n",
       "      <td>#UkraineRussiaWar Captured Russian soldiers\\n\\...</td>\n",
       "      <td>[{'text': 'UkraineRussiaWar', 'indices': [19, ...</td>\n",
       "      <td>en</td>\n",
       "      <td>NaN</td>\n",
       "      <td>0</td>\n",
       "      <td>2022-02-27 00:09:33.084131</td>\n",
       "    </tr>\n",
       "    <tr>\n",
       "      <th>1141801</th>\n",
       "      <td>1111276809302216710</td>\n",
       "      <td>5ela60</td>\n",
       "      <td>الأب ..الأخ ..الجار ..الحبيب .. السديك</td>\n",
       "      <td>NaN</td>\n",
       "      <td>167</td>\n",
       "      <td>9</td>\n",
       "      <td>656</td>\n",
       "      <td>2019-03-28 14:40:12.000000</td>\n",
       "      <td>1497724980271984641</td>\n",
       "      <td>2022-02-27 00:07:16</td>\n",
       "      <td>28</td>\n",
       "      <td>Like everybody else I am rooting for Ukraine t...</td>\n",
       "      <td>[]</td>\n",
       "      <td>en</td>\n",
       "      <td>NaN</td>\n",
       "      <td>0</td>\n",
       "      <td>2022-02-27 00:09:33.068011</td>\n",
       "    </tr>\n",
       "    <tr>\n",
       "      <th>1141802</th>\n",
       "      <td>1364735420236505088</td>\n",
       "      <td>StatistWomen</td>\n",
       "      <td>🇹🇷</td>\n",
       "      <td>Cumhur İttifakı</td>\n",
       "      <td>1771</td>\n",
       "      <td>1766</td>\n",
       "      <td>37009</td>\n",
       "      <td>2021-02-25 00:35:28.000000</td>\n",
       "      <td>1497724980322349058</td>\n",
       "      <td>2022-02-27 00:07:16</td>\n",
       "      <td>3</td>\n",
       "      <td>#Ukrayna Güvenlik Servisi, #Rus finosu #Kadiro...</td>\n",
       "      <td>[{'text': 'Ukrayna', 'indices': [15, 23]}, {'t...</td>\n",
       "      <td>tr</td>\n",
       "      <td>NaN</td>\n",
       "      <td>0</td>\n",
       "      <td>2022-02-27 00:09:33.059979</td>\n",
       "    </tr>\n",
       "    <tr>\n",
       "      <th>1141803</th>\n",
       "      <td>597779527</td>\n",
       "      <td>OurTurnToRescue</td>\n",
       "      <td>Issues: Threats to Democracy, Racism, GOP corr...</td>\n",
       "      <td>NaN</td>\n",
       "      <td>4847</td>\n",
       "      <td>4080</td>\n",
       "      <td>33666</td>\n",
       "      <td>2012-06-02 21:53:59.000000</td>\n",
       "      <td>1497724980573966346</td>\n",
       "      <td>2022-02-27 00:07:16</td>\n",
       "      <td>1</td>\n",
       "      <td>We elected a game show host and got a clown. #...</td>\n",
       "      <td>[{'text': 'Ukraine', 'indices': [63, 71]}]</td>\n",
       "      <td>en</td>\n",
       "      <td>NaN</td>\n",
       "      <td>0</td>\n",
       "      <td>2022-02-27 00:09:33.051823</td>\n",
       "    </tr>\n",
       "    <tr>\n",
       "      <th>1141804</th>\n",
       "      <td>1646145848</td>\n",
       "      <td>DrWAVeSportCd1</td>\n",
       "      <td>Addicted to News, Music, Cooking, Gardens, Out...</td>\n",
       "      <td>USA</td>\n",
       "      <td>5002</td>\n",
       "      <td>3950</td>\n",
       "      <td>466629</td>\n",
       "      <td>2013-08-04 21:07:08.000000</td>\n",
       "      <td>1497724980653694976</td>\n",
       "      <td>2022-02-27 00:07:16</td>\n",
       "      <td>277</td>\n",
       "      <td>Ukrainian soldiers wearing sunflowers in their...</td>\n",
       "      <td>[{'text': 'Ukraine', 'indices': [122, 130]}, {...</td>\n",
       "      <td>en</td>\n",
       "      <td>NaN</td>\n",
       "      <td>0</td>\n",
       "      <td>2022-02-27 00:09:33.043812</td>\n",
       "    </tr>\n",
       "    <tr>\n",
       "      <th>...</th>\n",
       "      <td>...</td>\n",
       "      <td>...</td>\n",
       "      <td>...</td>\n",
       "      <td>...</td>\n",
       "      <td>...</td>\n",
       "      <td>...</td>\n",
       "      <td>...</td>\n",
       "      <td>...</td>\n",
       "      <td>...</td>\n",
       "      <td>...</td>\n",
       "      <td>...</td>\n",
       "      <td>...</td>\n",
       "      <td>...</td>\n",
       "      <td>...</td>\n",
       "      <td>...</td>\n",
       "      <td>...</td>\n",
       "      <td>...</td>\n",
       "    </tr>\n",
       "    <tr>\n",
       "      <th>140379</th>\n",
       "      <td>17185461</td>\n",
       "      <td>cratylus</td>\n",
       "      <td>Programmer interested in Philosophy,Maths and ...</td>\n",
       "      <td>Perth, Australia</td>\n",
       "      <td>661</td>\n",
       "      <td>955</td>\n",
       "      <td>13348</td>\n",
       "      <td>2008-11-05 09:20:13.000000</td>\n",
       "      <td>1498440721015078914</td>\n",
       "      <td>2022-02-28 23:31:22</td>\n",
       "      <td>9</td>\n",
       "      <td>✍️The fifth day of Russian Invasion - summary ...</td>\n",
       "      <td>[]</td>\n",
       "      <td>en</td>\n",
       "      <td>NaN</td>\n",
       "      <td>0</td>\n",
       "      <td>2022-02-28 23:32:03.485217</td>\n",
       "    </tr>\n",
       "    <tr>\n",
       "      <th>140380</th>\n",
       "      <td>3314420144</td>\n",
       "      <td>DyNEn_L</td>\n",
       "      <td>ก็รักไปแล้ว จะให้กูทำยังไง🍋🍊\\nสถานะ:ตายในหน้าท...</td>\n",
       "      <td>หาเจอได้ตามป่า</td>\n",
       "      <td>472</td>\n",
       "      <td>106</td>\n",
       "      <td>95050</td>\n",
       "      <td>2015-08-13 14:26:37.000000</td>\n",
       "      <td>1498440721019600897</td>\n",
       "      <td>2022-02-28 23:31:22</td>\n",
       "      <td>4199</td>\n",
       "      <td>สวิสเซอร์แลนด์หยุดเป็นกลาง\\nอายัดทรัพย์สินปูติ...</td>\n",
       "      <td>[]</td>\n",
       "      <td>th</td>\n",
       "      <td>NaN</td>\n",
       "      <td>0</td>\n",
       "      <td>2022-02-28 23:32:03.470264</td>\n",
       "    </tr>\n",
       "    <tr>\n",
       "      <th>140381</th>\n",
       "      <td>979378741884407810</td>\n",
       "      <td>son_sonnnn</td>\n",
       "      <td>NaN</td>\n",
       "      <td>NaN</td>\n",
       "      <td>158</td>\n",
       "      <td>13</td>\n",
       "      <td>576</td>\n",
       "      <td>2018-03-29 15:24:22.000000</td>\n",
       "      <td>1498440721157787648</td>\n",
       "      <td>2022-02-28 23:31:22</td>\n",
       "      <td>12</td>\n",
       "      <td>🇺🇦 Как работают диверсионные маячки!\\n\\n#Украи...</td>\n",
       "      <td>[{'text': 'Украина', 'indices': [54, 62]}, {'t...</td>\n",
       "      <td>ru</td>\n",
       "      <td>NaN</td>\n",
       "      <td>0</td>\n",
       "      <td>2022-02-28 23:32:03.463382</td>\n",
       "    </tr>\n",
       "    <tr>\n",
       "      <th>140382</th>\n",
       "      <td>324746604</td>\n",
       "      <td>OS_Beaver</td>\n",
       "      <td>Huge Oregon State Beavers fan!  Time for the R...</td>\n",
       "      <td>Oregon</td>\n",
       "      <td>2813</td>\n",
       "      <td>392</td>\n",
       "      <td>7459</td>\n",
       "      <td>2011-06-27 04:24:42.000000</td>\n",
       "      <td>1498440721459679234</td>\n",
       "      <td>2022-02-28 23:31:22</td>\n",
       "      <td>597</td>\n",
       "      <td>Mayor of Kharkiv: many dead and wounded during...</td>\n",
       "      <td>[]</td>\n",
       "      <td>en</td>\n",
       "      <td>NaN</td>\n",
       "      <td>0</td>\n",
       "      <td>2022-02-28 23:32:03.448230</td>\n",
       "    </tr>\n",
       "    <tr>\n",
       "      <th>140383</th>\n",
       "      <td>2770429273</td>\n",
       "      <td>quovadisschland</td>\n",
       "      <td>WIR,Franzl,Kaiser v.Österreich u.König v.Ungar...</td>\n",
       "      <td>Deutschland</td>\n",
       "      <td>838</td>\n",
       "      <td>440</td>\n",
       "      <td>37737</td>\n",
       "      <td>2014-08-26 16:32:10.000000</td>\n",
       "      <td>1498440722235772935</td>\n",
       "      <td>2022-02-28 23:31:22</td>\n",
       "      <td>11</td>\n",
       "      <td>Mehrheit der Finnen ist für #NATO-Beitritt Fin...</td>\n",
       "      <td>[{'text': 'NATO', 'indices': [47, 52]}, {'text...</td>\n",
       "      <td>de</td>\n",
       "      <td>NaN</td>\n",
       "      <td>0</td>\n",
       "      <td>2022-02-28 23:32:03.432742</td>\n",
       "    </tr>\n",
       "  </tbody>\n",
       "</table>\n",
       "<p>735189 rows × 17 columns</p>\n",
       "</div>"
      ],
      "text/plain": [
       "                      userid         username  \\\n",
       "1141800  1466752038960656385   Curtin2Tiffany   \n",
       "1141801  1111276809302216710           5ela60   \n",
       "1141802  1364735420236505088     StatistWomen   \n",
       "1141803            597779527  OurTurnToRescue   \n",
       "1141804           1646145848   DrWAVeSportCd1   \n",
       "...                      ...              ...   \n",
       "140379              17185461         cratylus   \n",
       "140380            3314420144          DyNEn_L   \n",
       "140381    979378741884407810       son_sonnnn   \n",
       "140382             324746604        OS_Beaver   \n",
       "140383            2770429273  quovadisschland   \n",
       "\n",
       "                                                  acctdesc          location  \\\n",
       "1141800  I am just like everyone else.  The universe ex...     Colorado, USA   \n",
       "1141801             الأب ..الأخ ..الجار ..الحبيب .. السديك               NaN   \n",
       "1141802                                                 🇹🇷   Cumhur İttifakı   \n",
       "1141803  Issues: Threats to Democracy, Racism, GOP corr...               NaN   \n",
       "1141804  Addicted to News, Music, Cooking, Gardens, Out...               USA   \n",
       "...                                                    ...               ...   \n",
       "140379   Programmer interested in Philosophy,Maths and ...  Perth, Australia   \n",
       "140380   ก็รักไปแล้ว จะให้กูทำยังไง🍋🍊\\nสถานะ:ตายในหน้าท...    หาเจอได้ตามป่า   \n",
       "140381                                                 NaN               NaN   \n",
       "140382   Huge Oregon State Beavers fan!  Time for the R...            Oregon   \n",
       "140383   WIR,Franzl,Kaiser v.Österreich u.König v.Ungar...       Deutschland   \n",
       "\n",
       "         following  followers  totaltweets               usercreatedts  \\\n",
       "1141800        253         40           94  2021-12-03 12:52:22.000000   \n",
       "1141801        167          9          656  2019-03-28 14:40:12.000000   \n",
       "1141802       1771       1766        37009  2021-02-25 00:35:28.000000   \n",
       "1141803       4847       4080        33666  2012-06-02 21:53:59.000000   \n",
       "1141804       5002       3950       466629  2013-08-04 21:07:08.000000   \n",
       "...            ...        ...          ...                         ...   \n",
       "140379         661        955        13348  2008-11-05 09:20:13.000000   \n",
       "140380         472        106        95050  2015-08-13 14:26:37.000000   \n",
       "140381         158         13          576  2018-03-29 15:24:22.000000   \n",
       "140382        2813        392         7459  2011-06-27 04:24:42.000000   \n",
       "140383         838        440        37737  2014-08-26 16:32:10.000000   \n",
       "\n",
       "                     tweetid       tweetcreatedts  retweetcount  \\\n",
       "1141800  1497724980259262467  2022-02-27 00:07:16             5   \n",
       "1141801  1497724980271984641  2022-02-27 00:07:16            28   \n",
       "1141802  1497724980322349058  2022-02-27 00:07:16             3   \n",
       "1141803  1497724980573966346  2022-02-27 00:07:16             1   \n",
       "1141804  1497724980653694976  2022-02-27 00:07:16           277   \n",
       "...                      ...                  ...           ...   \n",
       "140379   1498440721015078914  2022-02-28 23:31:22             9   \n",
       "140380   1498440721019600897  2022-02-28 23:31:22          4199   \n",
       "140381   1498440721157787648  2022-02-28 23:31:22            12   \n",
       "140382   1498440721459679234  2022-02-28 23:31:22           597   \n",
       "140383   1498440722235772935  2022-02-28 23:31:22            11   \n",
       "\n",
       "                                                      text  \\\n",
       "1141800  #UkraineRussiaWar Captured Russian soldiers\\n\\...   \n",
       "1141801  Like everybody else I am rooting for Ukraine t...   \n",
       "1141802  #Ukrayna Güvenlik Servisi, #Rus finosu #Kadiro...   \n",
       "1141803  We elected a game show host and got a clown. #...   \n",
       "1141804  Ukrainian soldiers wearing sunflowers in their...   \n",
       "...                                                    ...   \n",
       "140379   ✍️The fifth day of Russian Invasion - summary ...   \n",
       "140380   สวิสเซอร์แลนด์หยุดเป็นกลาง\\nอายัดทรัพย์สินปูติ...   \n",
       "140381   🇺🇦 Как работают диверсионные маячки!\\n\\n#Украи...   \n",
       "140382   Mayor of Kharkiv: many dead and wounded during...   \n",
       "140383   Mehrheit der Finnen ist für #NATO-Beitritt Fin...   \n",
       "\n",
       "                                                  hashtags language  \\\n",
       "1141800  [{'text': 'UkraineRussiaWar', 'indices': [19, ...       en   \n",
       "1141801                                                 []       en   \n",
       "1141802  [{'text': 'Ukrayna', 'indices': [15, 23]}, {'t...       tr   \n",
       "1141803         [{'text': 'Ukraine', 'indices': [63, 71]}]       en   \n",
       "1141804  [{'text': 'Ukraine', 'indices': [122, 130]}, {...       en   \n",
       "...                                                    ...      ...   \n",
       "140379                                                  []       en   \n",
       "140380                                                  []       th   \n",
       "140381   [{'text': 'Украина', 'indices': [54, 62]}, {'t...       ru   \n",
       "140382                                                  []       en   \n",
       "140383   [{'text': 'NATO', 'indices': [47, 52]}, {'text...       de   \n",
       "\n",
       "        coordinates  favorite_count                 extractedts  \n",
       "1141800         NaN               0  2022-02-27 00:09:33.084131  \n",
       "1141801         NaN               0  2022-02-27 00:09:33.068011  \n",
       "1141802         NaN               0  2022-02-27 00:09:33.059979  \n",
       "1141803         NaN               0  2022-02-27 00:09:33.051823  \n",
       "1141804         NaN               0  2022-02-27 00:09:33.043812  \n",
       "...             ...             ...                         ...  \n",
       "140379          NaN               0  2022-02-28 23:32:03.485217  \n",
       "140380          NaN               0  2022-02-28 23:32:03.470264  \n",
       "140381          NaN               0  2022-02-28 23:32:03.463382  \n",
       "140382          NaN               0  2022-02-28 23:32:03.448230  \n",
       "140383          NaN               0  2022-02-28 23:32:03.432742  \n",
       "\n",
       "[735189 rows x 17 columns]"
      ]
     },
     "execution_count": 15,
     "metadata": {},
     "output_type": "execute_result"
    }
   ],
   "source": [
    "feb_df"
   ]
  },
  {
   "cell_type": "code",
   "execution_count": 16,
   "id": "b682c8b1-7969-47fc-944b-529e40bd4e9d",
   "metadata": {},
   "outputs": [
    {
     "data": {
      "text/html": [
       "<div>\n",
       "<style scoped>\n",
       "    .dataframe tbody tr th:only-of-type {\n",
       "        vertical-align: middle;\n",
       "    }\n",
       "\n",
       "    .dataframe tbody tr th {\n",
       "        vertical-align: top;\n",
       "    }\n",
       "\n",
       "    .dataframe thead th {\n",
       "        text-align: right;\n",
       "    }\n",
       "</style>\n",
       "<table border=\"1\" class=\"dataframe\">\n",
       "  <thead>\n",
       "    <tr style=\"text-align: right;\">\n",
       "      <th></th>\n",
       "      <th>userid</th>\n",
       "      <th>username</th>\n",
       "      <th>acctdesc</th>\n",
       "      <th>location</th>\n",
       "      <th>following</th>\n",
       "      <th>followers</th>\n",
       "      <th>totaltweets</th>\n",
       "      <th>usercreatedts</th>\n",
       "      <th>tweetid</th>\n",
       "      <th>tweetcreatedts</th>\n",
       "      <th>...</th>\n",
       "      <th>original_tweet_id</th>\n",
       "      <th>original_tweet_userid</th>\n",
       "      <th>original_tweet_username</th>\n",
       "      <th>in_reply_to_status_id</th>\n",
       "      <th>in_reply_to_user_id</th>\n",
       "      <th>in_reply_to_screen_name</th>\n",
       "      <th>is_quote_status</th>\n",
       "      <th>quoted_status_id</th>\n",
       "      <th>quoted_status_userid</th>\n",
       "      <th>quoted_status_username</th>\n",
       "    </tr>\n",
       "  </thead>\n",
       "  <tbody>\n",
       "    <tr>\n",
       "      <th>0</th>\n",
       "      <td>16882774</td>\n",
       "      <td>Yaniela</td>\n",
       "      <td>Animal lover, supports those who fight injusti...</td>\n",
       "      <td>Hawaii</td>\n",
       "      <td>1158</td>\n",
       "      <td>392</td>\n",
       "      <td>88366</td>\n",
       "      <td>2008-10-21 07:34:04.000000</td>\n",
       "      <td>1509681950042198030</td>\n",
       "      <td>2022-04-01 00:00:00.000000</td>\n",
       "      <td>...</td>\n",
       "      <td>NaN</td>\n",
       "      <td>NaN</td>\n",
       "      <td>NaN</td>\n",
       "      <td>NaN</td>\n",
       "      <td>NaN</td>\n",
       "      <td>NaN</td>\n",
       "      <td>NaN</td>\n",
       "      <td>NaN</td>\n",
       "      <td>NaN</td>\n",
       "      <td>NaN</td>\n",
       "    </tr>\n",
       "    <tr>\n",
       "      <th>1</th>\n",
       "      <td>3205296069</td>\n",
       "      <td>gregffff</td>\n",
       "      <td>NaN</td>\n",
       "      <td>NaN</td>\n",
       "      <td>122</td>\n",
       "      <td>881</td>\n",
       "      <td>99853</td>\n",
       "      <td>2015-04-25 11:24:34.000000</td>\n",
       "      <td>1509681950151348229</td>\n",
       "      <td>2022-04-01 00:00:00.000000</td>\n",
       "      <td>...</td>\n",
       "      <td>NaN</td>\n",
       "      <td>NaN</td>\n",
       "      <td>NaN</td>\n",
       "      <td>NaN</td>\n",
       "      <td>NaN</td>\n",
       "      <td>NaN</td>\n",
       "      <td>NaN</td>\n",
       "      <td>NaN</td>\n",
       "      <td>NaN</td>\n",
       "      <td>NaN</td>\n",
       "    </tr>\n",
       "    <tr>\n",
       "      <th>2</th>\n",
       "      <td>1235940869812809728</td>\n",
       "      <td>ThanapornThon17</td>\n",
       "      <td>เล่นไวโอลิน\\nพูดภาษาจีน</td>\n",
       "      <td>NaN</td>\n",
       "      <td>231</td>\n",
       "      <td>72</td>\n",
       "      <td>5481</td>\n",
       "      <td>2020-03-06 14:52:01.000000</td>\n",
       "      <td>1509681950683926556</td>\n",
       "      <td>2022-04-01 00:00:00.000000</td>\n",
       "      <td>...</td>\n",
       "      <td>NaN</td>\n",
       "      <td>NaN</td>\n",
       "      <td>NaN</td>\n",
       "      <td>NaN</td>\n",
       "      <td>NaN</td>\n",
       "      <td>NaN</td>\n",
       "      <td>NaN</td>\n",
       "      <td>NaN</td>\n",
       "      <td>NaN</td>\n",
       "      <td>NaN</td>\n",
       "    </tr>\n",
       "    <tr>\n",
       "      <th>3</th>\n",
       "      <td>1347985375566966784</td>\n",
       "      <td>I_Protest_2021</td>\n",
       "      <td>01000001 01101110 01101111 01101110 01111001 0...</td>\n",
       "      <td>International Web Zone</td>\n",
       "      <td>399</td>\n",
       "      <td>377</td>\n",
       "      <td>301</td>\n",
       "      <td>2021-01-09 19:15:44.000000</td>\n",
       "      <td>1509681951116046336</td>\n",
       "      <td>2022-04-01 00:00:00.000000</td>\n",
       "      <td>...</td>\n",
       "      <td>NaN</td>\n",
       "      <td>NaN</td>\n",
       "      <td>NaN</td>\n",
       "      <td>NaN</td>\n",
       "      <td>NaN</td>\n",
       "      <td>NaN</td>\n",
       "      <td>NaN</td>\n",
       "      <td>NaN</td>\n",
       "      <td>NaN</td>\n",
       "      <td>NaN</td>\n",
       "    </tr>\n",
       "    <tr>\n",
       "      <th>4</th>\n",
       "      <td>1505394816636846083</td>\n",
       "      <td>Marsh_Win_01</td>\n",
       "      <td>🌿@Pickaw @TWITTERPICKER 🌿Winning isn’t everyth...</td>\n",
       "      <td>Hunter Account</td>\n",
       "      <td>158</td>\n",
       "      <td>25</td>\n",
       "      <td>8982</td>\n",
       "      <td>2022-03-20 04:04:40.000000</td>\n",
       "      <td>1509681951304990720</td>\n",
       "      <td>2022-04-01 00:00:00.000000</td>\n",
       "      <td>...</td>\n",
       "      <td>NaN</td>\n",
       "      <td>NaN</td>\n",
       "      <td>NaN</td>\n",
       "      <td>NaN</td>\n",
       "      <td>NaN</td>\n",
       "      <td>NaN</td>\n",
       "      <td>NaN</td>\n",
       "      <td>NaN</td>\n",
       "      <td>NaN</td>\n",
       "      <td>NaN</td>\n",
       "    </tr>\n",
       "    <tr>\n",
       "      <th>...</th>\n",
       "      <td>...</td>\n",
       "      <td>...</td>\n",
       "      <td>...</td>\n",
       "      <td>...</td>\n",
       "      <td>...</td>\n",
       "      <td>...</td>\n",
       "      <td>...</td>\n",
       "      <td>...</td>\n",
       "      <td>...</td>\n",
       "      <td>...</td>\n",
       "      <td>...</td>\n",
       "      <td>...</td>\n",
       "      <td>...</td>\n",
       "      <td>...</td>\n",
       "      <td>...</td>\n",
       "      <td>...</td>\n",
       "      <td>...</td>\n",
       "      <td>...</td>\n",
       "      <td>...</td>\n",
       "      <td>...</td>\n",
       "      <td>...</td>\n",
       "    </tr>\n",
       "    <tr>\n",
       "      <th>328070</th>\n",
       "      <td>1499160290121981956</td>\n",
       "      <td>Mlat62133772</td>\n",
       "      <td>Fighting against #WeaponizedRapeInTigray\\nትግራይ...</td>\n",
       "      <td>NaN</td>\n",
       "      <td>1122</td>\n",
       "      <td>1114</td>\n",
       "      <td>42941</td>\n",
       "      <td>2022-03-02 23:12:02.000000</td>\n",
       "      <td>1520553580796784642</td>\n",
       "      <td>2022-04-30 23:59:58.000000</td>\n",
       "      <td>...</td>\n",
       "      <td>1.519294e+18</td>\n",
       "      <td>1.491434e+18</td>\n",
       "      <td>kinghacker86</td>\n",
       "      <td>0.0</td>\n",
       "      <td>0.0</td>\n",
       "      <td>NaN</td>\n",
       "      <td>False</td>\n",
       "      <td>0.0</td>\n",
       "      <td>0.0</td>\n",
       "      <td>NaN</td>\n",
       "    </tr>\n",
       "    <tr>\n",
       "      <th>328071</th>\n",
       "      <td>1493385267901833218</td>\n",
       "      <td>Kisanet13989143</td>\n",
       "      <td>ውግሕ ክትብል ምድሪ ብብስራት ፀሓይ ከመይ ሓዲራ እብል እሓተልኪ ደሃይ!</td>\n",
       "      <td>NaN</td>\n",
       "      <td>1001</td>\n",
       "      <td>350</td>\n",
       "      <td>24626</td>\n",
       "      <td>2022-02-15 00:43:09.000000</td>\n",
       "      <td>1520553580884905987</td>\n",
       "      <td>2022-04-30 23:59:58.000000</td>\n",
       "      <td>...</td>\n",
       "      <td>1.520497e+18</td>\n",
       "      <td>1.498988e+18</td>\n",
       "      <td>Mulu999344782</td>\n",
       "      <td>0.0</td>\n",
       "      <td>0.0</td>\n",
       "      <td>NaN</td>\n",
       "      <td>False</td>\n",
       "      <td>0.0</td>\n",
       "      <td>0.0</td>\n",
       "      <td>NaN</td>\n",
       "    </tr>\n",
       "    <tr>\n",
       "      <th>328072</th>\n",
       "      <td>3357427702</td>\n",
       "      <td>b1e56df9ce6549f</td>\n",
       "      <td>human being, person, individual, coen bros. ch...</td>\n",
       "      <td>usa</td>\n",
       "      <td>5858</td>\n",
       "      <td>5506</td>\n",
       "      <td>921596</td>\n",
       "      <td>2015-07-03 20:03:56.000000</td>\n",
       "      <td>1520553583892119552</td>\n",
       "      <td>2022-04-30 23:59:59.000000</td>\n",
       "      <td>...</td>\n",
       "      <td>1.512415e+18</td>\n",
       "      <td>1.199768e+18</td>\n",
       "      <td>kk131066</td>\n",
       "      <td>0.0</td>\n",
       "      <td>0.0</td>\n",
       "      <td>NaN</td>\n",
       "      <td>False</td>\n",
       "      <td>0.0</td>\n",
       "      <td>0.0</td>\n",
       "      <td>NaN</td>\n",
       "    </tr>\n",
       "    <tr>\n",
       "      <th>328073</th>\n",
       "      <td>1511397942942384134</td>\n",
       "      <td>Yohanes45682079</td>\n",
       "      <td>ትግራይ ትስዕር</td>\n",
       "      <td>NaN</td>\n",
       "      <td>559</td>\n",
       "      <td>393</td>\n",
       "      <td>37449</td>\n",
       "      <td>2022-04-05 17:39:27.000000</td>\n",
       "      <td>1520553584768786434</td>\n",
       "      <td>2022-04-30 23:59:59.000000</td>\n",
       "      <td>...</td>\n",
       "      <td>1.520461e+18</td>\n",
       "      <td>1.506753e+18</td>\n",
       "      <td>wukro_gual</td>\n",
       "      <td>0.0</td>\n",
       "      <td>0.0</td>\n",
       "      <td>NaN</td>\n",
       "      <td>False</td>\n",
       "      <td>0.0</td>\n",
       "      <td>0.0</td>\n",
       "      <td>NaN</td>\n",
       "    </tr>\n",
       "    <tr>\n",
       "      <th>328074</th>\n",
       "      <td>1306727408326733824</td>\n",
       "      <td>MrJeffSorensen</td>\n",
       "      <td>🇺🇦 Amateur lyricist who enjoys putting lyrics ...</td>\n",
       "      <td>Bremerton, WA</td>\n",
       "      <td>614</td>\n",
       "      <td>276</td>\n",
       "      <td>3018</td>\n",
       "      <td>2020-09-17 22:51:52.000000</td>\n",
       "      <td>1520553585091788811</td>\n",
       "      <td>2022-04-30 23:59:59.000000</td>\n",
       "      <td>...</td>\n",
       "      <td>1.520480e+18</td>\n",
       "      <td>7.201397e+08</td>\n",
       "      <td>HannaLiubakova</td>\n",
       "      <td>0.0</td>\n",
       "      <td>0.0</td>\n",
       "      <td>NaN</td>\n",
       "      <td>False</td>\n",
       "      <td>0.0</td>\n",
       "      <td>0.0</td>\n",
       "      <td>NaN</td>\n",
       "    </tr>\n",
       "  </tbody>\n",
       "</table>\n",
       "<p>11107791 rows × 28 columns</p>\n",
       "</div>"
      ],
      "text/plain": [
       "                     userid         username  \\\n",
       "0                  16882774          Yaniela   \n",
       "1                3205296069         gregffff   \n",
       "2       1235940869812809728  ThanapornThon17   \n",
       "3       1347985375566966784   I_Protest_2021   \n",
       "4       1505394816636846083     Marsh_Win_01   \n",
       "...                     ...              ...   \n",
       "328070  1499160290121981956     Mlat62133772   \n",
       "328071  1493385267901833218  Kisanet13989143   \n",
       "328072           3357427702  b1e56df9ce6549f   \n",
       "328073  1511397942942384134  Yohanes45682079   \n",
       "328074  1306727408326733824   MrJeffSorensen   \n",
       "\n",
       "                                                 acctdesc  \\\n",
       "0       Animal lover, supports those who fight injusti...   \n",
       "1                                                     NaN   \n",
       "2                                 เล่นไวโอลิน\\nพูดภาษาจีน   \n",
       "3       01000001 01101110 01101111 01101110 01111001 0...   \n",
       "4       🌿@Pickaw @TWITTERPICKER 🌿Winning isn’t everyth...   \n",
       "...                                                   ...   \n",
       "328070  Fighting against #WeaponizedRapeInTigray\\nትግራይ...   \n",
       "328071      ውግሕ ክትብል ምድሪ ብብስራት ፀሓይ ከመይ ሓዲራ እብል እሓተልኪ ደሃይ!   \n",
       "328072  human being, person, individual, coen bros. ch...   \n",
       "328073                                          ትግራይ ትስዕር   \n",
       "328074  🇺🇦 Amateur lyricist who enjoys putting lyrics ...   \n",
       "\n",
       "                      location  following  followers  totaltweets  \\\n",
       "0                       Hawaii       1158        392        88366   \n",
       "1                          NaN        122        881        99853   \n",
       "2                          NaN        231         72         5481   \n",
       "3       International Web Zone        399        377          301   \n",
       "4               Hunter Account        158         25         8982   \n",
       "...                        ...        ...        ...          ...   \n",
       "328070                     NaN       1122       1114        42941   \n",
       "328071                     NaN       1001        350        24626   \n",
       "328072                     usa       5858       5506       921596   \n",
       "328073                     NaN        559        393        37449   \n",
       "328074           Bremerton, WA        614        276         3018   \n",
       "\n",
       "                     usercreatedts              tweetid  \\\n",
       "0       2008-10-21 07:34:04.000000  1509681950042198030   \n",
       "1       2015-04-25 11:24:34.000000  1509681950151348229   \n",
       "2       2020-03-06 14:52:01.000000  1509681950683926556   \n",
       "3       2021-01-09 19:15:44.000000  1509681951116046336   \n",
       "4       2022-03-20 04:04:40.000000  1509681951304990720   \n",
       "...                            ...                  ...   \n",
       "328070  2022-03-02 23:12:02.000000  1520553580796784642   \n",
       "328071  2022-02-15 00:43:09.000000  1520553580884905987   \n",
       "328072  2015-07-03 20:03:56.000000  1520553583892119552   \n",
       "328073  2022-04-05 17:39:27.000000  1520553584768786434   \n",
       "328074  2020-09-17 22:51:52.000000  1520553585091788811   \n",
       "\n",
       "                    tweetcreatedts  ...  original_tweet_id  \\\n",
       "0       2022-04-01 00:00:00.000000  ...                NaN   \n",
       "1       2022-04-01 00:00:00.000000  ...                NaN   \n",
       "2       2022-04-01 00:00:00.000000  ...                NaN   \n",
       "3       2022-04-01 00:00:00.000000  ...                NaN   \n",
       "4       2022-04-01 00:00:00.000000  ...                NaN   \n",
       "...                            ...  ...                ...   \n",
       "328070  2022-04-30 23:59:58.000000  ...       1.519294e+18   \n",
       "328071  2022-04-30 23:59:58.000000  ...       1.520497e+18   \n",
       "328072  2022-04-30 23:59:59.000000  ...       1.512415e+18   \n",
       "328073  2022-04-30 23:59:59.000000  ...       1.520461e+18   \n",
       "328074  2022-04-30 23:59:59.000000  ...       1.520480e+18   \n",
       "\n",
       "       original_tweet_userid original_tweet_username in_reply_to_status_id  \\\n",
       "0                        NaN                     NaN                   NaN   \n",
       "1                        NaN                     NaN                   NaN   \n",
       "2                        NaN                     NaN                   NaN   \n",
       "3                        NaN                     NaN                   NaN   \n",
       "4                        NaN                     NaN                   NaN   \n",
       "...                      ...                     ...                   ...   \n",
       "328070          1.491434e+18            kinghacker86                   0.0   \n",
       "328071          1.498988e+18           Mulu999344782                   0.0   \n",
       "328072          1.199768e+18                kk131066                   0.0   \n",
       "328073          1.506753e+18              wukro_gual                   0.0   \n",
       "328074          7.201397e+08          HannaLiubakova                   0.0   \n",
       "\n",
       "       in_reply_to_user_id  in_reply_to_screen_name is_quote_status  \\\n",
       "0                      NaN                      NaN             NaN   \n",
       "1                      NaN                      NaN             NaN   \n",
       "2                      NaN                      NaN             NaN   \n",
       "3                      NaN                      NaN             NaN   \n",
       "4                      NaN                      NaN             NaN   \n",
       "...                    ...                      ...             ...   \n",
       "328070                 0.0                      NaN           False   \n",
       "328071                 0.0                      NaN           False   \n",
       "328072                 0.0                      NaN           False   \n",
       "328073                 0.0                      NaN           False   \n",
       "328074                 0.0                      NaN           False   \n",
       "\n",
       "       quoted_status_id  quoted_status_userid  quoted_status_username  \n",
       "0                   NaN                   NaN                     NaN  \n",
       "1                   NaN                   NaN                     NaN  \n",
       "2                   NaN                   NaN                     NaN  \n",
       "3                   NaN                   NaN                     NaN  \n",
       "4                   NaN                   NaN                     NaN  \n",
       "...                 ...                   ...                     ...  \n",
       "328070              0.0                   0.0                     NaN  \n",
       "328071              0.0                   0.0                     NaN  \n",
       "328072              0.0                   0.0                     NaN  \n",
       "328073              0.0                   0.0                     NaN  \n",
       "328074              0.0                   0.0                     NaN  \n",
       "\n",
       "[11107791 rows x 28 columns]"
      ]
     },
     "execution_count": 16,
     "metadata": {},
     "output_type": "execute_result"
    }
   ],
   "source": [
    "apr_df"
   ]
  },
  {
   "cell_type": "code",
   "execution_count": 17,
   "id": "92159264-3158-4f9d-88ed-8c5bb7a2f595",
   "metadata": {},
   "outputs": [
    {
     "data": {
      "text/html": [
       "<div>\n",
       "<style scoped>\n",
       "    .dataframe tbody tr th:only-of-type {\n",
       "        vertical-align: middle;\n",
       "    }\n",
       "\n",
       "    .dataframe tbody tr th {\n",
       "        vertical-align: top;\n",
       "    }\n",
       "\n",
       "    .dataframe thead th {\n",
       "        text-align: right;\n",
       "    }\n",
       "</style>\n",
       "<table border=\"1\" class=\"dataframe\">\n",
       "  <thead>\n",
       "    <tr style=\"text-align: right;\">\n",
       "      <th></th>\n",
       "      <th>userid</th>\n",
       "      <th>username</th>\n",
       "      <th>acctdesc</th>\n",
       "      <th>location</th>\n",
       "      <th>following</th>\n",
       "      <th>followers</th>\n",
       "      <th>totaltweets</th>\n",
       "      <th>usercreatedts</th>\n",
       "      <th>tweetid</th>\n",
       "      <th>tweetcreatedts</th>\n",
       "      <th>retweetcount</th>\n",
       "      <th>text</th>\n",
       "      <th>hashtags</th>\n",
       "      <th>language</th>\n",
       "      <th>coordinates</th>\n",
       "      <th>favorite_count</th>\n",
       "      <th>extractedts</th>\n",
       "    </tr>\n",
       "  </thead>\n",
       "  <tbody>\n",
       "    <tr>\n",
       "      <th>149212</th>\n",
       "      <td>37334464</td>\n",
       "      <td>DownandOut1489</td>\n",
       "      <td>Because He lives I can face tomorrow. Because ...</td>\n",
       "      <td>NaN</td>\n",
       "      <td>914</td>\n",
       "      <td>759</td>\n",
       "      <td>40561</td>\n",
       "      <td>2009-05-03 01:43:15.000000</td>\n",
       "      <td>1498447926531887104</td>\n",
       "      <td>2022-03-01 00:00:00</td>\n",
       "      <td>0</td>\n",
       "      <td>It’s all a game and anonymous cowards are runn...</td>\n",
       "      <td>[{'text': 'coronavirus', 'indices': [78, 90]},...</td>\n",
       "      <td>en</td>\n",
       "      <td>NaN</td>\n",
       "      <td>0</td>\n",
       "      <td>2022-03-01 00:02:49.301209</td>\n",
       "    </tr>\n",
       "    <tr>\n",
       "      <th>149213</th>\n",
       "      <td>17710740</td>\n",
       "      <td>dna</td>\n",
       "      <td>Follow us for news, photos, videos and the lat...</td>\n",
       "      <td>India</td>\n",
       "      <td>24</td>\n",
       "      <td>2264852</td>\n",
       "      <td>647718</td>\n",
       "      <td>2008-11-28 15:39:38.000000</td>\n",
       "      <td>1498447927009693697</td>\n",
       "      <td>2022-03-01 00:00:00</td>\n",
       "      <td>0</td>\n",
       "      <td>.@peta urges government to rescue student alon...</td>\n",
       "      <td>[{'text': 'UkraineRussiaWar', 'indices': [80, ...</td>\n",
       "      <td>en</td>\n",
       "      <td>NaN</td>\n",
       "      <td>0</td>\n",
       "      <td>2022-03-01 00:02:49.285327</td>\n",
       "    </tr>\n",
       "    <tr>\n",
       "      <th>149214</th>\n",
       "      <td>318485865</td>\n",
       "      <td>BlakeAlldredge</td>\n",
       "      <td>Follower of Jesus, husband, father of 4. Sport...</td>\n",
       "      <td>Texas</td>\n",
       "      <td>734</td>\n",
       "      <td>241</td>\n",
       "      <td>10044</td>\n",
       "      <td>2011-06-16 15:25:41.000000</td>\n",
       "      <td>1498447927022264320</td>\n",
       "      <td>2022-03-01 00:00:00</td>\n",
       "      <td>0</td>\n",
       "      <td>Instead of talking about how to save lives in ...</td>\n",
       "      <td>[{'text': 'Ukraine', 'indices': [46, 54]}]</td>\n",
       "      <td>en</td>\n",
       "      <td>NaN</td>\n",
       "      <td>0</td>\n",
       "      <td>2022-03-01 00:02:49.269168</td>\n",
       "    </tr>\n",
       "    <tr>\n",
       "      <th>149215</th>\n",
       "      <td>3541217477</td>\n",
       "      <td>jethom33545</td>\n",
       "      <td>NaN</td>\n",
       "      <td>NaN</td>\n",
       "      <td>114</td>\n",
       "      <td>6</td>\n",
       "      <td>700</td>\n",
       "      <td>2015-09-04 04:47:44.000000</td>\n",
       "      <td>1498447927236255754</td>\n",
       "      <td>2022-03-01 00:00:00</td>\n",
       "      <td>1684</td>\n",
       "      <td>✊🏼🇺🇦 \\n#Ukraine #Україна #StandWithUkriane htt...</td>\n",
       "      <td>[{'text': 'Ukraine', 'indices': [26, 34]}, {'t...</td>\n",
       "      <td>und</td>\n",
       "      <td>NaN</td>\n",
       "      <td>0</td>\n",
       "      <td>2022-03-01 00:02:49.257766</td>\n",
       "    </tr>\n",
       "    <tr>\n",
       "      <th>149216</th>\n",
       "      <td>14115646</td>\n",
       "      <td>donnyd</td>\n",
       "      <td>MD. My daughter, Alicia(27), died by suicide J...</td>\n",
       "      <td>Stoney Creek, Ontario</td>\n",
       "      <td>1269</td>\n",
       "      <td>1668</td>\n",
       "      <td>22199</td>\n",
       "      <td>2008-03-10 17:27:33.000000</td>\n",
       "      <td>1498447927622176768</td>\n",
       "      <td>2022-03-01 00:00:00</td>\n",
       "      <td>20587</td>\n",
       "      <td>Moscow underground. Sometimes the act of resis...</td>\n",
       "      <td>[{'text': 'Ukraine', 'indices': [122, 130]}]</td>\n",
       "      <td>en</td>\n",
       "      <td>NaN</td>\n",
       "      <td>0</td>\n",
       "      <td>2022-03-01 00:02:49.222513</td>\n",
       "    </tr>\n",
       "    <tr>\n",
       "      <th>...</th>\n",
       "      <td>...</td>\n",
       "      <td>...</td>\n",
       "      <td>...</td>\n",
       "      <td>...</td>\n",
       "      <td>...</td>\n",
       "      <td>...</td>\n",
       "      <td>...</td>\n",
       "      <td>...</td>\n",
       "      <td>...</td>\n",
       "      <td>...</td>\n",
       "      <td>...</td>\n",
       "      <td>...</td>\n",
       "      <td>...</td>\n",
       "      <td>...</td>\n",
       "      <td>...</td>\n",
       "      <td>...</td>\n",
       "      <td>...</td>\n",
       "    </tr>\n",
       "    <tr>\n",
       "      <th>344510</th>\n",
       "      <td>1502237057195945984</td>\n",
       "      <td>tsion_tigray</td>\n",
       "      <td>Never Give up,Proud To Be Tgraweyti💖🎯‼️\\n\\n   ...</td>\n",
       "      <td>NaN</td>\n",
       "      <td>482</td>\n",
       "      <td>348</td>\n",
       "      <td>6583</td>\n",
       "      <td>2022-03-11 10:57:08.000000</td>\n",
       "      <td>1509677723136020480</td>\n",
       "      <td>2022-03-31 23:43:12.000000</td>\n",
       "      <td>53</td>\n",
       "      <td>@Abiy Ahmed, Eritrean dictator Isaias Afewerki...</td>\n",
       "      <td>[]</td>\n",
       "      <td>en</td>\n",
       "      <td>NaN</td>\n",
       "      <td>0</td>\n",
       "      <td>2022-03-31 23:43:57.801891</td>\n",
       "    </tr>\n",
       "    <tr>\n",
       "      <th>344511</th>\n",
       "      <td>823139604115001344</td>\n",
       "      <td>TLBSociety</td>\n",
       "      <td>Common sense is understanding nature and natur...</td>\n",
       "      <td>The America's</td>\n",
       "      <td>416</td>\n",
       "      <td>845</td>\n",
       "      <td>31521</td>\n",
       "      <td>2017-01-22 12:05:49.000000</td>\n",
       "      <td>1509677724490641410</td>\n",
       "      <td>2022-03-31 23:43:12.000000</td>\n",
       "      <td>35</td>\n",
       "      <td>#MARIUPOL—However, even at #Ilyich, #Ukraine|i...</td>\n",
       "      <td>[{'text': 'MARIUPOL', 'indices': [12, 21]}, {'...</td>\n",
       "      <td>en</td>\n",
       "      <td>NaN</td>\n",
       "      <td>0</td>\n",
       "      <td>2022-03-31 23:43:57.795027</td>\n",
       "    </tr>\n",
       "    <tr>\n",
       "      <th>344512</th>\n",
       "      <td>1502028100967624704</td>\n",
       "      <td>abwly73052028</td>\n",
       "      <td>mohmmad68718436@ :حسابي الاساسي</td>\n",
       "      <td>chennai</td>\n",
       "      <td>39</td>\n",
       "      <td>41</td>\n",
       "      <td>3234</td>\n",
       "      <td>2022-03-10 21:06:38.000000</td>\n",
       "      <td>1509677724880703495</td>\n",
       "      <td>2022-03-31 23:43:12.000000</td>\n",
       "      <td>67</td>\n",
       "      <td>🎥 دفعة جديدة من القوات الشيشانية انضمت للاعمال...</td>\n",
       "      <td>[{'text': 'Russia', 'indices': [105, 112]}, {'...</td>\n",
       "      <td>ar</td>\n",
       "      <td>NaN</td>\n",
       "      <td>0</td>\n",
       "      <td>2022-03-31 23:43:57.788174</td>\n",
       "    </tr>\n",
       "    <tr>\n",
       "      <th>344513</th>\n",
       "      <td>1126857882308304896</td>\n",
       "      <td>k9planet_japan</td>\n",
       "      <td>K-9 PLANETでは、オリジナルTシャツ、K-9グッズ、ディスクドッグなどのアウトドアグ...</td>\n",
       "      <td>愛媛県松山市</td>\n",
       "      <td>309</td>\n",
       "      <td>199</td>\n",
       "      <td>3456</td>\n",
       "      <td>2019-05-10 14:33:49.000000</td>\n",
       "      <td>1509677724914569220</td>\n",
       "      <td>2022-03-31 23:43:12.000000</td>\n",
       "      <td>0</td>\n",
       "      <td>🇺🇦 PRAY FOR UKRAINE K9\\nペット先進国ウクライナ\\nウクライナK-9達...</td>\n",
       "      <td>[{'text': 'repost', 'indices': [53, 60]}, {'te...</td>\n",
       "      <td>ja</td>\n",
       "      <td>NaN</td>\n",
       "      <td>0</td>\n",
       "      <td>2022-03-31 23:43:57.781210</td>\n",
       "    </tr>\n",
       "    <tr>\n",
       "      <th>344514</th>\n",
       "      <td>1465798903152922625</td>\n",
       "      <td>iqnitedit</td>\n",
       "      <td>I am a digital photography artist. I love capt...</td>\n",
       "      <td>NaN</td>\n",
       "      <td>865</td>\n",
       "      <td>452</td>\n",
       "      <td>2595</td>\n",
       "      <td>2021-11-30 21:44:42.000000</td>\n",
       "      <td>1509677727288373255</td>\n",
       "      <td>2022-03-31 23:43:13.000000</td>\n",
       "      <td>7</td>\n",
       "      <td>Cocktail Bar Punks\\n\\n10,000 #NFT poker faces ...</td>\n",
       "      <td>[{'text': 'NFT', 'indices': [47, 51]}, {'text'...</td>\n",
       "      <td>en</td>\n",
       "      <td>NaN</td>\n",
       "      <td>0</td>\n",
       "      <td>2022-03-31 23:43:57.773961</td>\n",
       "    </tr>\n",
       "  </tbody>\n",
       "</table>\n",
       "<p>13618741 rows × 17 columns</p>\n",
       "</div>"
      ],
      "text/plain": [
       "                     userid        username  \\\n",
       "149212             37334464  DownandOut1489   \n",
       "149213             17710740             dna   \n",
       "149214            318485865  BlakeAlldredge   \n",
       "149215           3541217477     jethom33545   \n",
       "149216             14115646          donnyd   \n",
       "...                     ...             ...   \n",
       "344510  1502237057195945984    tsion_tigray   \n",
       "344511   823139604115001344      TLBSociety   \n",
       "344512  1502028100967624704   abwly73052028   \n",
       "344513  1126857882308304896  k9planet_japan   \n",
       "344514  1465798903152922625       iqnitedit   \n",
       "\n",
       "                                                 acctdesc  \\\n",
       "149212  Because He lives I can face tomorrow. Because ...   \n",
       "149213  Follow us for news, photos, videos and the lat...   \n",
       "149214  Follower of Jesus, husband, father of 4. Sport...   \n",
       "149215                                                NaN   \n",
       "149216  MD. My daughter, Alicia(27), died by suicide J...   \n",
       "...                                                   ...   \n",
       "344510  Never Give up,Proud To Be Tgraweyti💖🎯‼️\\n\\n   ...   \n",
       "344511  Common sense is understanding nature and natur...   \n",
       "344512                    mohmmad68718436@ :حسابي الاساسي   \n",
       "344513  K-9 PLANETでは、オリジナルTシャツ、K-9グッズ、ディスクドッグなどのアウトドアグ...   \n",
       "344514  I am a digital photography artist. I love capt...   \n",
       "\n",
       "                     location  following  followers  totaltweets  \\\n",
       "149212                    NaN        914        759        40561   \n",
       "149213                  India         24    2264852       647718   \n",
       "149214                  Texas        734        241        10044   \n",
       "149215                    NaN        114          6          700   \n",
       "149216  Stoney Creek, Ontario       1269       1668        22199   \n",
       "...                       ...        ...        ...          ...   \n",
       "344510                    NaN        482        348         6583   \n",
       "344511          The America's        416        845        31521   \n",
       "344512                chennai         39         41         3234   \n",
       "344513                 愛媛県松山市        309        199         3456   \n",
       "344514                    NaN        865        452         2595   \n",
       "\n",
       "                     usercreatedts              tweetid  \\\n",
       "149212  2009-05-03 01:43:15.000000  1498447926531887104   \n",
       "149213  2008-11-28 15:39:38.000000  1498447927009693697   \n",
       "149214  2011-06-16 15:25:41.000000  1498447927022264320   \n",
       "149215  2015-09-04 04:47:44.000000  1498447927236255754   \n",
       "149216  2008-03-10 17:27:33.000000  1498447927622176768   \n",
       "...                            ...                  ...   \n",
       "344510  2022-03-11 10:57:08.000000  1509677723136020480   \n",
       "344511  2017-01-22 12:05:49.000000  1509677724490641410   \n",
       "344512  2022-03-10 21:06:38.000000  1509677724880703495   \n",
       "344513  2019-05-10 14:33:49.000000  1509677724914569220   \n",
       "344514  2021-11-30 21:44:42.000000  1509677727288373255   \n",
       "\n",
       "                    tweetcreatedts  retweetcount  \\\n",
       "149212         2022-03-01 00:00:00             0   \n",
       "149213         2022-03-01 00:00:00             0   \n",
       "149214         2022-03-01 00:00:00             0   \n",
       "149215         2022-03-01 00:00:00          1684   \n",
       "149216         2022-03-01 00:00:00         20587   \n",
       "...                            ...           ...   \n",
       "344510  2022-03-31 23:43:12.000000            53   \n",
       "344511  2022-03-31 23:43:12.000000            35   \n",
       "344512  2022-03-31 23:43:12.000000            67   \n",
       "344513  2022-03-31 23:43:12.000000             0   \n",
       "344514  2022-03-31 23:43:13.000000             7   \n",
       "\n",
       "                                                     text  \\\n",
       "149212  It’s all a game and anonymous cowards are runn...   \n",
       "149213  .@peta urges government to rescue student alon...   \n",
       "149214  Instead of talking about how to save lives in ...   \n",
       "149215  ✊🏼🇺🇦 \\n#Ukraine #Україна #StandWithUkriane htt...   \n",
       "149216  Moscow underground. Sometimes the act of resis...   \n",
       "...                                                   ...   \n",
       "344510  @Abiy Ahmed, Eritrean dictator Isaias Afewerki...   \n",
       "344511  #MARIUPOL—However, even at #Ilyich, #Ukraine|i...   \n",
       "344512  🎥 دفعة جديدة من القوات الشيشانية انضمت للاعمال...   \n",
       "344513  🇺🇦 PRAY FOR UKRAINE K9\\nペット先進国ウクライナ\\nウクライナK-9達...   \n",
       "344514  Cocktail Bar Punks\\n\\n10,000 #NFT poker faces ...   \n",
       "\n",
       "                                                 hashtags language  \\\n",
       "149212  [{'text': 'coronavirus', 'indices': [78, 90]},...       en   \n",
       "149213  [{'text': 'UkraineRussiaWar', 'indices': [80, ...       en   \n",
       "149214         [{'text': 'Ukraine', 'indices': [46, 54]}]       en   \n",
       "149215  [{'text': 'Ukraine', 'indices': [26, 34]}, {'t...      und   \n",
       "149216       [{'text': 'Ukraine', 'indices': [122, 130]}]       en   \n",
       "...                                                   ...      ...   \n",
       "344510                                                 []       en   \n",
       "344511  [{'text': 'MARIUPOL', 'indices': [12, 21]}, {'...       en   \n",
       "344512  [{'text': 'Russia', 'indices': [105, 112]}, {'...       ar   \n",
       "344513  [{'text': 'repost', 'indices': [53, 60]}, {'te...       ja   \n",
       "344514  [{'text': 'NFT', 'indices': [47, 51]}, {'text'...       en   \n",
       "\n",
       "       coordinates  favorite_count                 extractedts  \n",
       "149212         NaN               0  2022-03-01 00:02:49.301209  \n",
       "149213         NaN               0  2022-03-01 00:02:49.285327  \n",
       "149214         NaN               0  2022-03-01 00:02:49.269168  \n",
       "149215         NaN               0  2022-03-01 00:02:49.257766  \n",
       "149216         NaN               0  2022-03-01 00:02:49.222513  \n",
       "...            ...             ...                         ...  \n",
       "344510         NaN               0  2022-03-31 23:43:57.801891  \n",
       "344511         NaN               0  2022-03-31 23:43:57.795027  \n",
       "344512         NaN               0  2022-03-31 23:43:57.788174  \n",
       "344513         NaN               0  2022-03-31 23:43:57.781210  \n",
       "344514         NaN               0  2022-03-31 23:43:57.773961  \n",
       "\n",
       "[13618741 rows x 17 columns]"
      ]
     },
     "execution_count": 17,
     "metadata": {},
     "output_type": "execute_result"
    }
   ],
   "source": [
    "mar_df"
   ]
  },
  {
   "cell_type": "code",
   "execution_count": 18,
   "id": "a9ca51a5-281c-4ba4-a128-3ef499c7a72a",
   "metadata": {},
   "outputs": [
    {
     "data": {
      "text/html": [
       "<div>\n",
       "<style scoped>\n",
       "    .dataframe tbody tr th:only-of-type {\n",
       "        vertical-align: middle;\n",
       "    }\n",
       "\n",
       "    .dataframe tbody tr th {\n",
       "        vertical-align: top;\n",
       "    }\n",
       "\n",
       "    .dataframe thead th {\n",
       "        text-align: right;\n",
       "    }\n",
       "</style>\n",
       "<table border=\"1\" class=\"dataframe\">\n",
       "  <thead>\n",
       "    <tr style=\"text-align: right;\">\n",
       "      <th></th>\n",
       "      <th>userid</th>\n",
       "      <th>username</th>\n",
       "      <th>acctdesc</th>\n",
       "      <th>location</th>\n",
       "      <th>following</th>\n",
       "      <th>followers</th>\n",
       "      <th>totaltweets</th>\n",
       "      <th>usercreatedts</th>\n",
       "      <th>tweetid</th>\n",
       "      <th>tweetcreatedts</th>\n",
       "      <th>...</th>\n",
       "      <th>original_tweet_userid</th>\n",
       "      <th>original_tweet_username</th>\n",
       "      <th>in_reply_to_status_id</th>\n",
       "      <th>in_reply_to_user_id</th>\n",
       "      <th>in_reply_to_screen_name</th>\n",
       "      <th>is_quote_status</th>\n",
       "      <th>quoted_status_id</th>\n",
       "      <th>quoted_status_userid</th>\n",
       "      <th>quoted_status_username</th>\n",
       "      <th>extractedts</th>\n",
       "    </tr>\n",
       "  </thead>\n",
       "  <tbody>\n",
       "    <tr>\n",
       "      <th>0</th>\n",
       "      <td>529588633</td>\n",
       "      <td>PLinToronto</td>\n",
       "      <td>Consulate General of the Republic of Poland in...</td>\n",
       "      <td>Toronto, Ontario</td>\n",
       "      <td>674</td>\n",
       "      <td>2977</td>\n",
       "      <td>10112</td>\n",
       "      <td>2012-03-19 18:10:36.000000</td>\n",
       "      <td>1520553587276795905</td>\n",
       "      <td>2022-05-01 00:00:00.000000</td>\n",
       "      <td>...</td>\n",
       "      <td>0</td>\n",
       "      <td>NaN</td>\n",
       "      <td>0</td>\n",
       "      <td>0</td>\n",
       "      <td>NaN</td>\n",
       "      <td>False</td>\n",
       "      <td>0</td>\n",
       "      <td>0</td>\n",
       "      <td>NaN</td>\n",
       "      <td>2022-05-01 09:12:42.918515</td>\n",
       "    </tr>\n",
       "    <tr>\n",
       "      <th>1</th>\n",
       "      <td>835922746416762880</td>\n",
       "      <td>arctic_fox_PTN</td>\n",
       "      <td>News of the war in Ukraine. Chronicle of Putin...</td>\n",
       "      <td>Украина</td>\n",
       "      <td>368</td>\n",
       "      <td>158</td>\n",
       "      <td>62968</td>\n",
       "      <td>2017-02-26 18:41:28.000000</td>\n",
       "      <td>1520553587490926594</td>\n",
       "      <td>2022-05-01 00:00:00.000000</td>\n",
       "      <td>...</td>\n",
       "      <td>1102047326</td>\n",
       "      <td>mil_in_ua</td>\n",
       "      <td>0</td>\n",
       "      <td>0</td>\n",
       "      <td>NaN</td>\n",
       "      <td>False</td>\n",
       "      <td>0</td>\n",
       "      <td>0</td>\n",
       "      <td>NaN</td>\n",
       "      <td>2022-05-01 00:21:48.021996</td>\n",
       "    </tr>\n",
       "    <tr>\n",
       "      <th>2</th>\n",
       "      <td>15640646</td>\n",
       "      <td>Journey_America</td>\n",
       "      <td>Freelance writer. I'm always interested in dis...</td>\n",
       "      <td>Buenos Aires, Argentina</td>\n",
       "      <td>2658</td>\n",
       "      <td>207542</td>\n",
       "      <td>139467</td>\n",
       "      <td>2008-07-29 01:54:36.000000</td>\n",
       "      <td>1520553587763515392</td>\n",
       "      <td>2022-05-01 00:00:00.000000</td>\n",
       "      <td>...</td>\n",
       "      <td>0</td>\n",
       "      <td>NaN</td>\n",
       "      <td>0</td>\n",
       "      <td>0</td>\n",
       "      <td>NaN</td>\n",
       "      <td>False</td>\n",
       "      <td>0</td>\n",
       "      <td>0</td>\n",
       "      <td>NaN</td>\n",
       "      <td>2022-05-01 04:12:17.557660</td>\n",
       "    </tr>\n",
       "    <tr>\n",
       "      <th>3</th>\n",
       "      <td>1503095448864755715</td>\n",
       "      <td>RaesiEse</td>\n",
       "      <td>NaN</td>\n",
       "      <td>NaN</td>\n",
       "      <td>929</td>\n",
       "      <td>834</td>\n",
       "      <td>90759</td>\n",
       "      <td>2022-03-13 19:47:54.000000</td>\n",
       "      <td>1520553587939676160</td>\n",
       "      <td>2022-05-01 00:00:00.000000</td>\n",
       "      <td>...</td>\n",
       "      <td>1494062983617847296</td>\n",
       "      <td>MargMar80017297</td>\n",
       "      <td>0</td>\n",
       "      <td>0</td>\n",
       "      <td>NaN</td>\n",
       "      <td>False</td>\n",
       "      <td>0</td>\n",
       "      <td>0</td>\n",
       "      <td>NaN</td>\n",
       "      <td>2022-05-01 00:07:10.218746</td>\n",
       "    </tr>\n",
       "    <tr>\n",
       "      <th>4</th>\n",
       "      <td>22240612</td>\n",
       "      <td>AlArabiya_Eng</td>\n",
       "      <td>The Arab world’s leading source of global news...</td>\n",
       "      <td>Dubai</td>\n",
       "      <td>46</td>\n",
       "      <td>914292</td>\n",
       "      <td>315194</td>\n",
       "      <td>2009-02-28 08:31:32.000000</td>\n",
       "      <td>1520553588086525952</td>\n",
       "      <td>2022-05-01 00:00:00.000000</td>\n",
       "      <td>...</td>\n",
       "      <td>0</td>\n",
       "      <td>NaN</td>\n",
       "      <td>0</td>\n",
       "      <td>0</td>\n",
       "      <td>NaN</td>\n",
       "      <td>False</td>\n",
       "      <td>0</td>\n",
       "      <td>0</td>\n",
       "      <td>NaN</td>\n",
       "      <td>2022-05-01 00:26:31.623553</td>\n",
       "    </tr>\n",
       "    <tr>\n",
       "      <th>...</th>\n",
       "      <td>...</td>\n",
       "      <td>...</td>\n",
       "      <td>...</td>\n",
       "      <td>...</td>\n",
       "      <td>...</td>\n",
       "      <td>...</td>\n",
       "      <td>...</td>\n",
       "      <td>...</td>\n",
       "      <td>...</td>\n",
       "      <td>...</td>\n",
       "      <td>...</td>\n",
       "      <td>...</td>\n",
       "      <td>...</td>\n",
       "      <td>...</td>\n",
       "      <td>...</td>\n",
       "      <td>...</td>\n",
       "      <td>...</td>\n",
       "      <td>...</td>\n",
       "      <td>...</td>\n",
       "      <td>...</td>\n",
       "      <td>...</td>\n",
       "    </tr>\n",
       "    <tr>\n",
       "      <th>231694</th>\n",
       "      <td>1369294520433532930</td>\n",
       "      <td>ujLV2RY6FQx9926</td>\n",
       "      <td>Take down the CCP!</td>\n",
       "      <td>NaN</td>\n",
       "      <td>988</td>\n",
       "      <td>830</td>\n",
       "      <td>10555</td>\n",
       "      <td>2021-03-09 14:30:42.000000</td>\n",
       "      <td>1529613255647236097</td>\n",
       "      <td>2022-05-25 23:59:53.000000</td>\n",
       "      <td>...</td>\n",
       "      <td>1382077019740008448</td>\n",
       "      <td>Karin77G</td>\n",
       "      <td>0</td>\n",
       "      <td>0</td>\n",
       "      <td>NaN</td>\n",
       "      <td>False</td>\n",
       "      <td>0</td>\n",
       "      <td>0</td>\n",
       "      <td>NaN</td>\n",
       "      <td>2022-05-26 02:02:46.360686</td>\n",
       "    </tr>\n",
       "    <tr>\n",
       "      <th>231695</th>\n",
       "      <td>242997845</td>\n",
       "      <td>missjst</td>\n",
       "      <td>D, drum corps, cats, Pac 12/Seahawks football,...</td>\n",
       "      <td>Washinton</td>\n",
       "      <td>253</td>\n",
       "      <td>1065</td>\n",
       "      <td>322601</td>\n",
       "      <td>2011-01-26 02:16:15.000000</td>\n",
       "      <td>1529613259296239616</td>\n",
       "      <td>2022-05-25 23:59:54.000000</td>\n",
       "      <td>...</td>\n",
       "      <td>1505481949854502912</td>\n",
       "      <td>Gerashchenko_en</td>\n",
       "      <td>0</td>\n",
       "      <td>0</td>\n",
       "      <td>NaN</td>\n",
       "      <td>False</td>\n",
       "      <td>0</td>\n",
       "      <td>0</td>\n",
       "      <td>NaN</td>\n",
       "      <td>2022-05-26 01:21:37.658200</td>\n",
       "    </tr>\n",
       "    <tr>\n",
       "      <th>231696</th>\n",
       "      <td>213491014</td>\n",
       "      <td>JeffCassman</td>\n",
       "      <td>Celebrating 27 yrs of marriage &amp; 14 kids. Cont...</td>\n",
       "      <td>Nashville, TN</td>\n",
       "      <td>2197</td>\n",
       "      <td>5418</td>\n",
       "      <td>10803</td>\n",
       "      <td>2010-11-09 01:49:04.000000</td>\n",
       "      <td>1529613262488317953</td>\n",
       "      <td>2022-05-25 23:59:55.000000</td>\n",
       "      <td>...</td>\n",
       "      <td>0</td>\n",
       "      <td>NaN</td>\n",
       "      <td>0</td>\n",
       "      <td>0</td>\n",
       "      <td>NaN</td>\n",
       "      <td>True</td>\n",
       "      <td>1529611258760134656</td>\n",
       "      <td>637003328</td>\n",
       "      <td>lxm713</td>\n",
       "      <td>2022-05-26 00:50:07.623218</td>\n",
       "    </tr>\n",
       "    <tr>\n",
       "      <th>231697</th>\n",
       "      <td>1329236609166925827</td>\n",
       "      <td>Startre72377111</td>\n",
       "      <td>Born in Sicily (Italy). Now in the USA. @AdamS...</td>\n",
       "      <td>Chicago🇺🇸 Roma 🇮🇹</td>\n",
       "      <td>1354</td>\n",
       "      <td>957</td>\n",
       "      <td>93387</td>\n",
       "      <td>2020-11-19 01:35:16.000000</td>\n",
       "      <td>1529613262765031425</td>\n",
       "      <td>2022-05-25 23:59:55.000000</td>\n",
       "      <td>...</td>\n",
       "      <td>544732668</td>\n",
       "      <td>KyleWOrton</td>\n",
       "      <td>0</td>\n",
       "      <td>0</td>\n",
       "      <td>NaN</td>\n",
       "      <td>False</td>\n",
       "      <td>0</td>\n",
       "      <td>0</td>\n",
       "      <td>NaN</td>\n",
       "      <td>2022-05-26 02:02:46.334603</td>\n",
       "    </tr>\n",
       "    <tr>\n",
       "      <th>231698</th>\n",
       "      <td>1299029727206928385</td>\n",
       "      <td>GregoryPike17</td>\n",
       "      <td>AWS University Open Scout 1 cohort, Learner, r...</td>\n",
       "      <td>NaN</td>\n",
       "      <td>5003</td>\n",
       "      <td>711</td>\n",
       "      <td>19942</td>\n",
       "      <td>2020-08-27 17:03:27.000000</td>\n",
       "      <td>1529613269475987456</td>\n",
       "      <td>2022-05-25 23:59:56.000000</td>\n",
       "      <td>...</td>\n",
       "      <td>1060638590789734400</td>\n",
       "      <td>Arslon_Xudosi</td>\n",
       "      <td>0</td>\n",
       "      <td>0</td>\n",
       "      <td>NaN</td>\n",
       "      <td>False</td>\n",
       "      <td>0</td>\n",
       "      <td>0</td>\n",
       "      <td>NaN</td>\n",
       "      <td>2022-05-26 00:47:07.575724</td>\n",
       "    </tr>\n",
       "  </tbody>\n",
       "</table>\n",
       "<p>7861493 rows × 28 columns</p>\n",
       "</div>"
      ],
      "text/plain": [
       "                     userid         username  \\\n",
       "0                 529588633      PLinToronto   \n",
       "1        835922746416762880   arctic_fox_PTN   \n",
       "2                  15640646  Journey_America   \n",
       "3       1503095448864755715         RaesiEse   \n",
       "4                  22240612    AlArabiya_Eng   \n",
       "...                     ...              ...   \n",
       "231694  1369294520433532930  ujLV2RY6FQx9926   \n",
       "231695            242997845          missjst   \n",
       "231696            213491014      JeffCassman   \n",
       "231697  1329236609166925827  Startre72377111   \n",
       "231698  1299029727206928385    GregoryPike17   \n",
       "\n",
       "                                                 acctdesc  \\\n",
       "0       Consulate General of the Republic of Poland in...   \n",
       "1       News of the war in Ukraine. Chronicle of Putin...   \n",
       "2       Freelance writer. I'm always interested in dis...   \n",
       "3                                                     NaN   \n",
       "4       The Arab world’s leading source of global news...   \n",
       "...                                                   ...   \n",
       "231694                                 Take down the CCP!   \n",
       "231695  D, drum corps, cats, Pac 12/Seahawks football,...   \n",
       "231696  Celebrating 27 yrs of marriage & 14 kids. Cont...   \n",
       "231697  Born in Sicily (Italy). Now in the USA. @AdamS...   \n",
       "231698  AWS University Open Scout 1 cohort, Learner, r...   \n",
       "\n",
       "                       location  following  followers  totaltweets  \\\n",
       "0              Toronto, Ontario        674       2977        10112   \n",
       "1                       Украина        368        158        62968   \n",
       "2       Buenos Aires, Argentina       2658     207542       139467   \n",
       "3                           NaN        929        834        90759   \n",
       "4                         Dubai         46     914292       315194   \n",
       "...                         ...        ...        ...          ...   \n",
       "231694                      NaN        988        830        10555   \n",
       "231695                Washinton        253       1065       322601   \n",
       "231696            Nashville, TN       2197       5418        10803   \n",
       "231697        Chicago🇺🇸 Roma 🇮🇹       1354        957        93387   \n",
       "231698                      NaN       5003        711        19942   \n",
       "\n",
       "                     usercreatedts              tweetid  \\\n",
       "0       2012-03-19 18:10:36.000000  1520553587276795905   \n",
       "1       2017-02-26 18:41:28.000000  1520553587490926594   \n",
       "2       2008-07-29 01:54:36.000000  1520553587763515392   \n",
       "3       2022-03-13 19:47:54.000000  1520553587939676160   \n",
       "4       2009-02-28 08:31:32.000000  1520553588086525952   \n",
       "...                            ...                  ...   \n",
       "231694  2021-03-09 14:30:42.000000  1529613255647236097   \n",
       "231695  2011-01-26 02:16:15.000000  1529613259296239616   \n",
       "231696  2010-11-09 01:49:04.000000  1529613262488317953   \n",
       "231697  2020-11-19 01:35:16.000000  1529613262765031425   \n",
       "231698  2020-08-27 17:03:27.000000  1529613269475987456   \n",
       "\n",
       "                    tweetcreatedts  ...  original_tweet_userid  \\\n",
       "0       2022-05-01 00:00:00.000000  ...                      0   \n",
       "1       2022-05-01 00:00:00.000000  ...             1102047326   \n",
       "2       2022-05-01 00:00:00.000000  ...                      0   \n",
       "3       2022-05-01 00:00:00.000000  ...    1494062983617847296   \n",
       "4       2022-05-01 00:00:00.000000  ...                      0   \n",
       "...                            ...  ...                    ...   \n",
       "231694  2022-05-25 23:59:53.000000  ...    1382077019740008448   \n",
       "231695  2022-05-25 23:59:54.000000  ...    1505481949854502912   \n",
       "231696  2022-05-25 23:59:55.000000  ...                      0   \n",
       "231697  2022-05-25 23:59:55.000000  ...              544732668   \n",
       "231698  2022-05-25 23:59:56.000000  ...    1060638590789734400   \n",
       "\n",
       "       original_tweet_username in_reply_to_status_id in_reply_to_user_id  \\\n",
       "0                          NaN                     0                   0   \n",
       "1                    mil_in_ua                     0                   0   \n",
       "2                          NaN                     0                   0   \n",
       "3              MargMar80017297                     0                   0   \n",
       "4                          NaN                     0                   0   \n",
       "...                        ...                   ...                 ...   \n",
       "231694                Karin77G                     0                   0   \n",
       "231695         Gerashchenko_en                     0                   0   \n",
       "231696                     NaN                     0                   0   \n",
       "231697              KyleWOrton                     0                   0   \n",
       "231698           Arslon_Xudosi                     0                   0   \n",
       "\n",
       "       in_reply_to_screen_name  is_quote_status     quoted_status_id  \\\n",
       "0                          NaN            False                    0   \n",
       "1                          NaN            False                    0   \n",
       "2                          NaN            False                    0   \n",
       "3                          NaN            False                    0   \n",
       "4                          NaN            False                    0   \n",
       "...                        ...              ...                  ...   \n",
       "231694                     NaN            False                    0   \n",
       "231695                     NaN            False                    0   \n",
       "231696                     NaN             True  1529611258760134656   \n",
       "231697                     NaN            False                    0   \n",
       "231698                     NaN            False                    0   \n",
       "\n",
       "        quoted_status_userid  quoted_status_username  \\\n",
       "0                          0                     NaN   \n",
       "1                          0                     NaN   \n",
       "2                          0                     NaN   \n",
       "3                          0                     NaN   \n",
       "4                          0                     NaN   \n",
       "...                      ...                     ...   \n",
       "231694                     0                     NaN   \n",
       "231695                     0                     NaN   \n",
       "231696             637003328                  lxm713   \n",
       "231697                     0                     NaN   \n",
       "231698                     0                     NaN   \n",
       "\n",
       "                       extractedts  \n",
       "0       2022-05-01 09:12:42.918515  \n",
       "1       2022-05-01 00:21:48.021996  \n",
       "2       2022-05-01 04:12:17.557660  \n",
       "3       2022-05-01 00:07:10.218746  \n",
       "4       2022-05-01 00:26:31.623553  \n",
       "...                            ...  \n",
       "231694  2022-05-26 02:02:46.360686  \n",
       "231695  2022-05-26 01:21:37.658200  \n",
       "231696  2022-05-26 00:50:07.623218  \n",
       "231697  2022-05-26 02:02:46.334603  \n",
       "231698  2022-05-26 00:47:07.575724  \n",
       "\n",
       "[7861493 rows x 28 columns]"
      ]
     },
     "execution_count": 18,
     "metadata": {},
     "output_type": "execute_result"
    }
   ],
   "source": [
    "may_df"
   ]
  },
  {
   "cell_type": "code",
   "execution_count": 13,
   "id": "9e9981d9-4707-4098-bb0b-a4b0d493c215",
   "metadata": {},
   "outputs": [],
   "source": [
    "feb_df = feb_df.drop(columns = ['coordinates', 'extractedts', 'acctdesc'])"
   ]
  },
  {
   "cell_type": "code",
   "execution_count": 14,
   "id": "4ea815ab-1384-4c95-a320-e24285fc8842",
   "metadata": {},
   "outputs": [],
   "source": [
    "feb_df[\"usercreatedts\"] = pd.to_datetime(feb_df[\"usercreatedts\"])\n",
    "feb_df[\"tweetcreatedts\"] = pd.to_datetime(feb_df[\"tweetcreatedts\"])"
   ]
  },
  {
   "cell_type": "code",
   "execution_count": 15,
   "id": "2cfbda8b-1737-4df2-b901-7b43fa50d630",
   "metadata": {},
   "outputs": [
    {
     "name": "stdout",
     "output_type": "stream",
     "text": [
      "<class 'pandas.core.frame.DataFrame'>\n",
      "Int64Index: 735189 entries, 1141800 to 140383\n",
      "Data columns (total 14 columns):\n",
      " #   Column          Non-Null Count   Dtype         \n",
      "---  ------          --------------   -----         \n",
      " 0   userid          735189 non-null  int64         \n",
      " 1   username        735189 non-null  object        \n",
      " 2   location        429725 non-null  object        \n",
      " 3   following       735189 non-null  int64         \n",
      " 4   followers       735189 non-null  int64         \n",
      " 5   totaltweets     735189 non-null  int64         \n",
      " 6   usercreatedts   735189 non-null  datetime64[ns]\n",
      " 7   tweetid         735189 non-null  int64         \n",
      " 8   tweetcreatedts  735189 non-null  datetime64[ns]\n",
      " 9   retweetcount    735189 non-null  int64         \n",
      " 10  text            735189 non-null  object        \n",
      " 11  hashtags        735189 non-null  object        \n",
      " 12  language        735189 non-null  object        \n",
      " 13  favorite_count  735189 non-null  int64         \n",
      "dtypes: datetime64[ns](2), int64(7), object(5)\n",
      "memory usage: 84.1+ MB\n"
     ]
    }
   ],
   "source": [
    "feb_df.info()"
   ]
  },
  {
   "cell_type": "code",
   "execution_count": 16,
   "id": "6a611c0f-9c40-484c-bc07-824375831768",
   "metadata": {},
   "outputs": [],
   "source": [
    "apr_df = apr_df.drop(columns = ['coordinates', 'extractedts', 'acctdesc', 'original_tweet_id', 'original_tweet_userid',\t'original_tweet_username',\t'in_reply_to_status_id', 'in_reply_to_user_id',\t'in_reply_to_screen_name', 'is_quote_status', 'quoted_status_id', 'quoted_status_userid', 'quoted_status_username'])"
   ]
  },
  {
   "cell_type": "code",
   "execution_count": 17,
   "id": "52516041-3c70-4d4b-8dd6-38802db2d05d",
   "metadata": {},
   "outputs": [],
   "source": [
    "apr_df[\"usercreatedts\"] = pd.to_datetime(apr_df[\"usercreatedts\"])\n",
    "apr_df[\"tweetcreatedts\"] = pd.to_datetime(apr_df[\"tweetcreatedts\"])"
   ]
  },
  {
   "cell_type": "code",
   "execution_count": 18,
   "id": "a92c25af-c329-4d31-aab0-e4d537ca2398",
   "metadata": {},
   "outputs": [
    {
     "name": "stdout",
     "output_type": "stream",
     "text": [
      "<class 'pandas.core.frame.DataFrame'>\n",
      "Int64Index: 11107791 entries, 0 to 328074\n",
      "Data columns (total 15 columns):\n",
      " #   Column          Dtype         \n",
      "---  ------          -----         \n",
      " 0   userid          int64         \n",
      " 1   username        object        \n",
      " 2   location        object        \n",
      " 3   following       int64         \n",
      " 4   followers       int64         \n",
      " 5   totaltweets     int64         \n",
      " 6   usercreatedts   datetime64[ns]\n",
      " 7   tweetid         int64         \n",
      " 8   tweetcreatedts  datetime64[ns]\n",
      " 9   retweetcount    int64         \n",
      " 10  text            object        \n",
      " 11  hashtags        object        \n",
      " 12  language        object        \n",
      " 13  favorite_count  int64         \n",
      " 14  is_retweet      object        \n",
      "dtypes: datetime64[ns](2), int64(7), object(6)\n",
      "memory usage: 1.3+ GB\n"
     ]
    }
   ],
   "source": [
    "apr_df.info()"
   ]
  },
  {
   "cell_type": "code",
   "execution_count": 19,
   "id": "bb1f6117-a0b1-4347-ae82-853f7b10cab1",
   "metadata": {},
   "outputs": [],
   "source": [
    "apr_df = apr_df.drop(columns = ['is_retweet'])"
   ]
  },
  {
   "cell_type": "code",
   "execution_count": 20,
   "id": "5f4ced3a-c7b9-4776-9d78-03778cd3563a",
   "metadata": {},
   "outputs": [],
   "source": [
    "mar_df = mar_df.drop(columns = ['coordinates', 'extractedts', 'acctdesc'])"
   ]
  },
  {
   "cell_type": "code",
   "execution_count": 21,
   "id": "51ae48d0-0d9c-4bd6-bcaa-c261a2278426",
   "metadata": {},
   "outputs": [],
   "source": [
    "mar_df[\"usercreatedts\"] = pd.to_datetime(mar_df[\"usercreatedts\"])\n",
    "mar_df[\"tweetcreatedts\"] = pd.to_datetime(mar_df[\"tweetcreatedts\"])"
   ]
  },
  {
   "cell_type": "code",
   "execution_count": 22,
   "id": "d063a59d-a2c4-4c64-8390-363692e62c69",
   "metadata": {},
   "outputs": [
    {
     "name": "stdout",
     "output_type": "stream",
     "text": [
      "<class 'pandas.core.frame.DataFrame'>\n",
      "Int64Index: 13618741 entries, 149212 to 344514\n",
      "Data columns (total 14 columns):\n",
      " #   Column          Dtype         \n",
      "---  ------          -----         \n",
      " 0   userid          int64         \n",
      " 1   username        object        \n",
      " 2   location        object        \n",
      " 3   following       int64         \n",
      " 4   followers       int64         \n",
      " 5   totaltweets     int64         \n",
      " 6   usercreatedts   datetime64[ns]\n",
      " 7   tweetid         int64         \n",
      " 8   tweetcreatedts  datetime64[ns]\n",
      " 9   retweetcount    int64         \n",
      " 10  text            object        \n",
      " 11  hashtags        object        \n",
      " 12  language        object        \n",
      " 13  favorite_count  int64         \n",
      "dtypes: datetime64[ns](2), int64(7), object(5)\n",
      "memory usage: 1.5+ GB\n"
     ]
    }
   ],
   "source": [
    "mar_df.info()"
   ]
  },
  {
   "cell_type": "code",
   "execution_count": 24,
   "id": "6b08eb63-a42d-4d5e-8452-e004fe9514a6",
   "metadata": {},
   "outputs": [],
   "source": [
    "may_df = may_df.drop(columns = ['coordinates', 'extractedts', 'acctdesc', 'original_tweet_id', 'original_tweet_userid',\t'original_tweet_username',\t'in_reply_to_status_id', 'in_reply_to_user_id',\t'in_reply_to_screen_name', 'is_quote_status', 'quoted_status_id', 'quoted_status_userid', 'quoted_status_username', 'is_retweet'])"
   ]
  },
  {
   "cell_type": "code",
   "execution_count": 25,
   "id": "3a349012-50ca-400e-875e-af950f156faf",
   "metadata": {},
   "outputs": [],
   "source": [
    "may_df[\"usercreatedts\"] = pd.to_datetime(may_df[\"usercreatedts\"])\n",
    "may_df[\"tweetcreatedts\"] = pd.to_datetime(may_df[\"tweetcreatedts\"])"
   ]
  },
  {
   "cell_type": "code",
   "execution_count": 26,
   "id": "764ff313-9e05-498d-8bf5-ecaa45df8811",
   "metadata": {},
   "outputs": [
    {
     "name": "stdout",
     "output_type": "stream",
     "text": [
      "<class 'pandas.core.frame.DataFrame'>\n",
      "Int64Index: 7861493 entries, 0 to 231698\n",
      "Data columns (total 14 columns):\n",
      " #   Column          Dtype         \n",
      "---  ------          -----         \n",
      " 0   userid          int64         \n",
      " 1   username        object        \n",
      " 2   location        object        \n",
      " 3   following       int64         \n",
      " 4   followers       int64         \n",
      " 5   totaltweets     int64         \n",
      " 6   usercreatedts   datetime64[ns]\n",
      " 7   tweetid         int64         \n",
      " 8   tweetcreatedts  datetime64[ns]\n",
      " 9   retweetcount    int64         \n",
      " 10  text            object        \n",
      " 11  hashtags        object        \n",
      " 12  language        object        \n",
      " 13  favorite_count  int64         \n",
      "dtypes: datetime64[ns](2), int64(7), object(5)\n",
      "memory usage: 899.7+ MB\n"
     ]
    }
   ],
   "source": [
    "may_df.info()"
   ]
  },
  {
   "cell_type": "code",
   "execution_count": 27,
   "id": "51542e3c-88e7-4c61-b4b4-b0acf8c11ab9",
   "metadata": {},
   "outputs": [],
   "source": [
    "import seaborn as sns\n",
    "from wordcloud import WordCloud, STOPWORDS, ImageColorGenerator\n",
    "import matplotlib.pyplot as plt\n",
    "import plotly.express as px\n",
    "import plotly.figure_factory as ff"
   ]
  },
  {
   "cell_type": "code",
   "execution_count": 28,
   "id": "17a0f97b-90c0-4bb8-903c-ecaebe018c0f",
   "metadata": {},
   "outputs": [
    {
     "data": {
      "text/plain": [
       "<AxesSubplot:ylabel='language'>"
      ]
     },
     "execution_count": 28,
     "metadata": {},
     "output_type": "execute_result"
    },
    {
     "data": {
      "image/png": "[encoded data removed]",
      "text/plain": [
       "<Figure size 432x288 with 1 Axes>"
      ]
     },
     "metadata": {
      "needs_background": "light"
     },
     "output_type": "display_data"
    }
   ],
   "source": [
    "sns.barplot(x= feb_df.language.value_counts()[:20].index,y=feb_df.language.value_counts()[:20])"
   ]
  },
  {
   "cell_type": "code",
   "execution_count": 29,
   "id": "135527a0-dac3-4229-b170-40354755a914",
   "metadata": {},
   "outputs": [
    {
     "data": {
      "text/plain": [
       "<AxesSubplot:ylabel='language'>"
      ]
     },
     "execution_count": 29,
     "metadata": {},
     "output_type": "execute_result"
    },
    {
     "data": {
      "image/png": "[encoded data removed]",
      "text/plain": [
       "<Figure size 432x288 with 1 Axes>"
      ]
     },
     "metadata": {
      "needs_background": "light"
     },
     "output_type": "display_data"
    }
   ],
   "source": [
    "sns.barplot(x= mar_df.language.value_counts()[:20].index,y=mar_df.language.value_counts()[:20])"
   ]
  },
  {
   "cell_type": "code",
   "execution_count": 30,
   "id": "070e07ae-7340-48cb-86bb-415ceb90f627",
   "metadata": {},
   "outputs": [
    {
     "data": {
      "text/plain": [
       "<AxesSubplot:ylabel='language'>"
      ]
     },
     "execution_count": 30,
     "metadata": {},
     "output_type": "execute_result"
    },
    {
     "data": {
      "image/png": "[encoded data removed]",
      "text/plain": [
       "<Figure size 432x288 with 1 Axes>"
      ]
     },
     "metadata": {
      "needs_background": "light"
     },
     "output_type": "display_data"
    }
   ],
   "source": [
    "sns.barplot(x= apr_df.language.value_counts()[:20].index,y=apr_df.language.value_counts()[:20])"
   ]
  },
  {
   "cell_type": "code",
   "execution_count": 31,
   "id": "7ba57746-20d6-4223-8534-ecc26bd47528",
   "metadata": {},
   "outputs": [
    {
     "data": {
      "text/plain": [
       "<AxesSubplot:ylabel='language'>"
      ]
     },
     "execution_count": 31,
     "metadata": {},
     "output_type": "execute_result"
    },
    {
     "data": {
      "image/png": "[encoded data removed]",
      "text/plain": [
       "<Figure size 432x288 with 1 Axes>"
      ]
     },
     "metadata": {
      "needs_background": "light"
     },
     "output_type": "display_data"
    }
   ],
   "source": [
    "sns.barplot(x= may_df.language.value_counts()[:20].index,y=may_df.language.value_counts()[:20])"
   ]
  },
  {
   "cell_type": "code",
   "execution_count": 32,
   "id": "3ac0a359-7b84-4165-91a8-5955b5331682",
   "metadata": {},
   "outputs": [
    {
     "data": {
      "text/plain": [
       "<AxesSubplot:>"
      ]
     },
     "execution_count": 32,
     "metadata": {},
     "output_type": "execute_result"
    },
    {
     "data": {
      "image/png": "[encoded data removed]",
      "text/plain": [
       "<Figure size 432x288 with 1 Axes>"
      ]
     },
     "metadata": {
      "needs_background": "light"
     },
     "output_type": "display_data"
    }
   ],
   "source": [
    "feb_df.location.value_counts()[:20].plot.bar()"
   ]
  },
  {
   "cell_type": "code",
   "execution_count": 33,
   "id": "3ec8f9d6-f3ea-4df4-9339-0923a7fbf166",
   "metadata": {},
   "outputs": [
    {
     "data": {
      "text/plain": [
       "<AxesSubplot:>"
      ]
     },
     "execution_count": 33,
     "metadata": {},
     "output_type": "execute_result"
    },
    {
     "data": {
      "image/png": "[encoded data removed]",
      "text/plain": [
       "<Figure size 432x288 with 1 Axes>"
      ]
     },
     "metadata": {
      "needs_background": "light"
     },
     "output_type": "display_data"
    }
   ],
   "source": [
    "mar_df.location.value_counts()[:20].plot.bar()"
   ]
  },
  {
   "cell_type": "code",
   "execution_count": 34,
   "id": "feda8605-d5a0-43ab-8f7f-4e7094d62341",
   "metadata": {},
   "outputs": [
    {
     "data": {
      "text/plain": [
       "<AxesSubplot:>"
      ]
     },
     "execution_count": 34,
     "metadata": {},
     "output_type": "execute_result"
    },
    {
     "data": {
      "image/png": "[encoded data removed]",
      "text/plain": [
       "<Figure size 432x288 with 1 Axes>"
      ]
     },
     "metadata": {
      "needs_background": "light"
     },
     "output_type": "display_data"
    }
   ],
   "source": [
    "apr_df.location.value_counts()[:20].plot.bar()"
   ]
  },
  {
   "cell_type": "code",
   "execution_count": 35,
   "id": "757f7ec0-5227-499d-add7-069034150240",
   "metadata": {},
   "outputs": [
    {
     "data": {
      "text/plain": [
       "<AxesSubplot:>"
      ]
     },
     "execution_count": 35,
     "metadata": {},
     "output_type": "execute_result"
    },
    {
     "data": {
      "image/png": "[encoded data removed]",
      "text/plain": [
       "<Figure size 432x288 with 1 Axes>"
      ]
     },
     "metadata": {
      "needs_background": "light"
     },
     "output_type": "display_data"
    }
   ],
   "source": [
    "may_df.location.value_counts()[:20].plot.bar()"
   ]
  },
  {
   "cell_type": "code",
   "execution_count": 32,
   "id": "e7d3d06c-020f-4718-9e2f-6576c61b8f9d",
   "metadata": {},
   "outputs": [
    {
     "data": {
      "image/png": "[encoded data removed]",
      "text/plain": [
       "<Figure size 720x720 with 1 Axes>"
      ]
     },
     "metadata": {
      "needs_background": "light"
     },
     "output_type": "display_data"
    }
   ],
   "source": [
    "dates = feb_df[\"tweetcreatedts\"].dt.day\n",
    "# group tweet timestamps by date and get tweet count for each date\n",
    "tweetcount_by_date = feb_df[\"tweetcreatedts\"].groupby(dates).size()\n",
    "\n",
    "# plot bar graph of tweet count by date\n",
    "tweetcount_by_date.plot.bar(figsize = (10, 10));\n",
    "\n",
    "plt.title(\"February Tweet Count by Date\")\n",
    "plt.xlabel(\"Tweet Date\")\n",
    "plt.ylabel(\"Tweet Count\")\n",
    "plt.xticks(rotation=0)\n",
    "plt.show()"
   ]
  },
  {
   "cell_type": "code",
   "execution_count": 33,
   "id": "26f6f5c0-33da-47cb-9024-c0619682333b",
   "metadata": {},
   "outputs": [
    {
     "data": {
      "image/png": "[encoded data removed]",
      "text/plain": [
       "<Figure size 720x720 with 1 Axes>"
      ]
     },
     "metadata": {
      "needs_background": "light"
     },
     "output_type": "display_data"
    }
   ],
   "source": [
    "dates = mar_df[\"tweetcreatedts\"].dt.day\n",
    "# group tweet timestamps by date and get tweet count for each date\n",
    "tweetcount_by_date = mar_df[\"tweetcreatedts\"].groupby(dates).size()\n",
    "\n",
    "# plot bar graph of tweet count by date\n",
    "tweetcount_by_date.plot.bar(figsize = (10, 10));\n",
    "\n",
    "plt.title(\"March Tweet Count by Date\")\n",
    "plt.xlabel(\"Tweet Date\")\n",
    "plt.ylabel(\"Tweet Count\")\n",
    "plt.xticks(rotation=0)\n",
    "plt.show()"
   ]
  },
  {
   "cell_type": "code",
   "execution_count": 34,
   "id": "0b173148-f181-44fa-a1a7-38fb153cec19",
   "metadata": {},
   "outputs": [
    {
     "data": {
      "image/png": "[encoded data removed]",
      "text/plain": [
       "<Figure size 720x720 with 1 Axes>"
      ]
     },
     "metadata": {
      "needs_background": "light"
     },
     "output_type": "display_data"
    }
   ],
   "source": [
    "dates = apr_df[\"tweetcreatedts\"].dt.day\n",
    "# group tweet timestamps by date and get tweet count for each date\n",
    "tweetcount_by_date = apr_df[\"tweetcreatedts\"].groupby(dates).size()\n",
    "\n",
    "# plot bar graph of tweet count by date\n",
    "tweetcount_by_date.plot.bar(figsize = (10, 10));\n",
    "\n",
    "plt.title(\"April Tweet Count by Date\")\n",
    "plt.xlabel(\"Tweet Date\")\n",
    "plt.ylabel(\"Tweet Count\")\n",
    "plt.xticks(rotation=0)\n",
    "plt.show()"
   ]
  },
  {
   "cell_type": "code",
   "execution_count": 35,
   "id": "a88b7852-d71b-4d70-a4b2-f7e9bdf1ba2f",
   "metadata": {},
   "outputs": [
    {
     "data": {
      "image/png": "[encoded data removed]",
      "text/plain": [
       "<Figure size 720x720 with 1 Axes>"
      ]
     },
     "metadata": {
      "needs_background": "light"
     },
     "output_type": "display_data"
    }
   ],
   "source": [
    "dates = may_df[\"tweetcreatedts\"].dt.day\n",
    "# group tweet timestamps by date and get tweet count for each date\n",
    "tweetcount_by_date = may_df[\"tweetcreatedts\"].groupby(dates).size()\n",
    "\n",
    "# plot bar graph of tweet count by date\n",
    "tweetcount_by_date.plot.bar(figsize = (10, 10));\n",
    "\n",
    "plt.title(\"May Tweet Count by Date\")\n",
    "plt.xlabel(\"Tweet Date\")\n",
    "plt.ylabel(\"Tweet Count\")\n",
    "plt.xticks(rotation=0)\n",
    "plt.show()"
   ]
  },
  {
   "cell_type": "code",
   "execution_count": 36,
   "id": "5f0e4330-47aa-4ded-b759-0d021095ac77",
   "metadata": {},
   "outputs": [
    {
     "name": "stdout",
     "output_type": "stream",
     "text": [
      "63.81% of the tweets are in English.\n"
     ]
    }
   ],
   "source": [
    "print(f\"{round(feb_df.loc[feb_df['language']=='en'].shape[0]/feb_df.shape[0]*100, 2)}% of the tweets are in English.\")"
   ]
  },
  {
   "cell_type": "code",
   "execution_count": 37,
   "id": "c8b643f7-4f0b-455b-bbfd-d2724d62f01e",
   "metadata": {},
   "outputs": [
    {
     "name": "stdout",
     "output_type": "stream",
     "text": [
      "68.3% of the tweets are in English.\n"
     ]
    }
   ],
   "source": [
    "print(f\"{round(mar_df.loc[mar_df['language']=='en'].shape[0]/mar_df.shape[0]*100, 2)}% of the tweets are in English.\")"
   ]
  },
  {
   "cell_type": "code",
   "execution_count": 38,
   "id": "fa4012a9-de4a-46ae-8bba-8721b27a4eb9",
   "metadata": {},
   "outputs": [
    {
     "name": "stdout",
     "output_type": "stream",
     "text": [
      "68.88% of the tweets are in English.\n"
     ]
    }
   ],
   "source": [
    "print(f\"{round(apr_df.loc[apr_df['language']=='en'].shape[0]/apr_df.shape[0]*100, 2)}% of the tweets are in English.\")"
   ]
  },
  {
   "cell_type": "code",
   "execution_count": 39,
   "id": "51a2fe78-e547-467b-9a7d-2034dce03c80",
   "metadata": {},
   "outputs": [
    {
     "name": "stdout",
     "output_type": "stream",
     "text": [
      "66.23% of the tweets are in English.\n"
     ]
    }
   ],
   "source": [
    "print(f\"{round(may_df.loc[may_df['language']=='en'].shape[0]/may_df.shape[0]*100, 2)}% of the tweets are in English.\")"
   ]
  },
  {
   "cell_type": "code",
   "execution_count": 40,
   "id": "0fd40aed-0660-41b9-8a33-6c359e6cd28e",
   "metadata": {},
   "outputs": [
    {
     "data": {
      "image/png": "[encoded data removed]",
      "text/plain": [
       "<Figure size 720x720 with 1 Axes>"
      ]
     },
     "metadata": {
      "needs_background": "light"
     },
     "output_type": "display_data"
    }
   ],
   "source": [
    "plt.figure(figsize=(10,10))\n",
    "feb_df[\"username\"].value_counts().sort_values(ascending=True)[-20:].plot.barh();\n",
    "plt.title(\"Top 20 Users by Tweet Frequency\")\n",
    "plt.xlabel(\"Tweet Frequency\")\n",
    "plt.ylabel(\"Username\")\n",
    "plt.show()"
   ]
  },
  {
   "cell_type": "code",
   "execution_count": 41,
   "id": "d7339f94-c546-4739-aee8-caa3ec23a68b",
   "metadata": {},
   "outputs": [
    {
     "data": {
      "image/png": "[encoded data removed]",
      "text/plain": [
       "<Figure size 720x720 with 1 Axes>"
      ]
     },
     "metadata": {
      "needs_background": "light"
     },
     "output_type": "display_data"
    }
   ],
   "source": [
    "plt.figure(figsize=(10,10))\n",
    "mar_df[\"username\"].value_counts().sort_values(ascending=True)[-20:].plot.barh();\n",
    "plt.title(\"Top 20 Users by Tweet Frequency\")\n",
    "plt.xlabel(\"Tweet Frequency\")\n",
    "plt.ylabel(\"Username\")\n",
    "plt.show()"
   ]
  },
  {
   "cell_type": "code",
   "execution_count": 42,
   "id": "29b00513-3c93-437c-bc8e-4f4c1b856e51",
   "metadata": {},
   "outputs": [
    {
     "data": {
      "image/png": "[encoded data removed]",
      "text/plain": [
       "<Figure size 720x720 with 1 Axes>"
      ]
     },
     "metadata": {
      "needs_background": "light"
     },
     "output_type": "display_data"
    }
   ],
   "source": [
    "plt.figure(figsize=(10,10))\n",
    "apr_df[\"username\"].value_counts().sort_values(ascending=True)[-20:].plot.barh();\n",
    "plt.title(\"Top 20 Users by Tweet Frequency\")\n",
    "plt.xlabel(\"Tweet Frequency\")\n",
    "plt.ylabel(\"Username\")\n",
    "plt.show()"
   ]
  },
  {
   "cell_type": "code",
   "execution_count": 43,
   "id": "91ebc620-ea7b-4b54-860e-c5594d7e76f3",
   "metadata": {},
   "outputs": [
    {
     "data": {
      "image/png": "[encoded data removed]",
      "text/plain": [
       "<Figure size 720x720 with 1 Axes>"
      ]
     },
     "metadata": {
      "needs_background": "light"
     },
     "output_type": "display_data"
    }
   ],
   "source": [
    "plt.figure(figsize=(10,10))\n",
    "may_df[\"username\"].value_counts().sort_values(ascending=True)[-20:].plot.barh();\n",
    "plt.title(\"Top 20 Users by Tweet Frequency\")\n",
    "plt.xlabel(\"Tweet Frequency\")\n",
    "plt.ylabel(\"Username\")\n",
    "plt.show()"
   ]
  },
  {
   "cell_type": "code",
   "execution_count": 44,
   "id": "f31fe8f4-835a-423b-8156-f2aeddf9cede",
   "metadata": {},
   "outputs": [
    {
     "data": {
      "text/plain": [
       "userid            False\n",
       "username          False\n",
       "location           True\n",
       "following         False\n",
       "followers         False\n",
       "totaltweets       False\n",
       "usercreatedts     False\n",
       "tweetid           False\n",
       "tweetcreatedts    False\n",
       "retweetcount      False\n",
       "text              False\n",
       "hashtags          False\n",
       "language          False\n",
       "favorite_count    False\n",
       "dtype: bool"
      ]
     },
     "execution_count": 44,
     "metadata": {},
     "output_type": "execute_result"
    }
   ],
   "source": [
    "feb_df.isna().any()"
   ]
  },
  {
   "cell_type": "code",
   "execution_count": 45,
   "id": "cce9c97b-8ca7-4075-8bc6-681c50ab2f45",
   "metadata": {},
   "outputs": [
    {
     "name": "stdout",
     "output_type": "stream",
     "text": [
      "305464 rows are missing location information.\n",
      "41.55% of the rows are missing location information.\n"
     ]
    }
   ],
   "source": [
    "missing_location_count = feb_df.loc[feb_df[\"location\"].isna()].shape[0]\n",
    "print(f\"{missing_location_count} rows are missing location information.\")\n",
    "print(f\"{round(missing_location_count/feb_df.shape[0]*100,2)}% of the rows are missing location information.\")"
   ]
  },
  {
   "cell_type": "code",
   "execution_count": 46,
   "id": "a93669df-a38a-4781-a37e-f9bc40dfe7d9",
   "metadata": {},
   "outputs": [
    {
     "data": {
      "text/plain": [
       "userid            False\n",
       "username          False\n",
       "location           True\n",
       "following         False\n",
       "followers         False\n",
       "totaltweets       False\n",
       "usercreatedts     False\n",
       "tweetid           False\n",
       "tweetcreatedts    False\n",
       "retweetcount      False\n",
       "text              False\n",
       "hashtags          False\n",
       "language          False\n",
       "favorite_count    False\n",
       "dtype: bool"
      ]
     },
     "execution_count": 46,
     "metadata": {},
     "output_type": "execute_result"
    }
   ],
   "source": [
    "mar_df.isna().any()"
   ]
  },
  {
   "cell_type": "code",
   "execution_count": 47,
   "id": "31113984-b74e-4126-9381-37476072daf5",
   "metadata": {},
   "outputs": [
    {
     "name": "stdout",
     "output_type": "stream",
     "text": [
      "5641339 rows are missing location information.\n",
      "41.42% of the rows are missing location information.\n"
     ]
    }
   ],
   "source": [
    "missing_location_count = mar_df.loc[mar_df[\"location\"].isna()].shape[0]\n",
    "print(f\"{missing_location_count} rows are missing location information.\")\n",
    "print(f\"{round(missing_location_count/mar_df.shape[0]*100,2)}% of the rows are missing location information.\")"
   ]
  },
  {
   "cell_type": "code",
   "execution_count": 48,
   "id": "f4bd3e49-b040-4b09-928a-5439d520ab03",
   "metadata": {},
   "outputs": [
    {
     "data": {
      "text/plain": [
       "userid            False\n",
       "username          False\n",
       "location           True\n",
       "following         False\n",
       "followers         False\n",
       "totaltweets       False\n",
       "usercreatedts     False\n",
       "tweetid           False\n",
       "tweetcreatedts    False\n",
       "retweetcount      False\n",
       "text              False\n",
       "hashtags          False\n",
       "language          False\n",
       "favorite_count    False\n",
       "dtype: bool"
      ]
     },
     "execution_count": 48,
     "metadata": {},
     "output_type": "execute_result"
    }
   ],
   "source": [
    "apr_df.isna().any()"
   ]
  },
  {
   "cell_type": "code",
   "execution_count": 49,
   "id": "9a92aea2-4473-4d79-b2d9-20762876eb14",
   "metadata": {},
   "outputs": [
    {
     "name": "stdout",
     "output_type": "stream",
     "text": [
      "4924613 rows are missing location information.\n",
      "44.33% of the rows are missing location information.\n"
     ]
    }
   ],
   "source": [
    "missing_location_count = apr_df.loc[apr_df[\"location\"].isna()].shape[0]\n",
    "print(f\"{missing_location_count} rows are missing location information.\")\n",
    "print(f\"{round(missing_location_count/apr_df.shape[0]*100,2)}% of the rows are missing location information.\")"
   ]
  },
  {
   "cell_type": "code",
   "execution_count": 50,
   "id": "e7b4bb5e-c22c-4edc-a948-f7664634e917",
   "metadata": {},
   "outputs": [
    {
     "data": {
      "text/plain": [
       "userid            False\n",
       "username          False\n",
       "location           True\n",
       "following         False\n",
       "followers         False\n",
       "totaltweets       False\n",
       "usercreatedts     False\n",
       "tweetid           False\n",
       "tweetcreatedts    False\n",
       "retweetcount      False\n",
       "text              False\n",
       "hashtags          False\n",
       "language          False\n",
       "favorite_count    False\n",
       "dtype: bool"
      ]
     },
     "execution_count": 50,
     "metadata": {},
     "output_type": "execute_result"
    }
   ],
   "source": [
    "may_df.isna().any()"
   ]
  },
  {
   "cell_type": "code",
   "execution_count": 51,
   "id": "d2089a9e-cd15-4940-b51a-dc11beb44d78",
   "metadata": {},
   "outputs": [
    {
     "name": "stdout",
     "output_type": "stream",
     "text": [
      "3276566 rows are missing location information.\n",
      "41.68% of the rows are missing location information.\n"
     ]
    }
   ],
   "source": [
    "missing_location_count = may_df.loc[may_df[\"location\"].isna()].shape[0]\n",
    "print(f\"{missing_location_count} rows are missing location information.\")\n",
    "print(f\"{round(missing_location_count/may_df.shape[0]*100,2)}% of the rows are missing location information.\")"
   ]
  },
  {
   "cell_type": "code",
   "execution_count": 52,
   "id": "47e0fc16-206c-451f-bf98-dd4ac2a821ce",
   "metadata": {},
   "outputs": [
    {
     "data": {
      "text/html": [
       "<div>\n",
       "<style scoped>\n",
       "    .dataframe tbody tr th:only-of-type {\n",
       "        vertical-align: middle;\n",
       "    }\n",
       "\n",
       "    .dataframe tbody tr th {\n",
       "        vertical-align: top;\n",
       "    }\n",
       "\n",
       "    .dataframe thead th {\n",
       "        text-align: right;\n",
       "    }\n",
       "</style>\n",
       "<table border=\"1\" class=\"dataframe\">\n",
       "  <thead>\n",
       "    <tr style=\"text-align: right;\">\n",
       "      <th></th>\n",
       "      <th>userid</th>\n",
       "      <th>username</th>\n",
       "      <th>location</th>\n",
       "      <th>following</th>\n",
       "      <th>followers</th>\n",
       "      <th>totaltweets</th>\n",
       "      <th>usercreatedts</th>\n",
       "      <th>tweetid</th>\n",
       "      <th>tweetcreatedts</th>\n",
       "      <th>retweetcount</th>\n",
       "      <th>text</th>\n",
       "      <th>hashtags</th>\n",
       "      <th>language</th>\n",
       "      <th>favorite_count</th>\n",
       "    </tr>\n",
       "  </thead>\n",
       "  <tbody>\n",
       "    <tr>\n",
       "      <th>1680337</th>\n",
       "      <td>334234572</td>\n",
       "      <td>loskotka_</td>\n",
       "      <td>NaN</td>\n",
       "      <td>294</td>\n",
       "      <td>1170</td>\n",
       "      <td>33265</td>\n",
       "      <td>2011-07-12 19:43:24</td>\n",
       "      <td>1498270306963759115</td>\n",
       "      <td>2022-02-28 12:14:12</td>\n",
       "      <td>7</td>\n",
       "      <td>! UKRAINE WE WANT TO HELP !\\n\\nHey I’m Alia, I...</td>\n",
       "      <td>[]</td>\n",
       "      <td>en</td>\n",
       "      <td>0</td>\n",
       "    </tr>\n",
       "    <tr>\n",
       "      <th>18515</th>\n",
       "      <td>1319010088137445379</td>\n",
       "      <td>HCE93567529</td>\n",
       "      <td>Nigeria</td>\n",
       "      <td>340</td>\n",
       "      <td>19</td>\n",
       "      <td>102</td>\n",
       "      <td>2020-10-21 20:18:56</td>\n",
       "      <td>1498334576468504590</td>\n",
       "      <td>2022-02-28 16:29:35</td>\n",
       "      <td>18</td>\n",
       "      <td>! UKRAINE WE WANT TO HELP !\\n\\nHey I’m Alia, I...</td>\n",
       "      <td>[]</td>\n",
       "      <td>en</td>\n",
       "      <td>0</td>\n",
       "    </tr>\n",
       "    <tr>\n",
       "      <th>1360056</th>\n",
       "      <td>95407913</td>\n",
       "      <td>tektur</td>\n",
       "      <td>München, Bayern, Germany</td>\n",
       "      <td>560</td>\n",
       "      <td>213</td>\n",
       "      <td>45910</td>\n",
       "      <td>2009-12-08 12:11:04</td>\n",
       "      <td>1497929641612521474</td>\n",
       "      <td>2022-02-27 13:40:31</td>\n",
       "      <td>5</td>\n",
       "      <td>!!! EIL !!!#Putin versetzt Atomstreitkräfte in...</td>\n",
       "      <td>[{'text': 'Putin', 'indices': [25, 31]}, {'tex...</td>\n",
       "      <td>de</td>\n",
       "      <td>0</td>\n",
       "    </tr>\n",
       "    <tr>\n",
       "      <th>1359937</th>\n",
       "      <td>1482632039962664960</td>\n",
       "      <td>SubDegauss</td>\n",
       "      <td>NaN</td>\n",
       "      <td>1066</td>\n",
       "      <td>482</td>\n",
       "      <td>2321</td>\n",
       "      <td>2022-01-16 08:33:30</td>\n",
       "      <td>1497929628706607108</td>\n",
       "      <td>2022-02-27 13:40:28</td>\n",
       "      <td>5</td>\n",
       "      <td>!!! EIL !!!#Putin versetzt Atomstreitkräfte in...</td>\n",
       "      <td>[{'text': 'Putin', 'indices': [25, 31]}, {'tex...</td>\n",
       "      <td>de</td>\n",
       "      <td>0</td>\n",
       "    </tr>\n",
       "    <tr>\n",
       "      <th>1358140</th>\n",
       "      <td>1416031161474813958</td>\n",
       "      <td>BBoyce287</td>\n",
       "      <td>NaN</td>\n",
       "      <td>101</td>\n",
       "      <td>67</td>\n",
       "      <td>236</td>\n",
       "      <td>2021-07-16 13:46:20</td>\n",
       "      <td>1497929321838784513</td>\n",
       "      <td>2022-02-27 13:39:15</td>\n",
       "      <td>7</td>\n",
       "      <td>!!! Warning !!!\\nThis video contains scenes th...</td>\n",
       "      <td>[]</td>\n",
       "      <td>en</td>\n",
       "      <td>0</td>\n",
       "    </tr>\n",
       "  </tbody>\n",
       "</table>\n",
       "</div>"
      ],
      "text/plain": [
       "                      userid     username                  location  \\\n",
       "1680337            334234572    loskotka_                       NaN   \n",
       "18515    1319010088137445379  HCE93567529                   Nigeria   \n",
       "1360056             95407913       tektur  München, Bayern, Germany   \n",
       "1359937  1482632039962664960   SubDegauss                       NaN   \n",
       "1358140  1416031161474813958    BBoyce287                       NaN   \n",
       "\n",
       "         following  followers  totaltweets       usercreatedts  \\\n",
       "1680337        294       1170        33265 2011-07-12 19:43:24   \n",
       "18515          340         19          102 2020-10-21 20:18:56   \n",
       "1360056        560        213        45910 2009-12-08 12:11:04   \n",
       "1359937       1066        482         2321 2022-01-16 08:33:30   \n",
       "1358140        101         67          236 2021-07-16 13:46:20   \n",
       "\n",
       "                     tweetid      tweetcreatedts  retweetcount  \\\n",
       "1680337  1498270306963759115 2022-02-28 12:14:12             7   \n",
       "18515    1498334576468504590 2022-02-28 16:29:35            18   \n",
       "1360056  1497929641612521474 2022-02-27 13:40:31             5   \n",
       "1359937  1497929628706607108 2022-02-27 13:40:28             5   \n",
       "1358140  1497929321838784513 2022-02-27 13:39:15             7   \n",
       "\n",
       "                                                      text  \\\n",
       "1680337  ! UKRAINE WE WANT TO HELP !\\n\\nHey I’m Alia, I...   \n",
       "18515    ! UKRAINE WE WANT TO HELP !\\n\\nHey I’m Alia, I...   \n",
       "1360056  !!! EIL !!!#Putin versetzt Atomstreitkräfte in...   \n",
       "1359937  !!! EIL !!!#Putin versetzt Atomstreitkräfte in...   \n",
       "1358140  !!! Warning !!!\\nThis video contains scenes th...   \n",
       "\n",
       "                                                  hashtags language  \\\n",
       "1680337                                                 []       en   \n",
       "18515                                                   []       en   \n",
       "1360056  [{'text': 'Putin', 'indices': [25, 31]}, {'tex...       de   \n",
       "1359937  [{'text': 'Putin', 'indices': [25, 31]}, {'tex...       de   \n",
       "1358140                                                 []       en   \n",
       "\n",
       "         favorite_count  \n",
       "1680337               0  \n",
       "18515                 0  \n",
       "1360056               0  \n",
       "1359937               0  \n",
       "1358140               0  "
      ]
     },
     "execution_count": 52,
     "metadata": {},
     "output_type": "execute_result"
    }
   ],
   "source": [
    "feb_df.loc[feb_df.duplicated([\"text\"],keep=False)].sort_values(\"text\").head()"
   ]
  },
  {
   "cell_type": "code",
   "execution_count": 53,
   "id": "9da84e9f-df20-44d9-8796-15b30d9f3494",
   "metadata": {},
   "outputs": [
    {
     "data": {
      "text/html": [
       "<div>\n",
       "<style scoped>\n",
       "    .dataframe tbody tr th:only-of-type {\n",
       "        vertical-align: middle;\n",
       "    }\n",
       "\n",
       "    .dataframe tbody tr th {\n",
       "        vertical-align: top;\n",
       "    }\n",
       "\n",
       "    .dataframe thead th {\n",
       "        text-align: right;\n",
       "    }\n",
       "</style>\n",
       "<table border=\"1\" class=\"dataframe\">\n",
       "  <thead>\n",
       "    <tr style=\"text-align: right;\">\n",
       "      <th></th>\n",
       "      <th>userid</th>\n",
       "      <th>username</th>\n",
       "      <th>location</th>\n",
       "      <th>following</th>\n",
       "      <th>followers</th>\n",
       "      <th>totaltweets</th>\n",
       "      <th>usercreatedts</th>\n",
       "      <th>tweetid</th>\n",
       "      <th>tweetcreatedts</th>\n",
       "      <th>retweetcount</th>\n",
       "      <th>text</th>\n",
       "      <th>hashtags</th>\n",
       "      <th>language</th>\n",
       "      <th>favorite_count</th>\n",
       "    </tr>\n",
       "  </thead>\n",
       "  <tbody>\n",
       "    <tr>\n",
       "      <th>6291274</th>\n",
       "      <td>1160701680587083776</td>\n",
       "      <td>DarkSabin</td>\n",
       "      <td>NaN</td>\n",
       "      <td>145</td>\n",
       "      <td>24</td>\n",
       "      <td>5718</td>\n",
       "      <td>2019-08-11 23:57:00</td>\n",
       "      <td>1503170286723678212</td>\n",
       "      <td>2022-03-14 00:44:58</td>\n",
       "      <td>6</td>\n",
       "      <td>!\\n\\n#Putin ‼️Obyś zdechł skurwysynu!!\\n\\n#Ukr...</td>\n",
       "      <td>[{'text': 'Putin', 'indices': [19, 25]}, {'tex...</td>\n",
       "      <td>pl</td>\n",
       "      <td>0</td>\n",
       "    </tr>\n",
       "    <tr>\n",
       "      <th>5815609</th>\n",
       "      <td>835393924340527104</td>\n",
       "      <td>AWarszasky</td>\n",
       "      <td>Warsaw, Poland</td>\n",
       "      <td>1598</td>\n",
       "      <td>1470</td>\n",
       "      <td>8368</td>\n",
       "      <td>2017-02-25 07:40:07</td>\n",
       "      <td>1502788109519540228</td>\n",
       "      <td>2022-03-12 23:26:20</td>\n",
       "      <td>2</td>\n",
       "      <td>!\\n\\n#Putin ‼️Obyś zdechł skurwysynu!!\\n\\n#Ukr...</td>\n",
       "      <td>[{'text': 'Putin', 'indices': [3, 9]}, {'text'...</td>\n",
       "      <td>pl</td>\n",
       "      <td>3</td>\n",
       "    </tr>\n",
       "    <tr>\n",
       "      <th>6102251</th>\n",
       "      <td>1496922463623647233</td>\n",
       "      <td>KedarNaw</td>\n",
       "      <td>NaN</td>\n",
       "      <td>8</td>\n",
       "      <td>0</td>\n",
       "      <td>50</td>\n",
       "      <td>2022-02-24 18:58:59</td>\n",
       "      <td>1503030111985152005</td>\n",
       "      <td>2022-03-13 15:27:58</td>\n",
       "      <td>5</td>\n",
       "      <td>!\\n\\n#Putin ‼️Obyś zdechł skurwysynu!!\\n\\n#Ukr...</td>\n",
       "      <td>[{'text': 'Putin', 'indices': [19, 25]}, {'tex...</td>\n",
       "      <td>pl</td>\n",
       "      <td>0</td>\n",
       "    </tr>\n",
       "    <tr>\n",
       "      <th>6066805</th>\n",
       "      <td>1250340156139139074</td>\n",
       "      <td>Beata23877802</td>\n",
       "      <td>NaN</td>\n",
       "      <td>67</td>\n",
       "      <td>2</td>\n",
       "      <td>74</td>\n",
       "      <td>2020-04-15 08:28:39</td>\n",
       "      <td>1503006411625803777</td>\n",
       "      <td>2022-03-13 13:53:47</td>\n",
       "      <td>4</td>\n",
       "      <td>!\\n\\n#Putin ‼️Obyś zdechł skurwysynu!!\\n\\n#Ukr...</td>\n",
       "      <td>[{'text': 'Putin', 'indices': [19, 25]}, {'tex...</td>\n",
       "      <td>pl</td>\n",
       "      <td>0</td>\n",
       "    </tr>\n",
       "    <tr>\n",
       "      <th>5929016</th>\n",
       "      <td>742877683646922752</td>\n",
       "      <td>rafalch2</td>\n",
       "      <td>Dolnośląskie, Polska</td>\n",
       "      <td>888</td>\n",
       "      <td>593</td>\n",
       "      <td>19260</td>\n",
       "      <td>2016-06-15 00:33:37</td>\n",
       "      <td>1502903639706374149</td>\n",
       "      <td>2022-03-13 07:05:24</td>\n",
       "      <td>3</td>\n",
       "      <td>!\\n\\n#Putin ‼️Obyś zdechł skurwysynu!!\\n\\n#Ukr...</td>\n",
       "      <td>[{'text': 'Putin', 'indices': [19, 25]}, {'tex...</td>\n",
       "      <td>pl</td>\n",
       "      <td>0</td>\n",
       "    </tr>\n",
       "  </tbody>\n",
       "</table>\n",
       "</div>"
      ],
      "text/plain": [
       "                      userid       username              location  following  \\\n",
       "6291274  1160701680587083776      DarkSabin                   NaN        145   \n",
       "5815609   835393924340527104     AWarszasky        Warsaw, Poland       1598   \n",
       "6102251  1496922463623647233       KedarNaw                   NaN          8   \n",
       "6066805  1250340156139139074  Beata23877802                   NaN         67   \n",
       "5929016   742877683646922752       rafalch2  Dolnośląskie, Polska        888   \n",
       "\n",
       "         followers  totaltweets       usercreatedts              tweetid  \\\n",
       "6291274         24         5718 2019-08-11 23:57:00  1503170286723678212   \n",
       "5815609       1470         8368 2017-02-25 07:40:07  1502788109519540228   \n",
       "6102251          0           50 2022-02-24 18:58:59  1503030111985152005   \n",
       "6066805          2           74 2020-04-15 08:28:39  1503006411625803777   \n",
       "5929016        593        19260 2016-06-15 00:33:37  1502903639706374149   \n",
       "\n",
       "             tweetcreatedts  retweetcount  \\\n",
       "6291274 2022-03-14 00:44:58             6   \n",
       "5815609 2022-03-12 23:26:20             2   \n",
       "6102251 2022-03-13 15:27:58             5   \n",
       "6066805 2022-03-13 13:53:47             4   \n",
       "5929016 2022-03-13 07:05:24             3   \n",
       "\n",
       "                                                      text  \\\n",
       "6291274  !\\n\\n#Putin ‼️Obyś zdechł skurwysynu!!\\n\\n#Ukr...   \n",
       "5815609  !\\n\\n#Putin ‼️Obyś zdechł skurwysynu!!\\n\\n#Ukr...   \n",
       "6102251  !\\n\\n#Putin ‼️Obyś zdechł skurwysynu!!\\n\\n#Ukr...   \n",
       "6066805  !\\n\\n#Putin ‼️Obyś zdechł skurwysynu!!\\n\\n#Ukr...   \n",
       "5929016  !\\n\\n#Putin ‼️Obyś zdechł skurwysynu!!\\n\\n#Ukr...   \n",
       "\n",
       "                                                  hashtags language  \\\n",
       "6291274  [{'text': 'Putin', 'indices': [19, 25]}, {'tex...       pl   \n",
       "5815609  [{'text': 'Putin', 'indices': [3, 9]}, {'text'...       pl   \n",
       "6102251  [{'text': 'Putin', 'indices': [19, 25]}, {'tex...       pl   \n",
       "6066805  [{'text': 'Putin', 'indices': [19, 25]}, {'tex...       pl   \n",
       "5929016  [{'text': 'Putin', 'indices': [19, 25]}, {'tex...       pl   \n",
       "\n",
       "         favorite_count  \n",
       "6291274               0  \n",
       "5815609               3  \n",
       "6102251               0  \n",
       "6066805               0  \n",
       "5929016               0  "
      ]
     },
     "execution_count": 53,
     "metadata": {},
     "output_type": "execute_result"
    }
   ],
   "source": [
    "mar_df.loc[mar_df.duplicated([\"text\"],keep=False)].sort_values(\"text\").head()"
   ]
  },
  {
   "cell_type": "code",
   "execution_count": 54,
   "id": "3f90375c-6f4e-41df-869f-5f6819e5440f",
   "metadata": {},
   "outputs": [
    {
     "data": {
      "text/html": [
       "<div>\n",
       "<style scoped>\n",
       "    .dataframe tbody tr th:only-of-type {\n",
       "        vertical-align: middle;\n",
       "    }\n",
       "\n",
       "    .dataframe tbody tr th {\n",
       "        vertical-align: top;\n",
       "    }\n",
       "\n",
       "    .dataframe thead th {\n",
       "        text-align: right;\n",
       "    }\n",
       "</style>\n",
       "<table border=\"1\" class=\"dataframe\">\n",
       "  <thead>\n",
       "    <tr style=\"text-align: right;\">\n",
       "      <th></th>\n",
       "      <th>userid</th>\n",
       "      <th>username</th>\n",
       "      <th>location</th>\n",
       "      <th>following</th>\n",
       "      <th>followers</th>\n",
       "      <th>totaltweets</th>\n",
       "      <th>usercreatedts</th>\n",
       "      <th>tweetid</th>\n",
       "      <th>tweetcreatedts</th>\n",
       "      <th>retweetcount</th>\n",
       "      <th>text</th>\n",
       "      <th>hashtags</th>\n",
       "      <th>language</th>\n",
       "      <th>favorite_count</th>\n",
       "    </tr>\n",
       "  </thead>\n",
       "  <tbody>\n",
       "    <tr>\n",
       "      <th>225792</th>\n",
       "      <td>902356780486930432</td>\n",
       "      <td>3M_MarkM</td>\n",
       "      <td>TX Hill Country</td>\n",
       "      <td>6623</td>\n",
       "      <td>6302</td>\n",
       "      <td>39202</td>\n",
       "      <td>2017-08-29 02:26:36</td>\n",
       "      <td>1515374933995569161</td>\n",
       "      <td>2022-04-16 17:01:53</td>\n",
       "      <td>11</td>\n",
       "      <td>!\\n\\n     Busses instead of trains.\\n\\n#Ukrain...</td>\n",
       "      <td>[{'text': 'Ukraine', 'indices': [56, 64]}, {'t...</td>\n",
       "      <td>en</td>\n",
       "      <td>0</td>\n",
       "    </tr>\n",
       "    <tr>\n",
       "      <th>325975</th>\n",
       "      <td>1929030181</td>\n",
       "      <td>marynlm</td>\n",
       "      <td>Florida, USA</td>\n",
       "      <td>72546</td>\n",
       "      <td>74278</td>\n",
       "      <td>179849</td>\n",
       "      <td>2013-10-03 02:29:20</td>\n",
       "      <td>1515471280585256973</td>\n",
       "      <td>2022-04-16 23:24:44</td>\n",
       "      <td>33</td>\n",
       "      <td>!\\n\\n     Busses instead of trains.\\n\\n#Ukrain...</td>\n",
       "      <td>[{'text': 'Ukraine', 'indices': [56, 64]}, {'t...</td>\n",
       "      <td>en</td>\n",
       "      <td>0</td>\n",
       "    </tr>\n",
       "    <tr>\n",
       "      <th>256403</th>\n",
       "      <td>760694335356690432</td>\n",
       "      <td>1zzyzyx1</td>\n",
       "      <td>L.A. &amp; Coachella Valley</td>\n",
       "      <td>24366</td>\n",
       "      <td>23162</td>\n",
       "      <td>351961</td>\n",
       "      <td>2016-08-03 04:30:37</td>\n",
       "      <td>1515402041333452802</td>\n",
       "      <td>2022-04-16 18:49:36</td>\n",
       "      <td>27</td>\n",
       "      <td>!\\n\\n     Busses instead of trains.\\n\\n#Ukrain...</td>\n",
       "      <td>[{'text': 'Ukraine', 'indices': [56, 64]}, {'t...</td>\n",
       "      <td>en</td>\n",
       "      <td>0</td>\n",
       "    </tr>\n",
       "    <tr>\n",
       "      <th>221005</th>\n",
       "      <td>73377501</td>\n",
       "      <td>ScottsHusband</td>\n",
       "      <td>NC</td>\n",
       "      <td>13969</td>\n",
       "      <td>15549</td>\n",
       "      <td>183620</td>\n",
       "      <td>2009-09-11 12:46:53</td>\n",
       "      <td>1515370341643829249</td>\n",
       "      <td>2022-04-16 16:43:38</td>\n",
       "      <td>4</td>\n",
       "      <td>!\\n\\n     Busses instead of trains.\\n\\n#Ukrain...</td>\n",
       "      <td>[{'text': 'Ukraine', 'indices': [56, 64]}, {'t...</td>\n",
       "      <td>en</td>\n",
       "      <td>0</td>\n",
       "    </tr>\n",
       "    <tr>\n",
       "      <th>262815</th>\n",
       "      <td>2766603077</td>\n",
       "      <td>slwiede66</td>\n",
       "      <td>WESTERN NEW YORK</td>\n",
       "      <td>5000</td>\n",
       "      <td>4023</td>\n",
       "      <td>214531</td>\n",
       "      <td>2014-09-10 20:05:29</td>\n",
       "      <td>1515408563132420096</td>\n",
       "      <td>2022-04-16 19:15:31</td>\n",
       "      <td>28</td>\n",
       "      <td>!\\n\\n     Busses instead of trains.\\n\\n#Ukrain...</td>\n",
       "      <td>[{'text': 'Ukraine', 'indices': [56, 64]}, {'t...</td>\n",
       "      <td>en</td>\n",
       "      <td>0</td>\n",
       "    </tr>\n",
       "  </tbody>\n",
       "</table>\n",
       "</div>"
      ],
      "text/plain": [
       "                    userid       username                 location  following  \\\n",
       "225792  902356780486930432       3M_MarkM          TX Hill Country       6623   \n",
       "325975          1929030181        marynlm             Florida, USA      72546   \n",
       "256403  760694335356690432       1zzyzyx1  L.A. & Coachella Valley      24366   \n",
       "221005            73377501  ScottsHusband                       NC      13969   \n",
       "262815          2766603077      slwiede66         WESTERN NEW YORK       5000   \n",
       "\n",
       "        followers  totaltweets       usercreatedts              tweetid  \\\n",
       "225792       6302        39202 2017-08-29 02:26:36  1515374933995569161   \n",
       "325975      74278       179849 2013-10-03 02:29:20  1515471280585256973   \n",
       "256403      23162       351961 2016-08-03 04:30:37  1515402041333452802   \n",
       "221005      15549       183620 2009-09-11 12:46:53  1515370341643829249   \n",
       "262815       4023       214531 2014-09-10 20:05:29  1515408563132420096   \n",
       "\n",
       "            tweetcreatedts  retweetcount  \\\n",
       "225792 2022-04-16 17:01:53            11   \n",
       "325975 2022-04-16 23:24:44            33   \n",
       "256403 2022-04-16 18:49:36            27   \n",
       "221005 2022-04-16 16:43:38             4   \n",
       "262815 2022-04-16 19:15:31            28   \n",
       "\n",
       "                                                     text  \\\n",
       "225792  !\\n\\n     Busses instead of trains.\\n\\n#Ukrain...   \n",
       "325975  !\\n\\n     Busses instead of trains.\\n\\n#Ukrain...   \n",
       "256403  !\\n\\n     Busses instead of trains.\\n\\n#Ukrain...   \n",
       "221005  !\\n\\n     Busses instead of trains.\\n\\n#Ukrain...   \n",
       "262815  !\\n\\n     Busses instead of trains.\\n\\n#Ukrain...   \n",
       "\n",
       "                                                 hashtags language  \\\n",
       "225792  [{'text': 'Ukraine', 'indices': [56, 64]}, {'t...       en   \n",
       "325975  [{'text': 'Ukraine', 'indices': [56, 64]}, {'t...       en   \n",
       "256403  [{'text': 'Ukraine', 'indices': [56, 64]}, {'t...       en   \n",
       "221005  [{'text': 'Ukraine', 'indices': [56, 64]}, {'t...       en   \n",
       "262815  [{'text': 'Ukraine', 'indices': [56, 64]}, {'t...       en   \n",
       "\n",
       "        favorite_count  \n",
       "225792               0  \n",
       "325975               0  \n",
       "256403               0  \n",
       "221005               0  \n",
       "262815               0  "
      ]
     },
     "execution_count": 54,
     "metadata": {},
     "output_type": "execute_result"
    }
   ],
   "source": [
    "apr_df.loc[apr_df.duplicated([\"text\"],keep=False)].sort_values(\"text\").head()"
   ]
  },
  {
   "cell_type": "code",
   "execution_count": 55,
   "id": "7f60f54d-429e-4599-8dfc-d527fabee326",
   "metadata": {},
   "outputs": [
    {
     "data": {
      "text/html": [
       "<div>\n",
       "<style scoped>\n",
       "    .dataframe tbody tr th:only-of-type {\n",
       "        vertical-align: middle;\n",
       "    }\n",
       "\n",
       "    .dataframe tbody tr th {\n",
       "        vertical-align: top;\n",
       "    }\n",
       "\n",
       "    .dataframe thead th {\n",
       "        text-align: right;\n",
       "    }\n",
       "</style>\n",
       "<table border=\"1\" class=\"dataframe\">\n",
       "  <thead>\n",
       "    <tr style=\"text-align: right;\">\n",
       "      <th></th>\n",
       "      <th>userid</th>\n",
       "      <th>username</th>\n",
       "      <th>location</th>\n",
       "      <th>following</th>\n",
       "      <th>followers</th>\n",
       "      <th>totaltweets</th>\n",
       "      <th>usercreatedts</th>\n",
       "      <th>tweetid</th>\n",
       "      <th>tweetcreatedts</th>\n",
       "      <th>retweetcount</th>\n",
       "      <th>text</th>\n",
       "      <th>hashtags</th>\n",
       "      <th>language</th>\n",
       "      <th>favorite_count</th>\n",
       "    </tr>\n",
       "  </thead>\n",
       "  <tbody>\n",
       "    <tr>\n",
       "      <th>738880</th>\n",
       "      <td>1203153399266459649</td>\n",
       "      <td>LovelydayTech</td>\n",
       "      <td>NaN</td>\n",
       "      <td>467</td>\n",
       "      <td>645</td>\n",
       "      <td>64825</td>\n",
       "      <td>2019-12-07 03:25:30</td>\n",
       "      <td>1522739122909106176</td>\n",
       "      <td>2022-05-07 00:44:32</td>\n",
       "      <td>1</td>\n",
       "      <td>! \\n\\n#slow #fast #UN_Women\\n\\n#UN #NATO #WHO ...</td>\n",
       "      <td>[{'text': 'slow', 'indices': [24, 29]}, {'text...</td>\n",
       "      <td>en</td>\n",
       "      <td>0</td>\n",
       "    </tr>\n",
       "    <tr>\n",
       "      <th>738557</th>\n",
       "      <td>1510360241552207881</td>\n",
       "      <td>Marcelobass182</td>\n",
       "      <td>Minas Gerais Br / Itabira-Bh</td>\n",
       "      <td>73</td>\n",
       "      <td>15</td>\n",
       "      <td>16154</td>\n",
       "      <td>2022-04-02 20:55:56</td>\n",
       "      <td>1522738475115634689</td>\n",
       "      <td>2022-05-07 00:41:58</td>\n",
       "      <td>1</td>\n",
       "      <td>! \\n\\n#slow #fast #UN_Women\\n\\n#UN #NATO #WHO ...</td>\n",
       "      <td>[{'text': 'slow', 'indices': [4, 9]}, {'text':...</td>\n",
       "      <td>en</td>\n",
       "      <td>0</td>\n",
       "    </tr>\n",
       "    <tr>\n",
       "      <th>530241</th>\n",
       "      <td>1498589291865329665</td>\n",
       "      <td>YroslawS</td>\n",
       "      <td>NaN</td>\n",
       "      <td>21</td>\n",
       "      <td>1</td>\n",
       "      <td>53</td>\n",
       "      <td>2022-03-01 09:22:06</td>\n",
       "      <td>1522525886410539008</td>\n",
       "      <td>2022-05-06 10:37:13</td>\n",
       "      <td>2</td>\n",
       "      <td>! ! The Russians broke into Azovstal\\nIn block...</td>\n",
       "      <td>[]</td>\n",
       "      <td>en</td>\n",
       "      <td>0</td>\n",
       "    </tr>\n",
       "    <tr>\n",
       "      <th>168831</th>\n",
       "      <td>1462196919699222534</td>\n",
       "      <td>VolodymyrSosun</td>\n",
       "      <td>Україна</td>\n",
       "      <td>190</td>\n",
       "      <td>10</td>\n",
       "      <td>145</td>\n",
       "      <td>2021-11-20 23:11:57</td>\n",
       "      <td>1521835197515317249</td>\n",
       "      <td>2022-05-04 12:52:40</td>\n",
       "      <td>0</td>\n",
       "      <td>! ! The Russians broke into Azovstal\\nIn block...</td>\n",
       "      <td>[{'text': 'azovstal', 'indices': [194, 203]}, ...</td>\n",
       "      <td>en</td>\n",
       "      <td>0</td>\n",
       "    </tr>\n",
       "    <tr>\n",
       "      <th>374029</th>\n",
       "      <td>1427991213655793664</td>\n",
       "      <td>Mospedaw1</td>\n",
       "      <td>NaN</td>\n",
       "      <td>5004</td>\n",
       "      <td>390</td>\n",
       "      <td>12948</td>\n",
       "      <td>2021-08-18 13:50:33</td>\n",
       "      <td>1521990897369444352</td>\n",
       "      <td>2022-05-04 23:11:21</td>\n",
       "      <td>1</td>\n",
       "      <td>! ! The Russians broke into Azovstal\\nIn block...</td>\n",
       "      <td>[]</td>\n",
       "      <td>en</td>\n",
       "      <td>0</td>\n",
       "    </tr>\n",
       "  </tbody>\n",
       "</table>\n",
       "</div>"
      ],
      "text/plain": [
       "                     userid        username                       location  \\\n",
       "738880  1203153399266459649   LovelydayTech                            NaN   \n",
       "738557  1510360241552207881  Marcelobass182  Minas Gerais Br / Itabira-Bh    \n",
       "530241  1498589291865329665        YroslawS                            NaN   \n",
       "168831  1462196919699222534  VolodymyrSosun                        Україна   \n",
       "374029  1427991213655793664       Mospedaw1                            NaN   \n",
       "\n",
       "        following  followers  totaltweets       usercreatedts  \\\n",
       "738880        467        645        64825 2019-12-07 03:25:30   \n",
       "738557         73         15        16154 2022-04-02 20:55:56   \n",
       "530241         21          1           53 2022-03-01 09:22:06   \n",
       "168831        190         10          145 2021-11-20 23:11:57   \n",
       "374029       5004        390        12948 2021-08-18 13:50:33   \n",
       "\n",
       "                    tweetid      tweetcreatedts  retweetcount  \\\n",
       "738880  1522739122909106176 2022-05-07 00:44:32             1   \n",
       "738557  1522738475115634689 2022-05-07 00:41:58             1   \n",
       "530241  1522525886410539008 2022-05-06 10:37:13             2   \n",
       "168831  1521835197515317249 2022-05-04 12:52:40             0   \n",
       "374029  1521990897369444352 2022-05-04 23:11:21             1   \n",
       "\n",
       "                                                     text  \\\n",
       "738880  ! \\n\\n#slow #fast #UN_Women\\n\\n#UN #NATO #WHO ...   \n",
       "738557  ! \\n\\n#slow #fast #UN_Women\\n\\n#UN #NATO #WHO ...   \n",
       "530241  ! ! The Russians broke into Azovstal\\nIn block...   \n",
       "168831  ! ! The Russians broke into Azovstal\\nIn block...   \n",
       "374029  ! ! The Russians broke into Azovstal\\nIn block...   \n",
       "\n",
       "                                                 hashtags language  \\\n",
       "738880  [{'text': 'slow', 'indices': [24, 29]}, {'text...       en   \n",
       "738557  [{'text': 'slow', 'indices': [4, 9]}, {'text':...       en   \n",
       "530241                                                 []       en   \n",
       "168831  [{'text': 'azovstal', 'indices': [194, 203]}, ...       en   \n",
       "374029                                                 []       en   \n",
       "\n",
       "        favorite_count  \n",
       "738880               0  \n",
       "738557               0  \n",
       "530241               0  \n",
       "168831               0  \n",
       "374029               0  "
      ]
     },
     "execution_count": 55,
     "metadata": {},
     "output_type": "execute_result"
    }
   ],
   "source": [
    "may_df.loc[may_df.duplicated([\"text\"],keep=False)].sort_values(\"text\").head()"
   ]
  },
  {
   "cell_type": "code",
   "execution_count": 23,
   "id": "efa05be2-a3ab-4c13-af04-18cb8de58615",
   "metadata": {},
   "outputs": [],
   "source": [
    "feb_df.drop_duplicates([\"text\"], inplace=True)"
   ]
  },
  {
   "cell_type": "code",
   "execution_count": 24,
   "id": "52519d8a-0ae4-4dd7-aa82-75362bf85d03",
   "metadata": {},
   "outputs": [
    {
     "data": {
      "text/plain": [
       "False"
      ]
     },
     "execution_count": 24,
     "metadata": {},
     "output_type": "execute_result"
    }
   ],
   "source": [
    "feb_df.duplicated().any()"
   ]
  },
  {
   "cell_type": "code",
   "execution_count": 25,
   "id": "9e42dc27-bd12-4feb-92dc-c4259de85100",
   "metadata": {},
   "outputs": [],
   "source": [
    "mar_df.drop_duplicates([\"text\"], inplace=True)"
   ]
  },
  {
   "cell_type": "code",
   "execution_count": 26,
   "id": "ef2b9000-e397-49a3-a991-a5f2028825e5",
   "metadata": {},
   "outputs": [
    {
     "data": {
      "text/plain": [
       "False"
      ]
     },
     "execution_count": 26,
     "metadata": {},
     "output_type": "execute_result"
    }
   ],
   "source": [
    "mar_df.duplicated().any()"
   ]
  },
  {
   "cell_type": "code",
   "execution_count": 27,
   "id": "a4f0b451-40d8-4790-a845-6cf6bacab863",
   "metadata": {},
   "outputs": [],
   "source": [
    "apr_df.drop_duplicates([\"text\"], inplace=True)"
   ]
  },
  {
   "cell_type": "code",
   "execution_count": 28,
   "id": "8643851c-5a1c-4a80-b819-0f21a2dc08a7",
   "metadata": {},
   "outputs": [
    {
     "data": {
      "text/plain": [
       "False"
      ]
     },
     "execution_count": 28,
     "metadata": {},
     "output_type": "execute_result"
    }
   ],
   "source": [
    "apr_df.duplicated().any()"
   ]
  },
  {
   "cell_type": "code",
   "execution_count": 42,
   "id": "5b74d859-2ce7-4126-95ad-05f5fc2e7de1",
   "metadata": {},
   "outputs": [],
   "source": [
    "may_df.drop_duplicates([\"text\"], inplace=True)"
   ]
  },
  {
   "cell_type": "code",
   "execution_count": 43,
   "id": "11dd9cdc-ae3d-4335-bacc-d30650e33e2d",
   "metadata": {},
   "outputs": [
    {
     "data": {
      "text/plain": [
       "False"
      ]
     },
     "execution_count": 43,
     "metadata": {},
     "output_type": "execute_result"
    }
   ],
   "source": [
    "may_df.duplicated().any()"
   ]
  },
  {
   "cell_type": "code",
   "execution_count": 29,
   "id": "a5a1d037-8c69-41f6-a4e7-7c74bfa30bd3",
   "metadata": {},
   "outputs": [
    {
     "data": {
      "text/plain": [
       "(256663, 14)"
      ]
     },
     "execution_count": 29,
     "metadata": {},
     "output_type": "execute_result"
    }
   ],
   "source": [
    "feb_df.shape"
   ]
  },
  {
   "cell_type": "code",
   "execution_count": 65,
   "id": "3fdc3a60-e4da-491e-9a3d-204889824b96",
   "metadata": {},
   "outputs": [
    {
     "data": {
      "text/plain": [
       "(3852815, 14)"
      ]
     },
     "execution_count": 65,
     "metadata": {},
     "output_type": "execute_result"
    }
   ],
   "source": [
    "mar_df.shape"
   ]
  },
  {
   "cell_type": "code",
   "execution_count": 66,
   "id": "650ded4d-21ad-4944-87e0-fa44e7e1447e",
   "metadata": {},
   "outputs": [
    {
     "data": {
      "text/plain": [
       "(2576613, 14)"
      ]
     },
     "execution_count": 66,
     "metadata": {},
     "output_type": "execute_result"
    }
   ],
   "source": [
    "apr_df.shape"
   ]
  },
  {
   "cell_type": "code",
   "execution_count": 67,
   "id": "c47ed07d-d5d4-4f31-8c98-df4f8f58c15f",
   "metadata": {},
   "outputs": [
    {
     "data": {
      "text/plain": [
       "(2743456, 14)"
      ]
     },
     "execution_count": 67,
     "metadata": {},
     "output_type": "execute_result"
    }
   ],
   "source": [
    "may_df.shape"
   ]
  },
  {
   "cell_type": "code",
   "execution_count": 30,
   "id": "14460b72-5a00-49fe-a082-849520cc6f56",
   "metadata": {},
   "outputs": [
    {
     "name": "stdout",
     "output_type": "stream",
     "text": [
      "149088 rows are in English\n"
     ]
    }
   ],
   "source": [
    "feb_df = feb_df.loc[feb_df[\"language\"]==\"en\"]\n",
    "print(f\"{feb_df.shape[0]} rows are in English\")"
   ]
  },
  {
   "cell_type": "code",
   "execution_count": 31,
   "id": "33eeb2af-659f-427f-8419-756be2dc3135",
   "metadata": {},
   "outputs": [
    {
     "name": "stdout",
     "output_type": "stream",
     "text": [
      "2282984 rows are in English\n"
     ]
    }
   ],
   "source": [
    "mar_df = mar_df.loc[mar_df[\"language\"]==\"en\"]\n",
    "print(f\"{mar_df.shape[0]} rows are in English\")"
   ]
  },
  {
   "cell_type": "code",
   "execution_count": 32,
   "id": "f7e0ec5a-b037-44ea-a92e-58e4009179ac",
   "metadata": {},
   "outputs": [
    {
     "name": "stdout",
     "output_type": "stream",
     "text": [
      "1463898 rows are in English\n"
     ]
    }
   ],
   "source": [
    "apr_df = apr_df.loc[apr_df[\"language\"]==\"en\"]\n",
    "print(f\"{apr_df.shape[0]} rows are in English\")"
   ]
  },
  {
   "cell_type": "code",
   "execution_count": 47,
   "id": "31ad5464-70cb-47bc-89b2-0fa8ebaa6520",
   "metadata": {},
   "outputs": [
    {
     "name": "stdout",
     "output_type": "stream",
     "text": [
      "1602354 rows are in English\n"
     ]
    }
   ],
   "source": [
    "may_df = may_df.loc[may_df[\"language\"]==\"en\"]\n",
    "print(f\"{may_df.shape[0]} rows are in English\")"
   ]
  },
  {
   "cell_type": "code",
   "execution_count": 78,
   "id": "79c97466-42e2-4fe7-b0c1-b4398d24913d",
   "metadata": {},
   "outputs": [
    {
     "data": {
      "text/plain": [
       "Index(['userid', 'username', 'location', 'following', 'followers',\n",
       "       'totaltweets', 'usercreatedts', 'tweetid', 'tweetcreatedts',\n",
       "       'retweetcount', 'text', 'hashtags', 'language', 'favorite_count'],\n",
       "      dtype='object')"
      ]
     },
     "execution_count": 78,
     "metadata": {},
     "output_type": "execute_result"
    }
   ],
   "source": [
    "may_df.columns"
   ]
  },
  {
   "cell_type": "code",
   "execution_count": 33,
   "id": "d09cb9e1-784b-4e11-8b7b-02bb1b6e38d1",
   "metadata": {},
   "outputs": [
    {
     "data": {
      "text/html": [
       "<div>\n",
       "<style scoped>\n",
       "    .dataframe tbody tr th:only-of-type {\n",
       "        vertical-align: middle;\n",
       "    }\n",
       "\n",
       "    .dataframe tbody tr th {\n",
       "        vertical-align: top;\n",
       "    }\n",
       "\n",
       "    .dataframe thead th {\n",
       "        text-align: right;\n",
       "    }\n",
       "</style>\n",
       "<table border=\"1\" class=\"dataframe\">\n",
       "  <thead>\n",
       "    <tr style=\"text-align: right;\">\n",
       "      <th></th>\n",
       "      <th>userid</th>\n",
       "      <th>username</th>\n",
       "      <th>location</th>\n",
       "      <th>following</th>\n",
       "      <th>followers</th>\n",
       "      <th>totaltweets</th>\n",
       "      <th>usercreatedts</th>\n",
       "      <th>tweetid</th>\n",
       "      <th>tweetcreatedts</th>\n",
       "      <th>retweetcount</th>\n",
       "      <th>text</th>\n",
       "      <th>hashtags</th>\n",
       "      <th>language</th>\n",
       "      <th>favorite_count</th>\n",
       "    </tr>\n",
       "  </thead>\n",
       "  <tbody>\n",
       "    <tr>\n",
       "      <th>0</th>\n",
       "      <td>1466752038960656385</td>\n",
       "      <td>Curtin2Tiffany</td>\n",
       "      <td>Colorado, USA</td>\n",
       "      <td>253</td>\n",
       "      <td>40</td>\n",
       "      <td>94</td>\n",
       "      <td>2021-12-03 12:52:22</td>\n",
       "      <td>1497724980259262467</td>\n",
       "      <td>2022-02-27 00:07:16</td>\n",
       "      <td>5</td>\n",
       "      <td>#UkraineRussiaWar Captured Russian soldiers\\n\\...</td>\n",
       "      <td>[{'text': 'UkraineRussiaWar', 'indices': [19, ...</td>\n",
       "      <td>en</td>\n",
       "      <td>0</td>\n",
       "    </tr>\n",
       "    <tr>\n",
       "      <th>1</th>\n",
       "      <td>1111276809302216710</td>\n",
       "      <td>5ela60</td>\n",
       "      <td>NaN</td>\n",
       "      <td>167</td>\n",
       "      <td>9</td>\n",
       "      <td>656</td>\n",
       "      <td>2019-03-28 14:40:12</td>\n",
       "      <td>1497724980271984641</td>\n",
       "      <td>2022-02-27 00:07:16</td>\n",
       "      <td>28</td>\n",
       "      <td>Like everybody else I am rooting for Ukraine t...</td>\n",
       "      <td>[]</td>\n",
       "      <td>en</td>\n",
       "      <td>0</td>\n",
       "    </tr>\n",
       "    <tr>\n",
       "      <th>2</th>\n",
       "      <td>597779527</td>\n",
       "      <td>OurTurnToRescue</td>\n",
       "      <td>NaN</td>\n",
       "      <td>4847</td>\n",
       "      <td>4080</td>\n",
       "      <td>33666</td>\n",
       "      <td>2012-06-02 21:53:59</td>\n",
       "      <td>1497724980573966346</td>\n",
       "      <td>2022-02-27 00:07:16</td>\n",
       "      <td>1</td>\n",
       "      <td>We elected a game show host and got a clown. #...</td>\n",
       "      <td>[{'text': 'Ukraine', 'indices': [63, 71]}]</td>\n",
       "      <td>en</td>\n",
       "      <td>0</td>\n",
       "    </tr>\n",
       "    <tr>\n",
       "      <th>3</th>\n",
       "      <td>1646145848</td>\n",
       "      <td>DrWAVeSportCd1</td>\n",
       "      <td>USA</td>\n",
       "      <td>5002</td>\n",
       "      <td>3950</td>\n",
       "      <td>466629</td>\n",
       "      <td>2013-08-04 21:07:08</td>\n",
       "      <td>1497724980653694976</td>\n",
       "      <td>2022-02-27 00:07:16</td>\n",
       "      <td>277</td>\n",
       "      <td>Ukrainian soldiers wearing sunflowers in their...</td>\n",
       "      <td>[{'text': 'Ukraine', 'indices': [122, 130]}, {...</td>\n",
       "      <td>en</td>\n",
       "      <td>0</td>\n",
       "    </tr>\n",
       "    <tr>\n",
       "      <th>4</th>\n",
       "      <td>2191952909</td>\n",
       "      <td>WyvernReports</td>\n",
       "      <td>The Blue Marble</td>\n",
       "      <td>700</td>\n",
       "      <td>6424</td>\n",
       "      <td>20689</td>\n",
       "      <td>2013-11-22 21:51:19</td>\n",
       "      <td>1497724980833968129</td>\n",
       "      <td>2022-02-27 00:07:16</td>\n",
       "      <td>565</td>\n",
       "      <td>russian troops destroyed a commercial oil base...</td>\n",
       "      <td>[]</td>\n",
       "      <td>en</td>\n",
       "      <td>0</td>\n",
       "    </tr>\n",
       "  </tbody>\n",
       "</table>\n",
       "</div>"
      ],
      "text/plain": [
       "                userid         username         location  following  \\\n",
       "0  1466752038960656385   Curtin2Tiffany    Colorado, USA        253   \n",
       "1  1111276809302216710           5ela60              NaN        167   \n",
       "2            597779527  OurTurnToRescue              NaN       4847   \n",
       "3           1646145848   DrWAVeSportCd1              USA       5002   \n",
       "4           2191952909    WyvernReports  The Blue Marble        700   \n",
       "\n",
       "   followers  totaltweets       usercreatedts              tweetid  \\\n",
       "0         40           94 2021-12-03 12:52:22  1497724980259262467   \n",
       "1          9          656 2019-03-28 14:40:12  1497724980271984641   \n",
       "2       4080        33666 2012-06-02 21:53:59  1497724980573966346   \n",
       "3       3950       466629 2013-08-04 21:07:08  1497724980653694976   \n",
       "4       6424        20689 2013-11-22 21:51:19  1497724980833968129   \n",
       "\n",
       "       tweetcreatedts  retweetcount  \\\n",
       "0 2022-02-27 00:07:16             5   \n",
       "1 2022-02-27 00:07:16            28   \n",
       "2 2022-02-27 00:07:16             1   \n",
       "3 2022-02-27 00:07:16           277   \n",
       "4 2022-02-27 00:07:16           565   \n",
       "\n",
       "                                                text  \\\n",
       "0  #UkraineRussiaWar Captured Russian soldiers\\n\\...   \n",
       "1  Like everybody else I am rooting for Ukraine t...   \n",
       "2  We elected a game show host and got a clown. #...   \n",
       "3  Ukrainian soldiers wearing sunflowers in their...   \n",
       "4  russian troops destroyed a commercial oil base...   \n",
       "\n",
       "                                            hashtags language  favorite_count  \n",
       "0  [{'text': 'UkraineRussiaWar', 'indices': [19, ...       en               0  \n",
       "1                                                 []       en               0  \n",
       "2         [{'text': 'Ukraine', 'indices': [63, 71]}]       en               0  \n",
       "3  [{'text': 'Ukraine', 'indices': [122, 130]}, {...       en               0  \n",
       "4                                                 []       en               0  "
      ]
     },
     "execution_count": 33,
     "metadata": {},
     "output_type": "execute_result"
    }
   ],
   "source": [
    "feb_df.reset_index(inplace=True, drop=True)\n",
    "# check\n",
    "feb_df.head()"
   ]
  },
  {
   "cell_type": "code",
   "execution_count": 34,
   "id": "e5395f1a-bdf2-4369-bafc-a80c74d69261",
   "metadata": {},
   "outputs": [
    {
     "data": {
      "text/plain": [
       "(149088, 14)"
      ]
     },
     "execution_count": 34,
     "metadata": {},
     "output_type": "execute_result"
    }
   ],
   "source": [
    "feb_df.shape"
   ]
  },
  {
   "cell_type": "code",
   "execution_count": 35,
   "id": "4330f286-4407-44d6-a18c-a29f96a92576",
   "metadata": {},
   "outputs": [
    {
     "data": {
      "text/html": [
       "<div>\n",
       "<style scoped>\n",
       "    .dataframe tbody tr th:only-of-type {\n",
       "        vertical-align: middle;\n",
       "    }\n",
       "\n",
       "    .dataframe tbody tr th {\n",
       "        vertical-align: top;\n",
       "    }\n",
       "\n",
       "    .dataframe thead th {\n",
       "        text-align: right;\n",
       "    }\n",
       "</style>\n",
       "<table border=\"1\" class=\"dataframe\">\n",
       "  <thead>\n",
       "    <tr style=\"text-align: right;\">\n",
       "      <th></th>\n",
       "      <th>userid</th>\n",
       "      <th>username</th>\n",
       "      <th>location</th>\n",
       "      <th>following</th>\n",
       "      <th>followers</th>\n",
       "      <th>totaltweets</th>\n",
       "      <th>usercreatedts</th>\n",
       "      <th>tweetid</th>\n",
       "      <th>tweetcreatedts</th>\n",
       "      <th>retweetcount</th>\n",
       "      <th>text</th>\n",
       "      <th>hashtags</th>\n",
       "      <th>language</th>\n",
       "      <th>favorite_count</th>\n",
       "    </tr>\n",
       "  </thead>\n",
       "  <tbody>\n",
       "    <tr>\n",
       "      <th>0</th>\n",
       "      <td>37334464</td>\n",
       "      <td>DownandOut1489</td>\n",
       "      <td>NaN</td>\n",
       "      <td>914</td>\n",
       "      <td>759</td>\n",
       "      <td>40561</td>\n",
       "      <td>2009-05-03 01:43:15</td>\n",
       "      <td>1498447926531887104</td>\n",
       "      <td>2022-03-01</td>\n",
       "      <td>0</td>\n",
       "      <td>It’s all a game and anonymous cowards are runn...</td>\n",
       "      <td>[{'text': 'coronavirus', 'indices': [78, 90]},...</td>\n",
       "      <td>en</td>\n",
       "      <td>0</td>\n",
       "    </tr>\n",
       "    <tr>\n",
       "      <th>1</th>\n",
       "      <td>17710740</td>\n",
       "      <td>dna</td>\n",
       "      <td>India</td>\n",
       "      <td>24</td>\n",
       "      <td>2264852</td>\n",
       "      <td>647718</td>\n",
       "      <td>2008-11-28 15:39:38</td>\n",
       "      <td>1498447927009693697</td>\n",
       "      <td>2022-03-01</td>\n",
       "      <td>0</td>\n",
       "      <td>.@peta urges government to rescue student alon...</td>\n",
       "      <td>[{'text': 'UkraineRussiaWar', 'indices': [80, ...</td>\n",
       "      <td>en</td>\n",
       "      <td>0</td>\n",
       "    </tr>\n",
       "    <tr>\n",
       "      <th>2</th>\n",
       "      <td>318485865</td>\n",
       "      <td>BlakeAlldredge</td>\n",
       "      <td>Texas</td>\n",
       "      <td>734</td>\n",
       "      <td>241</td>\n",
       "      <td>10044</td>\n",
       "      <td>2011-06-16 15:25:41</td>\n",
       "      <td>1498447927022264320</td>\n",
       "      <td>2022-03-01</td>\n",
       "      <td>0</td>\n",
       "      <td>Instead of talking about how to save lives in ...</td>\n",
       "      <td>[{'text': 'Ukraine', 'indices': [46, 54]}]</td>\n",
       "      <td>en</td>\n",
       "      <td>0</td>\n",
       "    </tr>\n",
       "    <tr>\n",
       "      <th>3</th>\n",
       "      <td>14115646</td>\n",
       "      <td>donnyd</td>\n",
       "      <td>Stoney Creek, Ontario</td>\n",
       "      <td>1269</td>\n",
       "      <td>1668</td>\n",
       "      <td>22199</td>\n",
       "      <td>2008-03-10 17:27:33</td>\n",
       "      <td>1498447927622176768</td>\n",
       "      <td>2022-03-01</td>\n",
       "      <td>20587</td>\n",
       "      <td>Moscow underground. Sometimes the act of resis...</td>\n",
       "      <td>[{'text': 'Ukraine', 'indices': [122, 130]}]</td>\n",
       "      <td>en</td>\n",
       "      <td>0</td>\n",
       "    </tr>\n",
       "    <tr>\n",
       "      <th>4</th>\n",
       "      <td>2714124895</td>\n",
       "      <td>KarinKelly</td>\n",
       "      <td>NaN</td>\n",
       "      <td>155</td>\n",
       "      <td>92</td>\n",
       "      <td>2213</td>\n",
       "      <td>2014-08-07 08:59:56</td>\n",
       "      <td>1498447928033165317</td>\n",
       "      <td>2022-03-01</td>\n",
       "      <td>6</td>\n",
       "      <td>When you know physics and geo-politics! #Ukrai...</td>\n",
       "      <td>[{'text': 'Ukraine', 'indices': [61, 69]}]</td>\n",
       "      <td>en</td>\n",
       "      <td>0</td>\n",
       "    </tr>\n",
       "  </tbody>\n",
       "</table>\n",
       "</div>"
      ],
      "text/plain": [
       "       userid        username               location  following  followers  \\\n",
       "0    37334464  DownandOut1489                    NaN        914        759   \n",
       "1    17710740             dna                  India         24    2264852   \n",
       "2   318485865  BlakeAlldredge                  Texas        734        241   \n",
       "3    14115646          donnyd  Stoney Creek, Ontario       1269       1668   \n",
       "4  2714124895      KarinKelly                    NaN        155         92   \n",
       "\n",
       "   totaltweets       usercreatedts              tweetid tweetcreatedts  \\\n",
       "0        40561 2009-05-03 01:43:15  1498447926531887104     2022-03-01   \n",
       "1       647718 2008-11-28 15:39:38  1498447927009693697     2022-03-01   \n",
       "2        10044 2011-06-16 15:25:41  1498447927022264320     2022-03-01   \n",
       "3        22199 2008-03-10 17:27:33  1498447927622176768     2022-03-01   \n",
       "4         2213 2014-08-07 08:59:56  1498447928033165317     2022-03-01   \n",
       "\n",
       "   retweetcount                                               text  \\\n",
       "0             0  It’s all a game and anonymous cowards are runn...   \n",
       "1             0  .@peta urges government to rescue student alon...   \n",
       "2             0  Instead of talking about how to save lives in ...   \n",
       "3         20587  Moscow underground. Sometimes the act of resis...   \n",
       "4             6  When you know physics and geo-politics! #Ukrai...   \n",
       "\n",
       "                                            hashtags language  favorite_count  \n",
       "0  [{'text': 'coronavirus', 'indices': [78, 90]},...       en               0  \n",
       "1  [{'text': 'UkraineRussiaWar', 'indices': [80, ...       en               0  \n",
       "2         [{'text': 'Ukraine', 'indices': [46, 54]}]       en               0  \n",
       "3       [{'text': 'Ukraine', 'indices': [122, 130]}]       en               0  \n",
       "4         [{'text': 'Ukraine', 'indices': [61, 69]}]       en               0  "
      ]
     },
     "execution_count": 35,
     "metadata": {},
     "output_type": "execute_result"
    }
   ],
   "source": [
    "mar_df.reset_index(inplace=True, drop=True)\n",
    "# check\n",
    "mar_df.head()"
   ]
  },
  {
   "cell_type": "code",
   "execution_count": 36,
   "id": "350faa8e-f0be-4045-99f1-7cfed8625410",
   "metadata": {},
   "outputs": [
    {
     "data": {
      "text/html": [
       "<div>\n",
       "<style scoped>\n",
       "    .dataframe tbody tr th:only-of-type {\n",
       "        vertical-align: middle;\n",
       "    }\n",
       "\n",
       "    .dataframe tbody tr th {\n",
       "        vertical-align: top;\n",
       "    }\n",
       "\n",
       "    .dataframe thead th {\n",
       "        text-align: right;\n",
       "    }\n",
       "</style>\n",
       "<table border=\"1\" class=\"dataframe\">\n",
       "  <thead>\n",
       "    <tr style=\"text-align: right;\">\n",
       "      <th></th>\n",
       "      <th>userid</th>\n",
       "      <th>username</th>\n",
       "      <th>location</th>\n",
       "      <th>following</th>\n",
       "      <th>followers</th>\n",
       "      <th>totaltweets</th>\n",
       "      <th>usercreatedts</th>\n",
       "      <th>tweetid</th>\n",
       "      <th>tweetcreatedts</th>\n",
       "      <th>retweetcount</th>\n",
       "      <th>text</th>\n",
       "      <th>hashtags</th>\n",
       "      <th>language</th>\n",
       "      <th>favorite_count</th>\n",
       "    </tr>\n",
       "  </thead>\n",
       "  <tbody>\n",
       "    <tr>\n",
       "      <th>0</th>\n",
       "      <td>16882774</td>\n",
       "      <td>Yaniela</td>\n",
       "      <td>Hawaii</td>\n",
       "      <td>1158</td>\n",
       "      <td>392</td>\n",
       "      <td>88366</td>\n",
       "      <td>2008-10-21 07:34:04</td>\n",
       "      <td>1509681950042198030</td>\n",
       "      <td>2022-04-01</td>\n",
       "      <td>3412</td>\n",
       "      <td>⚡The Ukrainian Air Force would like to address...</td>\n",
       "      <td>[]</td>\n",
       "      <td>en</td>\n",
       "      <td>0</td>\n",
       "    </tr>\n",
       "    <tr>\n",
       "      <th>1</th>\n",
       "      <td>3205296069</td>\n",
       "      <td>gregffff</td>\n",
       "      <td>NaN</td>\n",
       "      <td>122</td>\n",
       "      <td>881</td>\n",
       "      <td>99853</td>\n",
       "      <td>2015-04-25 11:24:34</td>\n",
       "      <td>1509681950151348229</td>\n",
       "      <td>2022-04-01</td>\n",
       "      <td>100</td>\n",
       "      <td>Chernihiv oblast. Ukrainians welcome their lib...</td>\n",
       "      <td>[{'text': 'russianinvasion', 'indices': [77, 9...</td>\n",
       "      <td>en</td>\n",
       "      <td>0</td>\n",
       "    </tr>\n",
       "    <tr>\n",
       "      <th>2</th>\n",
       "      <td>1235940869812809728</td>\n",
       "      <td>ThanapornThon17</td>\n",
       "      <td>NaN</td>\n",
       "      <td>231</td>\n",
       "      <td>72</td>\n",
       "      <td>5481</td>\n",
       "      <td>2020-03-06 14:52:01</td>\n",
       "      <td>1509681950683926556</td>\n",
       "      <td>2022-04-01</td>\n",
       "      <td>9</td>\n",
       "      <td>America 🇺🇸 is preparing for something worse th...</td>\n",
       "      <td>[{'text': 'RussianUkrainianWar', 'indices': [7...</td>\n",
       "      <td>en</td>\n",
       "      <td>0</td>\n",
       "    </tr>\n",
       "    <tr>\n",
       "      <th>3</th>\n",
       "      <td>1347985375566966784</td>\n",
       "      <td>I_Protest_2021</td>\n",
       "      <td>International Web Zone</td>\n",
       "      <td>399</td>\n",
       "      <td>377</td>\n",
       "      <td>301</td>\n",
       "      <td>2021-01-09 19:15:44</td>\n",
       "      <td>1509681951116046336</td>\n",
       "      <td>2022-04-01</td>\n",
       "      <td>573</td>\n",
       "      <td>JUST IN: #Anonymous has hacked &amp;amp; released ...</td>\n",
       "      <td>[{'text': 'Anonymous', 'indices': [25, 35]}]</td>\n",
       "      <td>en</td>\n",
       "      <td>0</td>\n",
       "    </tr>\n",
       "    <tr>\n",
       "      <th>4</th>\n",
       "      <td>1505394816636846083</td>\n",
       "      <td>Marsh_Win_01</td>\n",
       "      <td>Hunter Account</td>\n",
       "      <td>158</td>\n",
       "      <td>25</td>\n",
       "      <td>8982</td>\n",
       "      <td>2022-03-20 04:04:40</td>\n",
       "      <td>1509681951304990720</td>\n",
       "      <td>2022-04-01</td>\n",
       "      <td>190</td>\n",
       "      <td>***PUBLIC MINT NOW LIVE***\\n\\nFor \\n@billionai...</td>\n",
       "      <td>[]</td>\n",
       "      <td>en</td>\n",
       "      <td>0</td>\n",
       "    </tr>\n",
       "  </tbody>\n",
       "</table>\n",
       "</div>"
      ],
      "text/plain": [
       "                userid         username                location  following  \\\n",
       "0             16882774          Yaniela                  Hawaii       1158   \n",
       "1           3205296069         gregffff                     NaN        122   \n",
       "2  1235940869812809728  ThanapornThon17                     NaN        231   \n",
       "3  1347985375566966784   I_Protest_2021  International Web Zone        399   \n",
       "4  1505394816636846083     Marsh_Win_01          Hunter Account        158   \n",
       "\n",
       "   followers  totaltweets       usercreatedts              tweetid  \\\n",
       "0        392        88366 2008-10-21 07:34:04  1509681950042198030   \n",
       "1        881        99853 2015-04-25 11:24:34  1509681950151348229   \n",
       "2         72         5481 2020-03-06 14:52:01  1509681950683926556   \n",
       "3        377          301 2021-01-09 19:15:44  1509681951116046336   \n",
       "4         25         8982 2022-03-20 04:04:40  1509681951304990720   \n",
       "\n",
       "  tweetcreatedts  retweetcount  \\\n",
       "0     2022-04-01          3412   \n",
       "1     2022-04-01           100   \n",
       "2     2022-04-01             9   \n",
       "3     2022-04-01           573   \n",
       "4     2022-04-01           190   \n",
       "\n",
       "                                                text  \\\n",
       "0  ⚡The Ukrainian Air Force would like to address...   \n",
       "1  Chernihiv oblast. Ukrainians welcome their lib...   \n",
       "2  America 🇺🇸 is preparing for something worse th...   \n",
       "3  JUST IN: #Anonymous has hacked &amp; released ...   \n",
       "4  ***PUBLIC MINT NOW LIVE***\\n\\nFor \\n@billionai...   \n",
       "\n",
       "                                            hashtags language  favorite_count  \n",
       "0                                                 []       en               0  \n",
       "1  [{'text': 'russianinvasion', 'indices': [77, 9...       en               0  \n",
       "2  [{'text': 'RussianUkrainianWar', 'indices': [7...       en               0  \n",
       "3       [{'text': 'Anonymous', 'indices': [25, 35]}]       en               0  \n",
       "4                                                 []       en               0  "
      ]
     },
     "execution_count": 36,
     "metadata": {},
     "output_type": "execute_result"
    }
   ],
   "source": [
    "apr_df.reset_index(inplace=True, drop=True)\n",
    "# check\n",
    "apr_df.head()"
   ]
  },
  {
   "cell_type": "code",
   "execution_count": 51,
   "id": "6ffa3360-d4f3-48af-a9e6-b50518f0d8d8",
   "metadata": {},
   "outputs": [
    {
     "data": {
      "text/html": [
       "<div>\n",
       "<style scoped>\n",
       "    .dataframe tbody tr th:only-of-type {\n",
       "        vertical-align: middle;\n",
       "    }\n",
       "\n",
       "    .dataframe tbody tr th {\n",
       "        vertical-align: top;\n",
       "    }\n",
       "\n",
       "    .dataframe thead th {\n",
       "        text-align: right;\n",
       "    }\n",
       "</style>\n",
       "<table border=\"1\" class=\"dataframe\">\n",
       "  <thead>\n",
       "    <tr style=\"text-align: right;\">\n",
       "      <th></th>\n",
       "      <th>userid</th>\n",
       "      <th>username</th>\n",
       "      <th>location</th>\n",
       "      <th>following</th>\n",
       "      <th>followers</th>\n",
       "      <th>totaltweets</th>\n",
       "      <th>usercreatedts</th>\n",
       "      <th>tweetid</th>\n",
       "      <th>tweetcreatedts</th>\n",
       "      <th>retweetcount</th>\n",
       "      <th>text</th>\n",
       "      <th>hashtags</th>\n",
       "      <th>language</th>\n",
       "      <th>favorite_count</th>\n",
       "    </tr>\n",
       "  </thead>\n",
       "  <tbody>\n",
       "    <tr>\n",
       "      <th>0</th>\n",
       "      <td>529588633</td>\n",
       "      <td>PLinToronto</td>\n",
       "      <td>Toronto, Ontario</td>\n",
       "      <td>674</td>\n",
       "      <td>2977</td>\n",
       "      <td>10112</td>\n",
       "      <td>2012-03-19 18:10:36</td>\n",
       "      <td>1520553587276795905</td>\n",
       "      <td>2022-05-01</td>\n",
       "      <td>2</td>\n",
       "      <td>Remember this 👇 image next time you fix a meal...</td>\n",
       "      <td>[{'text': 'StopRussianOil', 'indices': [245, 2...</td>\n",
       "      <td>en</td>\n",
       "      <td>5</td>\n",
       "    </tr>\n",
       "    <tr>\n",
       "      <th>1</th>\n",
       "      <td>15640646</td>\n",
       "      <td>Journey_America</td>\n",
       "      <td>Buenos Aires, Argentina</td>\n",
       "      <td>2658</td>\n",
       "      <td>207542</td>\n",
       "      <td>139467</td>\n",
       "      <td>2008-07-29 01:54:36</td>\n",
       "      <td>1520553587763515392</td>\n",
       "      <td>2022-05-01</td>\n",
       "      <td>1</td>\n",
       "      <td>Everything Is [Not] Fine: Half-.. - via @pensi...</td>\n",
       "      <td>[{'text': 'Politics', 'indices': [51, 60]}, {'...</td>\n",
       "      <td>en</td>\n",
       "      <td>0</td>\n",
       "    </tr>\n",
       "    <tr>\n",
       "      <th>2</th>\n",
       "      <td>1503095448864755715</td>\n",
       "      <td>RaesiEse</td>\n",
       "      <td>NaN</td>\n",
       "      <td>929</td>\n",
       "      <td>834</td>\n",
       "      <td>90759</td>\n",
       "      <td>2022-03-13 19:47:54</td>\n",
       "      <td>1520553587939676160</td>\n",
       "      <td>2022-05-01</td>\n",
       "      <td>47</td>\n",
       "      <td>People #Tigray lives in condition of No water,...</td>\n",
       "      <td>[{'text': 'Tigray', 'indices': [28, 35]}]</td>\n",
       "      <td>en</td>\n",
       "      <td>0</td>\n",
       "    </tr>\n",
       "    <tr>\n",
       "      <th>3</th>\n",
       "      <td>22240612</td>\n",
       "      <td>AlArabiya_Eng</td>\n",
       "      <td>Dubai</td>\n",
       "      <td>46</td>\n",
       "      <td>914292</td>\n",
       "      <td>315194</td>\n",
       "      <td>2009-02-28 08:31:32</td>\n",
       "      <td>1520553588086525952</td>\n",
       "      <td>2022-05-01</td>\n",
       "      <td>4</td>\n",
       "      <td>#Russia’s forces have stolen “several hundred ...</td>\n",
       "      <td>[{'text': 'Russia', 'indices': [0, 7]}, {'text...</td>\n",
       "      <td>en</td>\n",
       "      <td>7</td>\n",
       "    </tr>\n",
       "    <tr>\n",
       "      <th>4</th>\n",
       "      <td>152930351</td>\n",
       "      <td>AnonGhostt</td>\n",
       "      <td>UK</td>\n",
       "      <td>7</td>\n",
       "      <td>5035</td>\n",
       "      <td>376494</td>\n",
       "      <td>2010-06-07 07:02:46</td>\n",
       "      <td>1520553588421918720</td>\n",
       "      <td>2022-05-01</td>\n",
       "      <td>6522</td>\n",
       "      <td>The #Anonymous collective has sent 7.000.000 a...</td>\n",
       "      <td>[{'text': 'Anonymous', 'indices': [21, 31]}]</td>\n",
       "      <td>en</td>\n",
       "      <td>0</td>\n",
       "    </tr>\n",
       "  </tbody>\n",
       "</table>\n",
       "</div>"
      ],
      "text/plain": [
       "                userid         username                 location  following  \\\n",
       "0            529588633      PLinToronto         Toronto, Ontario        674   \n",
       "1             15640646  Journey_America  Buenos Aires, Argentina       2658   \n",
       "2  1503095448864755715         RaesiEse                      NaN        929   \n",
       "3             22240612    AlArabiya_Eng                    Dubai         46   \n",
       "4            152930351       AnonGhostt                       UK          7   \n",
       "\n",
       "   followers  totaltweets       usercreatedts              tweetid  \\\n",
       "0       2977        10112 2012-03-19 18:10:36  1520553587276795905   \n",
       "1     207542       139467 2008-07-29 01:54:36  1520553587763515392   \n",
       "2        834        90759 2022-03-13 19:47:54  1520553587939676160   \n",
       "3     914292       315194 2009-02-28 08:31:32  1520553588086525952   \n",
       "4       5035       376494 2010-06-07 07:02:46  1520553588421918720   \n",
       "\n",
       "  tweetcreatedts  retweetcount  \\\n",
       "0     2022-05-01             2   \n",
       "1     2022-05-01             1   \n",
       "2     2022-05-01            47   \n",
       "3     2022-05-01             4   \n",
       "4     2022-05-01          6522   \n",
       "\n",
       "                                                text  \\\n",
       "0  Remember this 👇 image next time you fix a meal...   \n",
       "1  Everything Is [Not] Fine: Half-.. - via @pensi...   \n",
       "2  People #Tigray lives in condition of No water,...   \n",
       "3  #Russia’s forces have stolen “several hundred ...   \n",
       "4  The #Anonymous collective has sent 7.000.000 a...   \n",
       "\n",
       "                                            hashtags language  favorite_count  \n",
       "0  [{'text': 'StopRussianOil', 'indices': [245, 2...       en               5  \n",
       "1  [{'text': 'Politics', 'indices': [51, 60]}, {'...       en               0  \n",
       "2          [{'text': 'Tigray', 'indices': [28, 35]}]       en               0  \n",
       "3  [{'text': 'Russia', 'indices': [0, 7]}, {'text...       en               7  \n",
       "4       [{'text': 'Anonymous', 'indices': [21, 31]}]       en               0  "
      ]
     },
     "execution_count": 51,
     "metadata": {},
     "output_type": "execute_result"
    }
   ],
   "source": [
    "may_df.reset_index(inplace=True, drop=True)\n",
    "# check\n",
    "may_df.head()"
   ]
  },
  {
   "cell_type": "code",
   "execution_count": 37,
   "id": "0049cbe7-17a4-42a3-9734-f35777375d05",
   "metadata": {},
   "outputs": [],
   "source": [
    "from unidecode import unidecode\n",
    "def evaluate_hashtags(x):\n",
    "    hashtags = []\n",
    "    \n",
    "    a = eval(str(x))\n",
    "    \n",
    "    for item in a:\n",
    "        hashtags.append((str(unidecode(item[\"text\"])).lower()))\n",
    "        hashtags = list(set(hashtags))\n",
    "        \n",
    "    return hashtags"
   ]
  },
  {
   "cell_type": "code",
   "execution_count": 38,
   "id": "71aa6f67-35a8-479f-8bbc-4f6d7e9974e6",
   "metadata": {},
   "outputs": [],
   "source": [
    "feb_masterlist = []\n",
    "hashtagsListCollection = feb_df[\"hashtags\"].apply(evaluate_hashtags)\n",
    "\n",
    "for hashtagsList in hashtagsListCollection:\n",
    "    for hashtag in hashtagsList:\n",
    "        feb_masterlist.append(hashtag)"
   ]
  },
  {
   "cell_type": "code",
   "execution_count": 54,
   "id": "56bf6324-e9cc-462e-9253-8bb4bbb64dcd",
   "metadata": {},
   "outputs": [],
   "source": [
    "topXItem = 25\n",
    "from collections import Counter\n",
    "\n",
    "x = Counter(feb_masterlist)\n",
    "\n",
    "topXItemList = x.most_common(topXItem)"
   ]
  },
  {
   "cell_type": "code",
   "execution_count": 83,
   "id": "4fcba438-20b9-4bed-89f7-3103d02d9497",
   "metadata": {},
   "outputs": [
    {
     "data": {
      "text/html": [
       "<div>\n",
       "<style scoped>\n",
       "    .dataframe tbody tr th:only-of-type {\n",
       "        vertical-align: middle;\n",
       "    }\n",
       "\n",
       "    .dataframe tbody tr th {\n",
       "        vertical-align: top;\n",
       "    }\n",
       "\n",
       "    .dataframe thead th {\n",
       "        text-align: right;\n",
       "    }\n",
       "</style>\n",
       "<table border=\"1\" class=\"dataframe\">\n",
       "  <thead>\n",
       "    <tr style=\"text-align: right;\">\n",
       "      <th></th>\n",
       "      <th>Hashtag</th>\n",
       "      <th>Tweets</th>\n",
       "    </tr>\n",
       "  </thead>\n",
       "  <tbody>\n",
       "    <tr>\n",
       "      <th>0</th>\n",
       "      <td>ukraine</td>\n",
       "      <td>388269</td>\n",
       "    </tr>\n",
       "    <tr>\n",
       "      <th>1</th>\n",
       "      <td>news</td>\n",
       "      <td>252387</td>\n",
       "    </tr>\n",
       "    <tr>\n",
       "      <th>2</th>\n",
       "      <td>russia</td>\n",
       "      <td>192656</td>\n",
       "    </tr>\n",
       "    <tr>\n",
       "      <th>3</th>\n",
       "      <td>business</td>\n",
       "      <td>179618</td>\n",
       "    </tr>\n",
       "    <tr>\n",
       "      <th>4</th>\n",
       "      <td>usa</td>\n",
       "      <td>123362</td>\n",
       "    </tr>\n",
       "    <tr>\n",
       "      <th>5</th>\n",
       "      <td>standwithukraine</td>\n",
       "      <td>78777</td>\n",
       "    </tr>\n",
       "    <tr>\n",
       "      <th>6</th>\n",
       "      <td>putin</td>\n",
       "      <td>73406</td>\n",
       "    </tr>\n",
       "    <tr>\n",
       "      <th>7</th>\n",
       "      <td>nato</td>\n",
       "      <td>58215</td>\n",
       "    </tr>\n",
       "    <tr>\n",
       "      <th>8</th>\n",
       "      <td>russian</td>\n",
       "      <td>55905</td>\n",
       "    </tr>\n",
       "    <tr>\n",
       "      <th>9</th>\n",
       "      <td>ukrainewar</td>\n",
       "      <td>53558</td>\n",
       "    </tr>\n",
       "    <tr>\n",
       "      <th>10</th>\n",
       "      <td>ukrainerussiawar</td>\n",
       "      <td>53113</td>\n",
       "    </tr>\n",
       "    <tr>\n",
       "      <th>11</th>\n",
       "      <td>biden</td>\n",
       "      <td>48160</td>\n",
       "    </tr>\n",
       "    <tr>\n",
       "      <th>12</th>\n",
       "      <td>scotus</td>\n",
       "      <td>44170</td>\n",
       "    </tr>\n",
       "    <tr>\n",
       "      <th>13</th>\n",
       "      <td>mariupol</td>\n",
       "      <td>36106</td>\n",
       "    </tr>\n",
       "    <tr>\n",
       "      <th>14</th>\n",
       "      <td>canada</td>\n",
       "      <td>35940</td>\n",
       "    </tr>\n",
       "    <tr>\n",
       "      <th>15</th>\n",
       "      <td>war</td>\n",
       "      <td>35563</td>\n",
       "    </tr>\n",
       "    <tr>\n",
       "      <th>16</th>\n",
       "      <td>eurovision</td>\n",
       "      <td>33909</td>\n",
       "    </tr>\n",
       "    <tr>\n",
       "      <th>17</th>\n",
       "      <td>ukrainian</td>\n",
       "      <td>30602</td>\n",
       "    </tr>\n",
       "    <tr>\n",
       "      <th>18</th>\n",
       "      <td>slavaukraini</td>\n",
       "      <td>30130</td>\n",
       "    </tr>\n",
       "    <tr>\n",
       "      <th>19</th>\n",
       "      <td>china</td>\n",
       "      <td>30059</td>\n",
       "    </tr>\n",
       "    <tr>\n",
       "      <th>20</th>\n",
       "      <td>azovstal</td>\n",
       "      <td>29840</td>\n",
       "    </tr>\n",
       "    <tr>\n",
       "      <th>21</th>\n",
       "      <td>ukrainerussianwar</td>\n",
       "      <td>25763</td>\n",
       "    </tr>\n",
       "    <tr>\n",
       "      <th>22</th>\n",
       "      <td>finance</td>\n",
       "      <td>25070</td>\n",
       "    </tr>\n",
       "    <tr>\n",
       "      <th>23</th>\n",
       "      <td>roevwade</td>\n",
       "      <td>25044</td>\n",
       "    </tr>\n",
       "    <tr>\n",
       "      <th>24</th>\n",
       "      <td>russiaukrainewar</td>\n",
       "      <td>23765</td>\n",
       "    </tr>\n",
       "  </tbody>\n",
       "</table>\n",
       "</div>"
      ],
      "text/plain": [
       "              Hashtag  Tweets\n",
       "0             ukraine  388269\n",
       "1                news  252387\n",
       "2              russia  192656\n",
       "3            business  179618\n",
       "4                 usa  123362\n",
       "5    standwithukraine   78777\n",
       "6               putin   73406\n",
       "7                nato   58215\n",
       "8             russian   55905\n",
       "9          ukrainewar   53558\n",
       "10   ukrainerussiawar   53113\n",
       "11              biden   48160\n",
       "12             scotus   44170\n",
       "13           mariupol   36106\n",
       "14             canada   35940\n",
       "15                war   35563\n",
       "16         eurovision   33909\n",
       "17          ukrainian   30602\n",
       "18       slavaukraini   30130\n",
       "19              china   30059\n",
       "20           azovstal   29840\n",
       "21  ukrainerussianwar   25763\n",
       "22            finance   25070\n",
       "23           roevwade   25044\n",
       "24   russiaukrainewar   23765"
      ]
     },
     "execution_count": 83,
     "metadata": {},
     "output_type": "execute_result"
    }
   ],
   "source": [
    "feb_df_hash = pd.DataFrame(topXItemList)\n",
    "feb_df_hash.columns =['Hashtag','Tweets']\n",
    "feb_df_hash"
   ]
  },
  {
   "cell_type": "code",
   "execution_count": 56,
   "id": "711821b4-d42b-4c35-ba53-72f607693e4c",
   "metadata": {},
   "outputs": [],
   "source": [
    "mar_masterlist = []\n",
    "hashtagsListCollection = mar_df[\"hashtags\"].apply(evaluate_hashtags)\n",
    "\n",
    "for hashtagsList in hashtagsListCollection:\n",
    "    for hashtag in hashtagsList:\n",
    "        mar_masterlist.append(hashtag)"
   ]
  },
  {
   "cell_type": "code",
   "execution_count": 57,
   "id": "d633ce7c-c41a-4886-8d05-6deb8717dd40",
   "metadata": {},
   "outputs": [],
   "source": [
    "topXItem = 25\n",
    "from collections import Counter\n",
    "\n",
    "x = Counter(mar_masterlist)\n",
    "\n",
    "topXItemList = x.most_common(topXItem)"
   ]
  },
  {
   "cell_type": "code",
   "execution_count": 58,
   "id": "dda5f2e9-f53c-4617-9119-b25586ca1584",
   "metadata": {},
   "outputs": [
    {
     "data": {
      "text/html": [
       "<div>\n",
       "<style scoped>\n",
       "    .dataframe tbody tr th:only-of-type {\n",
       "        vertical-align: middle;\n",
       "    }\n",
       "\n",
       "    .dataframe tbody tr th {\n",
       "        vertical-align: top;\n",
       "    }\n",
       "\n",
       "    .dataframe thead th {\n",
       "        text-align: right;\n",
       "    }\n",
       "</style>\n",
       "<table border=\"1\" class=\"dataframe\">\n",
       "  <thead>\n",
       "    <tr style=\"text-align: right;\">\n",
       "      <th></th>\n",
       "      <th>Hashtag</th>\n",
       "      <th>Tweets</th>\n",
       "    </tr>\n",
       "  </thead>\n",
       "  <tbody>\n",
       "    <tr>\n",
       "      <th>0</th>\n",
       "      <td>ukraine</td>\n",
       "      <td>1025484</td>\n",
       "    </tr>\n",
       "    <tr>\n",
       "      <th>1</th>\n",
       "      <td>russia</td>\n",
       "      <td>494921</td>\n",
       "    </tr>\n",
       "    <tr>\n",
       "      <th>2</th>\n",
       "      <td>putin</td>\n",
       "      <td>352614</td>\n",
       "    </tr>\n",
       "    <tr>\n",
       "      <th>3</th>\n",
       "      <td>standwithukraine</td>\n",
       "      <td>239303</td>\n",
       "    </tr>\n",
       "    <tr>\n",
       "      <th>4</th>\n",
       "      <td>ukrainerussiawar</td>\n",
       "      <td>130851</td>\n",
       "    </tr>\n",
       "    <tr>\n",
       "      <th>5</th>\n",
       "      <td>ukrainewar</td>\n",
       "      <td>125819</td>\n",
       "    </tr>\n",
       "    <tr>\n",
       "      <th>6</th>\n",
       "      <td>russian</td>\n",
       "      <td>118670</td>\n",
       "    </tr>\n",
       "    <tr>\n",
       "      <th>7</th>\n",
       "      <td>nato</td>\n",
       "      <td>114870</td>\n",
       "    </tr>\n",
       "    <tr>\n",
       "      <th>8</th>\n",
       "      <td>ukrainerussianwar</td>\n",
       "      <td>104998</td>\n",
       "    </tr>\n",
       "    <tr>\n",
       "      <th>9</th>\n",
       "      <td>russiaukrainewar</td>\n",
       "      <td>89879</td>\n",
       "    </tr>\n",
       "    <tr>\n",
       "      <th>10</th>\n",
       "      <td>stoprussia</td>\n",
       "      <td>87419</td>\n",
       "    </tr>\n",
       "    <tr>\n",
       "      <th>11</th>\n",
       "      <td>stopputin</td>\n",
       "      <td>85345</td>\n",
       "    </tr>\n",
       "    <tr>\n",
       "      <th>12</th>\n",
       "      <td>russianukrainianwar</td>\n",
       "      <td>78641</td>\n",
       "    </tr>\n",
       "    <tr>\n",
       "      <th>13</th>\n",
       "      <td>war</td>\n",
       "      <td>75993</td>\n",
       "    </tr>\n",
       "    <tr>\n",
       "      <th>14</th>\n",
       "      <td>kyiv</td>\n",
       "      <td>75631</td>\n",
       "    </tr>\n",
       "    <tr>\n",
       "      <th>15</th>\n",
       "      <td>ukraineunderattack</td>\n",
       "      <td>62299</td>\n",
       "    </tr>\n",
       "    <tr>\n",
       "      <th>16</th>\n",
       "      <td>slavaukraini</td>\n",
       "      <td>59200</td>\n",
       "    </tr>\n",
       "    <tr>\n",
       "      <th>17</th>\n",
       "      <td>stopputinnow</td>\n",
       "      <td>53799</td>\n",
       "    </tr>\n",
       "    <tr>\n",
       "      <th>18</th>\n",
       "      <td>mariupol</td>\n",
       "      <td>53788</td>\n",
       "    </tr>\n",
       "    <tr>\n",
       "      <th>19</th>\n",
       "      <td>usa</td>\n",
       "      <td>50847</td>\n",
       "    </tr>\n",
       "    <tr>\n",
       "      <th>20</th>\n",
       "      <td>ukrainian</td>\n",
       "      <td>46722</td>\n",
       "    </tr>\n",
       "    <tr>\n",
       "      <th>21</th>\n",
       "      <td>russiaukraine</td>\n",
       "      <td>43951</td>\n",
       "    </tr>\n",
       "    <tr>\n",
       "      <th>22</th>\n",
       "      <td>biden</td>\n",
       "      <td>41925</td>\n",
       "    </tr>\n",
       "    <tr>\n",
       "      <th>23</th>\n",
       "      <td>china</td>\n",
       "      <td>35806</td>\n",
       "    </tr>\n",
       "    <tr>\n",
       "      <th>24</th>\n",
       "      <td>zelensky</td>\n",
       "      <td>34386</td>\n",
       "    </tr>\n",
       "  </tbody>\n",
       "</table>\n",
       "</div>"
      ],
      "text/plain": [
       "                Hashtag   Tweets\n",
       "0               ukraine  1025484\n",
       "1                russia   494921\n",
       "2                 putin   352614\n",
       "3      standwithukraine   239303\n",
       "4      ukrainerussiawar   130851\n",
       "5            ukrainewar   125819\n",
       "6               russian   118670\n",
       "7                  nato   114870\n",
       "8     ukrainerussianwar   104998\n",
       "9      russiaukrainewar    89879\n",
       "10           stoprussia    87419\n",
       "11            stopputin    85345\n",
       "12  russianukrainianwar    78641\n",
       "13                  war    75993\n",
       "14                 kyiv    75631\n",
       "15   ukraineunderattack    62299\n",
       "16         slavaukraini    59200\n",
       "17         stopputinnow    53799\n",
       "18             mariupol    53788\n",
       "19                  usa    50847\n",
       "20            ukrainian    46722\n",
       "21        russiaukraine    43951\n",
       "22                biden    41925\n",
       "23                china    35806\n",
       "24             zelensky    34386"
      ]
     },
     "execution_count": 58,
     "metadata": {},
     "output_type": "execute_result"
    }
   ],
   "source": [
    "mar_df_hash = pd.DataFrame(topXItemList)\n",
    "mar_df_hash.columns =['Hashtag','Tweets']\n",
    "mar_df_hash"
   ]
  },
  {
   "cell_type": "code",
   "execution_count": 59,
   "id": "8a79967e-f6a6-4a93-a086-5967bd9caa23",
   "metadata": {},
   "outputs": [],
   "source": [
    "apr_masterlist = []\n",
    "hashtagsListCollection = apr_df[\"hashtags\"].apply(evaluate_hashtags)\n",
    "\n",
    "for hashtagsList in hashtagsListCollection:\n",
    "    for hashtag in hashtagsList:\n",
    "        apr_masterlist.append(hashtag)"
   ]
  },
  {
   "cell_type": "code",
   "execution_count": 61,
   "id": "8a197047-8afb-446a-a407-9b8d8c8bfd06",
   "metadata": {},
   "outputs": [],
   "source": [
    "topXItem = 25\n",
    "from collections import Counter\n",
    "\n",
    "x = Counter(apr_masterlist)\n",
    "\n",
    "topXItemList = x.most_common(topXItem)"
   ]
  },
  {
   "cell_type": "code",
   "execution_count": 62,
   "id": "7ce78597-215c-4926-b25c-2e4ad34e3f2a",
   "metadata": {},
   "outputs": [
    {
     "data": {
      "text/html": [
       "<div>\n",
       "<style scoped>\n",
       "    .dataframe tbody tr th:only-of-type {\n",
       "        vertical-align: middle;\n",
       "    }\n",
       "\n",
       "    .dataframe tbody tr th {\n",
       "        vertical-align: top;\n",
       "    }\n",
       "\n",
       "    .dataframe thead th {\n",
       "        text-align: right;\n",
       "    }\n",
       "</style>\n",
       "<table border=\"1\" class=\"dataframe\">\n",
       "  <thead>\n",
       "    <tr style=\"text-align: right;\">\n",
       "      <th></th>\n",
       "      <th>Hashtag</th>\n",
       "      <th>Tweets</th>\n",
       "    </tr>\n",
       "  </thead>\n",
       "  <tbody>\n",
       "    <tr>\n",
       "      <th>0</th>\n",
       "      <td>ukraine</td>\n",
       "      <td>627268</td>\n",
       "    </tr>\n",
       "    <tr>\n",
       "      <th>1</th>\n",
       "      <td>russia</td>\n",
       "      <td>303487</td>\n",
       "    </tr>\n",
       "    <tr>\n",
       "      <th>2</th>\n",
       "      <td>putin</td>\n",
       "      <td>149208</td>\n",
       "    </tr>\n",
       "    <tr>\n",
       "      <th>3</th>\n",
       "      <td>standwithukraine</td>\n",
       "      <td>145810</td>\n",
       "    </tr>\n",
       "    <tr>\n",
       "      <th>4</th>\n",
       "      <td>russian</td>\n",
       "      <td>86796</td>\n",
       "    </tr>\n",
       "    <tr>\n",
       "      <th>5</th>\n",
       "      <td>ukrainewar</td>\n",
       "      <td>79296</td>\n",
       "    </tr>\n",
       "    <tr>\n",
       "      <th>6</th>\n",
       "      <td>ukrainerussiawar</td>\n",
       "      <td>78109</td>\n",
       "    </tr>\n",
       "    <tr>\n",
       "      <th>7</th>\n",
       "      <td>nato</td>\n",
       "      <td>71813</td>\n",
       "    </tr>\n",
       "    <tr>\n",
       "      <th>8</th>\n",
       "      <td>mariupol</td>\n",
       "      <td>68319</td>\n",
       "    </tr>\n",
       "    <tr>\n",
       "      <th>9</th>\n",
       "      <td>usa</td>\n",
       "      <td>55473</td>\n",
       "    </tr>\n",
       "    <tr>\n",
       "      <th>10</th>\n",
       "      <td>biden</td>\n",
       "      <td>50989</td>\n",
       "    </tr>\n",
       "    <tr>\n",
       "      <th>11</th>\n",
       "      <td>stoprussia</td>\n",
       "      <td>49935</td>\n",
       "    </tr>\n",
       "    <tr>\n",
       "      <th>12</th>\n",
       "      <td>war</td>\n",
       "      <td>47113</td>\n",
       "    </tr>\n",
       "    <tr>\n",
       "      <th>13</th>\n",
       "      <td>bucha</td>\n",
       "      <td>46801</td>\n",
       "    </tr>\n",
       "    <tr>\n",
       "      <th>14</th>\n",
       "      <td>russiaukrainewar</td>\n",
       "      <td>45779</td>\n",
       "    </tr>\n",
       "    <tr>\n",
       "      <th>15</th>\n",
       "      <td>slavaukraini</td>\n",
       "      <td>45688</td>\n",
       "    </tr>\n",
       "    <tr>\n",
       "      <th>16</th>\n",
       "      <td>ukrainian</td>\n",
       "      <td>38663</td>\n",
       "    </tr>\n",
       "    <tr>\n",
       "      <th>17</th>\n",
       "      <td>armukrainenow</td>\n",
       "      <td>38429</td>\n",
       "    </tr>\n",
       "    <tr>\n",
       "      <th>18</th>\n",
       "      <td>kyiv</td>\n",
       "      <td>38089</td>\n",
       "    </tr>\n",
       "    <tr>\n",
       "      <th>19</th>\n",
       "      <td>china</td>\n",
       "      <td>34839</td>\n",
       "    </tr>\n",
       "    <tr>\n",
       "      <th>20</th>\n",
       "      <td>ukrainerussianwar</td>\n",
       "      <td>32490</td>\n",
       "    </tr>\n",
       "    <tr>\n",
       "      <th>21</th>\n",
       "      <td>russianwarcrimes</td>\n",
       "      <td>31984</td>\n",
       "    </tr>\n",
       "    <tr>\n",
       "      <th>22</th>\n",
       "      <td>stopputinnow</td>\n",
       "      <td>31259</td>\n",
       "    </tr>\n",
       "    <tr>\n",
       "      <th>23</th>\n",
       "      <td>trump</td>\n",
       "      <td>27132</td>\n",
       "    </tr>\n",
       "    <tr>\n",
       "      <th>24</th>\n",
       "      <td>putinwarcrimes</td>\n",
       "      <td>26902</td>\n",
       "    </tr>\n",
       "  </tbody>\n",
       "</table>\n",
       "</div>"
      ],
      "text/plain": [
       "              Hashtag  Tweets\n",
       "0             ukraine  627268\n",
       "1              russia  303487\n",
       "2               putin  149208\n",
       "3    standwithukraine  145810\n",
       "4             russian   86796\n",
       "5          ukrainewar   79296\n",
       "6    ukrainerussiawar   78109\n",
       "7                nato   71813\n",
       "8            mariupol   68319\n",
       "9                 usa   55473\n",
       "10              biden   50989\n",
       "11         stoprussia   49935\n",
       "12                war   47113\n",
       "13              bucha   46801\n",
       "14   russiaukrainewar   45779\n",
       "15       slavaukraini   45688\n",
       "16          ukrainian   38663\n",
       "17      armukrainenow   38429\n",
       "18               kyiv   38089\n",
       "19              china   34839\n",
       "20  ukrainerussianwar   32490\n",
       "21   russianwarcrimes   31984\n",
       "22       stopputinnow   31259\n",
       "23              trump   27132\n",
       "24     putinwarcrimes   26902"
      ]
     },
     "execution_count": 62,
     "metadata": {},
     "output_type": "execute_result"
    }
   ],
   "source": [
    "apr_df_hash = pd.DataFrame(topXItemList)\n",
    "apr_df_hash.columns =['Hashtag','Tweets']\n",
    "apr_df_hash"
   ]
  },
  {
   "cell_type": "code",
   "execution_count": 63,
   "id": "2f464cee-e9f4-4be4-a3d9-a4be92318c57",
   "metadata": {},
   "outputs": [],
   "source": [
    "may_masterlist = []\n",
    "hashtagsListCollection = may_df[\"hashtags\"].apply(evaluate_hashtags)\n",
    "\n",
    "for hashtagsList in hashtagsListCollection:\n",
    "    for hashtag in hashtagsList:\n",
    "        may_masterlist.append(hashtag)"
   ]
  },
  {
   "cell_type": "code",
   "execution_count": 64,
   "id": "25a88fe1-26a6-4a30-9a51-d2cf8bf53e66",
   "metadata": {},
   "outputs": [],
   "source": [
    "topXItem = 25\n",
    "from collections import Counter\n",
    "\n",
    "x = Counter(may_masterlist)\n",
    "\n",
    "topXItemList = x.most_common(topXItem)"
   ]
  },
  {
   "cell_type": "code",
   "execution_count": 65,
   "id": "2259bbd3-3d87-46c5-bcfc-03c9b2409192",
   "metadata": {},
   "outputs": [
    {
     "data": {
      "text/html": [
       "<div>\n",
       "<style scoped>\n",
       "    .dataframe tbody tr th:only-of-type {\n",
       "        vertical-align: middle;\n",
       "    }\n",
       "\n",
       "    .dataframe tbody tr th {\n",
       "        vertical-align: top;\n",
       "    }\n",
       "\n",
       "    .dataframe thead th {\n",
       "        text-align: right;\n",
       "    }\n",
       "</style>\n",
       "<table border=\"1\" class=\"dataframe\">\n",
       "  <thead>\n",
       "    <tr style=\"text-align: right;\">\n",
       "      <th></th>\n",
       "      <th>Hashtag</th>\n",
       "      <th>Tweets</th>\n",
       "    </tr>\n",
       "  </thead>\n",
       "  <tbody>\n",
       "    <tr>\n",
       "      <th>0</th>\n",
       "      <td>ukraine</td>\n",
       "      <td>388269</td>\n",
       "    </tr>\n",
       "    <tr>\n",
       "      <th>1</th>\n",
       "      <td>news</td>\n",
       "      <td>252387</td>\n",
       "    </tr>\n",
       "    <tr>\n",
       "      <th>2</th>\n",
       "      <td>russia</td>\n",
       "      <td>192656</td>\n",
       "    </tr>\n",
       "    <tr>\n",
       "      <th>3</th>\n",
       "      <td>business</td>\n",
       "      <td>179618</td>\n",
       "    </tr>\n",
       "    <tr>\n",
       "      <th>4</th>\n",
       "      <td>usa</td>\n",
       "      <td>123362</td>\n",
       "    </tr>\n",
       "    <tr>\n",
       "      <th>5</th>\n",
       "      <td>standwithukraine</td>\n",
       "      <td>78777</td>\n",
       "    </tr>\n",
       "    <tr>\n",
       "      <th>6</th>\n",
       "      <td>putin</td>\n",
       "      <td>73406</td>\n",
       "    </tr>\n",
       "    <tr>\n",
       "      <th>7</th>\n",
       "      <td>nato</td>\n",
       "      <td>58215</td>\n",
       "    </tr>\n",
       "    <tr>\n",
       "      <th>8</th>\n",
       "      <td>russian</td>\n",
       "      <td>55905</td>\n",
       "    </tr>\n",
       "    <tr>\n",
       "      <th>9</th>\n",
       "      <td>ukrainewar</td>\n",
       "      <td>53558</td>\n",
       "    </tr>\n",
       "    <tr>\n",
       "      <th>10</th>\n",
       "      <td>ukrainerussiawar</td>\n",
       "      <td>53113</td>\n",
       "    </tr>\n",
       "    <tr>\n",
       "      <th>11</th>\n",
       "      <td>biden</td>\n",
       "      <td>48160</td>\n",
       "    </tr>\n",
       "    <tr>\n",
       "      <th>12</th>\n",
       "      <td>scotus</td>\n",
       "      <td>44170</td>\n",
       "    </tr>\n",
       "    <tr>\n",
       "      <th>13</th>\n",
       "      <td>mariupol</td>\n",
       "      <td>36106</td>\n",
       "    </tr>\n",
       "    <tr>\n",
       "      <th>14</th>\n",
       "      <td>canada</td>\n",
       "      <td>35940</td>\n",
       "    </tr>\n",
       "    <tr>\n",
       "      <th>15</th>\n",
       "      <td>war</td>\n",
       "      <td>35563</td>\n",
       "    </tr>\n",
       "    <tr>\n",
       "      <th>16</th>\n",
       "      <td>eurovision</td>\n",
       "      <td>33909</td>\n",
       "    </tr>\n",
       "    <tr>\n",
       "      <th>17</th>\n",
       "      <td>ukrainian</td>\n",
       "      <td>30602</td>\n",
       "    </tr>\n",
       "    <tr>\n",
       "      <th>18</th>\n",
       "      <td>slavaukraini</td>\n",
       "      <td>30130</td>\n",
       "    </tr>\n",
       "    <tr>\n",
       "      <th>19</th>\n",
       "      <td>china</td>\n",
       "      <td>30059</td>\n",
       "    </tr>\n",
       "    <tr>\n",
       "      <th>20</th>\n",
       "      <td>azovstal</td>\n",
       "      <td>29840</td>\n",
       "    </tr>\n",
       "    <tr>\n",
       "      <th>21</th>\n",
       "      <td>ukrainerussianwar</td>\n",
       "      <td>25763</td>\n",
       "    </tr>\n",
       "    <tr>\n",
       "      <th>22</th>\n",
       "      <td>finance</td>\n",
       "      <td>25070</td>\n",
       "    </tr>\n",
       "    <tr>\n",
       "      <th>23</th>\n",
       "      <td>roevwade</td>\n",
       "      <td>25044</td>\n",
       "    </tr>\n",
       "    <tr>\n",
       "      <th>24</th>\n",
       "      <td>russiaukrainewar</td>\n",
       "      <td>23765</td>\n",
       "    </tr>\n",
       "  </tbody>\n",
       "</table>\n",
       "</div>"
      ],
      "text/plain": [
       "              Hashtag  Tweets\n",
       "0             ukraine  388269\n",
       "1                news  252387\n",
       "2              russia  192656\n",
       "3            business  179618\n",
       "4                 usa  123362\n",
       "5    standwithukraine   78777\n",
       "6               putin   73406\n",
       "7                nato   58215\n",
       "8             russian   55905\n",
       "9          ukrainewar   53558\n",
       "10   ukrainerussiawar   53113\n",
       "11              biden   48160\n",
       "12             scotus   44170\n",
       "13           mariupol   36106\n",
       "14             canada   35940\n",
       "15                war   35563\n",
       "16         eurovision   33909\n",
       "17          ukrainian   30602\n",
       "18       slavaukraini   30130\n",
       "19              china   30059\n",
       "20           azovstal   29840\n",
       "21  ukrainerussianwar   25763\n",
       "22            finance   25070\n",
       "23           roevwade   25044\n",
       "24   russiaukrainewar   23765"
      ]
     },
     "execution_count": 65,
     "metadata": {},
     "output_type": "execute_result"
    }
   ],
   "source": [
    "may_df_hash = pd.DataFrame(topXItemList)\n",
    "may_df_hash.columns =['Hashtag','Tweets']\n",
    "may_df_hash"
   ]
  },
  {
   "cell_type": "code",
   "execution_count": 77,
   "id": "a63def25-5e05-4e4b-9ce9-1e2c4045ed7a",
   "metadata": {},
   "outputs": [
    {
     "data": {
      "text/plain": [
       "0    #UkraineRussiaWar Captured Russian soldiers\\n\\...\n",
       "1    Like everybody else I am rooting for Ukraine t...\n",
       "2    We elected a game show host and got a clown. #...\n",
       "3    Ukrainian soldiers wearing sunflowers in their...\n",
       "4    russian troops destroyed a commercial oil base...\n",
       "5    Some scenes from #Kyiv this morning: The build...\n",
       "6    Meanwhile American “intelligence” pretended an...\n",
       "7    To remind the world: Gaza has lived through 4 ...\n",
       "8    Please pass it on if you can spot the differen...\n",
       "9    In their coverage @FoxNews actually sound disa...\n",
       "Name: text, dtype: object"
      ]
     },
     "execution_count": 77,
     "metadata": {},
     "output_type": "execute_result"
    }
   ],
   "source": [
    "feb_df[\"text\"].head(10)"
   ]
  },
  {
   "cell_type": "code",
   "execution_count": 78,
   "id": "2fc00434-1067-496f-a0e1-a13cdf73b090",
   "metadata": {},
   "outputs": [
    {
     "data": {
      "text/plain": [
       "0    It’s all a game and anonymous cowards are runn...\n",
       "1    .@peta urges government to rescue student alon...\n",
       "2    Instead of talking about how to save lives in ...\n",
       "3    Moscow underground. Sometimes the act of resis...\n",
       "4    When you know physics and geo-politics! #Ukrai...\n",
       "5    Ukrainian forces believe the border personnel ...\n",
       "6    via @mxdwnGames: Video Game Industry Shares Su...\n",
       "7    A misleading tweet supposedly described #Russi...\n",
       "8    #Ukraine: Finally, some video of UA SoF ambush...\n",
       "9    European Union leaders may discuss the possibi...\n",
       "Name: text, dtype: object"
      ]
     },
     "execution_count": 78,
     "metadata": {},
     "output_type": "execute_result"
    }
   ],
   "source": [
    "mar_df[\"text\"].head(10)"
   ]
  },
  {
   "cell_type": "code",
   "execution_count": 79,
   "id": "52eb5008-bd71-4eea-b2ef-e0b3970787d8",
   "metadata": {},
   "outputs": [
    {
     "data": {
      "text/plain": [
       "0    ⚡The Ukrainian Air Force would like to address...\n",
       "1    Chernihiv oblast. Ukrainians welcome their lib...\n",
       "2    America 🇺🇸 is preparing for something worse th...\n",
       "3    JUST IN: #Anonymous has hacked &amp; released ...\n",
       "4    ***PUBLIC MINT NOW LIVE***\\n\\nFor \\n@billionai...\n",
       "5    The Amazing story of Former Sussex County Dela...\n",
       "6    &amp;quot;How we were waiting for you!&amp;quo...\n",
       "7    India's purchase of discounted #Russian crude ...\n",
       "8    The most basic tenet of what stability exists ...\n",
       "9    \"The image that Russia acquired over the past ...\n",
       "Name: text, dtype: object"
      ]
     },
     "execution_count": 79,
     "metadata": {},
     "output_type": "execute_result"
    }
   ],
   "source": [
    "apr_df[\"text\"].head(10)"
   ]
  },
  {
   "cell_type": "code",
   "execution_count": 80,
   "id": "98048e41-0f10-44f3-b2e4-c4cd8d6c46c4",
   "metadata": {},
   "outputs": [
    {
     "data": {
      "text/plain": [
       "0    Remember this 👇 image next time you fix a meal...\n",
       "1    Everything Is [Not] Fine: Half-.. - via @pensi...\n",
       "2    People #Tigray lives in condition of No water,...\n",
       "3    #Russia’s forces have stolen “several hundred ...\n",
       "4    The #Anonymous collective has sent 7.000.000 a...\n",
       "5    A compilation of a series of emotional tweets ...\n",
       "6    Dear @SecBlinken,\\nWhat welcoming actions take...\n",
       "7    Further #Russian reinforcements to the #Izyum ...\n",
       "8    #Russian \"killer squad has been linked to vile...\n",
       "9    Despite the truce, no aid has entered Tigray w...\n",
       "Name: text, dtype: object"
      ]
     },
     "execution_count": 80,
     "metadata": {},
     "output_type": "execute_result"
    }
   ],
   "source": [
    "may_df[\"text\"].head(10)"
   ]
  },
  {
   "cell_type": "code",
   "execution_count": 39,
   "id": "672cdcc0-239e-47e8-a3e0-f73e21e91c5a",
   "metadata": {},
   "outputs": [
    {
     "data": {
      "text/plain": [
       "0    #ukrainerussiawar captured russian soldiers\\n\\...\n",
       "1    like everybody else i am rooting for ukraine t...\n",
       "2    we elected a game show host and got a clown. #...\n",
       "3    ukrainian soldiers wearing sunflowers in their...\n",
       "4    russian troops destroyed a commercial oil base...\n",
       "5    some scenes from #kyiv this morning: the build...\n",
       "6    meanwhile american “intelligence” pretended an...\n",
       "7    to remind the world: gaza has lived through 4 ...\n",
       "8    please pass it on if you can spot the differen...\n",
       "9    in their coverage @foxnews actually sound disa...\n",
       "Name: cleaned_text, dtype: object"
      ]
     },
     "execution_count": 39,
     "metadata": {},
     "output_type": "execute_result"
    }
   ],
   "source": [
    "feb_df[\"cleaned_text\"] = feb_df[\"text\"].str.lower()\n",
    "# check\n",
    "feb_df[\"cleaned_text\"].head(10)"
   ]
  },
  {
   "cell_type": "code",
   "execution_count": 40,
   "id": "41da8866-8ea3-4535-84ef-b25ed3c91a86",
   "metadata": {},
   "outputs": [
    {
     "data": {
      "text/plain": [
       "0    it’s all a game and anonymous cowards are runn...\n",
       "1    .@peta urges government to rescue student alon...\n",
       "2    instead of talking about how to save lives in ...\n",
       "3    moscow underground. sometimes the act of resis...\n",
       "4    when you know physics and geo-politics! #ukrai...\n",
       "5    ukrainian forces believe the border personnel ...\n",
       "6    via @mxdwngames: video game industry shares su...\n",
       "7    a misleading tweet supposedly described #russi...\n",
       "8    #ukraine: finally, some video of ua sof ambush...\n",
       "9    european union leaders may discuss the possibi...\n",
       "Name: cleaned_text, dtype: object"
      ]
     },
     "execution_count": 40,
     "metadata": {},
     "output_type": "execute_result"
    }
   ],
   "source": [
    "mar_df[\"cleaned_text\"] = mar_df[\"text\"].str.lower()\n",
    "# check\n",
    "mar_df[\"cleaned_text\"].head(10)"
   ]
  },
  {
   "cell_type": "code",
   "execution_count": 41,
   "id": "1ddbbc10-c277-47fc-8f61-12de04a9c053",
   "metadata": {},
   "outputs": [
    {
     "data": {
      "text/plain": [
       "0    ⚡the ukrainian air force would like to address...\n",
       "1    chernihiv oblast. ukrainians welcome their lib...\n",
       "2    america 🇺🇸 is preparing for something worse th...\n",
       "3    just in: #anonymous has hacked &amp; released ...\n",
       "4    ***public mint now live***\\n\\nfor \\n@billionai...\n",
       "5    the amazing story of former sussex county dela...\n",
       "6    &amp;quot;how we were waiting for you!&amp;quo...\n",
       "7    india's purchase of discounted #russian crude ...\n",
       "8    the most basic tenet of what stability exists ...\n",
       "9    \"the image that russia acquired over the past ...\n",
       "Name: cleaned_text, dtype: object"
      ]
     },
     "execution_count": 41,
     "metadata": {},
     "output_type": "execute_result"
    }
   ],
   "source": [
    "apr_df[\"cleaned_text\"] = apr_df[\"text\"].str.lower()\n",
    "# check\n",
    "apr_df[\"cleaned_text\"].head(10)"
   ]
  },
  {
   "cell_type": "code",
   "execution_count": 84,
   "id": "d98f22ee-5714-4cd2-8908-1734f2917182",
   "metadata": {},
   "outputs": [
    {
     "data": {
      "text/plain": [
       "0    remember this 👇 image next time you fix a meal...\n",
       "1    everything is [not] fine: half-.. - via @pensi...\n",
       "2    people #tigray lives in condition of no water,...\n",
       "3    #russia’s forces have stolen “several hundred ...\n",
       "4    the #anonymous collective has sent 7.000.000 a...\n",
       "5    a compilation of a series of emotional tweets ...\n",
       "6    dear @secblinken,\\nwhat welcoming actions take...\n",
       "7    further #russian reinforcements to the #izyum ...\n",
       "8    #russian \"killer squad has been linked to vile...\n",
       "9    despite the truce, no aid has entered tigray w...\n",
       "Name: cleaned_text, dtype: object"
      ]
     },
     "execution_count": 84,
     "metadata": {},
     "output_type": "execute_result"
    }
   ],
   "source": [
    "may_df[\"cleaned_text\"] = may_df[\"text\"].str.lower()\n",
    "# check\n",
    "may_df[\"cleaned_text\"].head(10)"
   ]
  },
  {
   "cell_type": "code",
   "execution_count": 42,
   "id": "808dad1f-fb40-434f-95ce-e224f027a7ed",
   "metadata": {},
   "outputs": [],
   "source": [
    "def remove_unnecessary(text):\n",
    "    # INPUT: string (tweet)\n",
    "    # OUTPUT: string without URLs, mentions, hashtags, digist, and emojis (and smileys)\n",
    "    p.set_options(p.OPT.URL, p.OPT.MENTION, p.OPT.HASHTAG, p.OPT.NUMBER, p.OPT.EMOJI, p.OPT.SMILEY)\n",
    "    result = p.clean(text)\n",
    "    return result"
   ]
  },
  {
   "cell_type": "code",
   "execution_count": 43,
   "id": "02e70486-dd6c-435f-a6f2-e17eb32743ff",
   "metadata": {},
   "outputs": [
    {
     "data": {
      "text/plain": [
       "0    captured russian soldiers \"they said what thei...\n",
       "1    like everybody else i am rooting for ukraine t...\n",
       "2    we elected a game show host and got a clown. e...\n",
       "3    ukrainian soldiers wearing sunflowers in their...\n",
       "4    russian troops destroyed a commercial oil base...\n",
       "5    some scenes from this morning: the building at...\n",
       "6    meanwhile american intelligence pretended an e...\n",
       "7    to remind the world: gaza has lived through wa...\n",
       "8    please pass it on if you can spot the difference.\n",
       "9    in their coverage actually sound disappointed ...\n",
       "Name: cleaned_text, dtype: object"
      ]
     },
     "execution_count": 43,
     "metadata": {},
     "output_type": "execute_result"
    }
   ],
   "source": [
    "feb_df[\"cleaned_text\"] = feb_df[\"cleaned_text\"].map(remove_unnecessary)\n",
    "# check\n",
    "feb_df[\"cleaned_text\"].head(10)"
   ]
  },
  {
   "cell_type": "code",
   "execution_count": 44,
   "id": "9bafee1c-1b12-4027-a153-984f4f465623",
   "metadata": {},
   "outputs": [
    {
     "data": {
      "text/plain": [
       "0    its all a game and anonymous cowards are runni...\n",
       "1    . urges government to rescue student along wit...\n",
       "2    instead of talking about how to save lives in ...\n",
       "3    moscow underground. sometimes the act of resis...\n",
       "4              when you know physics and geo-politics!\n",
       "5    ukrainian forces believe the border personnel ...\n",
       "6    via : video game industry shares support for u...\n",
       "7    a misleading tweet supposedly described missil...\n",
       "8    : finally, some video of ua sof ambushing russ...\n",
       "9    european union leaders may discuss the possibi...\n",
       "Name: cleaned_text, dtype: object"
      ]
     },
     "execution_count": 44,
     "metadata": {},
     "output_type": "execute_result"
    }
   ],
   "source": [
    "mar_df[\"cleaned_text\"] = mar_df[\"cleaned_text\"].map(remove_unnecessary)\n",
    "# check\n",
    "mar_df[\"cleaned_text\"].head(10)"
   ]
  },
  {
   "cell_type": "code",
   "execution_count": 45,
   "id": "a3d5b130-a9e0-4d47-859d-ca0544c94631",
   "metadata": {},
   "outputs": [
    {
     "data": {
      "text/plain": [
       "0    the ukrainian air force would like to address ...\n",
       "1    chernihiv oblast. ukrainians welcome their lib...\n",
       "2    america is preparing for something worse than ...\n",
       "3    just in: has hacked &amp; released emails from...\n",
       "4    ***public mint now live*** for win $100,000 du...\n",
       "5    the amazing story of former sussex county dela...\n",
       "6    &amp;quot;how we were waiting for you!&amp;quo...\n",
       "7    india's purchase of discounted crude oil and p...\n",
       "8    the most basic tenet of what stability exists ...\n",
       "9    \"the image that russia acquired over the past ...\n",
       "Name: cleaned_text, dtype: object"
      ]
     },
     "execution_count": 45,
     "metadata": {},
     "output_type": "execute_result"
    }
   ],
   "source": [
    "apr_df[\"cleaned_text\"] = apr_df[\"cleaned_text\"].map(remove_unnecessary)\n",
    "# check\n",
    "apr_df[\"cleaned_text\"].head(10)"
   ]
  },
  {
   "cell_type": "code",
   "execution_count": 89,
   "id": "130e97fe-7471-4227-bdb7-d3179b814ff2",
   "metadata": {},
   "outputs": [
    {
     "data": {
      "text/plain": [
       "0    remember this image next time you fix a meal f...\n",
       "1              everything is [not] fine: half-.. - via\n",
       "2    people lives in condition of no water, no food...\n",
       "3    forces have stolen several hundred thousand to...\n",
       "4    the collective has sent anti-war texts to russ...\n",
       "5    a compilation of a series of emotional tweets ...\n",
       "6    dear , what welcoming actions taken by are you...\n",
       "7    further reinforcements to the axis are unlikel...\n",
       "8    \"killer squad has been linked to vile war crim...\n",
       "9    despite the truce, no aid has entered tigray w...\n",
       "Name: cleaned_text, dtype: object"
      ]
     },
     "execution_count": 89,
     "metadata": {},
     "output_type": "execute_result"
    }
   ],
   "source": [
    "may_df[\"cleaned_text\"] = may_df[\"cleaned_text\"].map(remove_unnecessary)\n",
    "# check\n",
    "\n",
    "may_df[\"cleaned_text\"].head(10)"
   ]
  },
  {
   "cell_type": "code",
   "execution_count": 46,
   "id": "ea771c1b-9cb9-49f4-b5f4-0d7ecb4ac05d",
   "metadata": {},
   "outputs": [],
   "source": [
    "final_df = pd.concat([feb_df,mar_df,apr_df],axis=1)"
   ]
  },
  {
   "cell_type": "code",
   "execution_count": 50,
   "id": "951e7d68-b764-48b7-a6e4-bf060b62b106",
   "metadata": {},
   "outputs": [
    {
     "data": {
      "text/plain": [
       "Index(['userid', 'username', 'location', 'following', 'followers',\n",
       "       'totaltweets', 'usercreatedts', 'tweetid', 'tweetcreatedts',\n",
       "       'retweetcount', 'text', 'hashtags', 'language', 'favorite_count',\n",
       "       'cleaned_text', 'userid', 'username', 'location', 'following',\n",
       "       'followers', 'totaltweets', 'usercreatedts', 'tweetid',\n",
       "       'tweetcreatedts', 'retweetcount', 'text', 'hashtags', 'language',\n",
       "       'favorite_count', 'cleaned_text', 'userid', 'username', 'location',\n",
       "       'following', 'followers', 'totaltweets', 'usercreatedts', 'tweetid',\n",
       "       'tweetcreatedts', 'retweetcount', 'text', 'hashtags', 'language',\n",
       "       'favorite_count', 'cleaned_text'],\n",
       "      dtype='object')"
      ]
     },
     "execution_count": 50,
     "metadata": {},
     "output_type": "execute_result"
    }
   ],
   "source": [
    "final_df.columns"
   ]
  },
  {
   "cell_type": "code",
   "execution_count": 51,
   "id": "2e228eec-4b90-4702-95a8-3209ae2e671b",
   "metadata": {},
   "outputs": [
    {
     "name": "stderr",
     "output_type": "stream",
     "text": [
      "/var/folders/f3/vhjrz95x7zb97qbtlcxtjx0c0000gn/T/ipykernel_1032/4168580027.py:1: FutureWarning: The frame.append method is deprecated and will be removed from pandas in a future version. Use pandas.concat instead.\n",
      "  final_df = feb_df.append(mar_df).append(apr_df)\n"
     ]
    }
   ],
   "source": [
    "final_df = feb_df.append(mar_df).append(apr_df)"
   ]
  },
  {
   "cell_type": "code",
   "execution_count": 53,
   "id": "381c1e84-5a89-4146-b2df-527c8566afe1",
   "metadata": {},
   "outputs": [
    {
     "data": {
      "text/plain": [
       "Index(['userid', 'username', 'location', 'following', 'followers',\n",
       "       'totaltweets', 'usercreatedts', 'tweetid', 'tweetcreatedts',\n",
       "       'retweetcount', 'text', 'hashtags', 'language', 'favorite_count',\n",
       "       'cleaned_text'],\n",
       "      dtype='object')"
      ]
     },
     "execution_count": 53,
     "metadata": {},
     "output_type": "execute_result"
    }
   ],
   "source": [
    "final_df.columns"
   ]
  },
  {
   "cell_type": "code",
   "execution_count": 54,
   "id": "62430d53-4b5a-448d-b140-8f4e5acfe762",
   "metadata": {},
   "outputs": [],
   "source": [
    "final_df.to_csv(\"final.csv\", index=False)"
   ]
  },
  {
   "cell_type": "code",
   "execution_count": 56,
   "id": "7e383237-e444-4a15-95d9-0219973cb79b",
   "metadata": {},
   "outputs": [],
   "source": [
    "apr_df.to_csv(\"apr.csv\", encoding = \"utf-8\")"
   ]
  },
  {
   "cell_type": "code",
   "execution_count": 90,
   "id": "ce201ae4-41c4-4d01-962e-8844fe04ee25",
   "metadata": {},
   "outputs": [
    {
     "name": "stdout",
     "output_type": "stream",
     "text": [
      "<wordcloud.wordcloud.WordCloud object at 0x7fadbabeb7f0>\n"
     ]
    },
    {
     "data": {
      "image/png": "[encoded data removed]",
      "text/plain": [
       "<Figure size 432x288 with 1 Axes>"
      ]
     },
     "metadata": {
      "needs_background": "light"
     },
     "output_type": "display_data"
    }
   ],
   "source": [
    "stopwords_set = set(STOPWORDS)\n",
    "wordcloud = WordCloud(background_color='white',\n",
    "                     stopwords = stopwords_set,\n",
    "                      max_words = 300,\n",
    "                      max_font_size = 40,\n",
    "                      scale = 2,\n",
    "                      random_state=42\n",
    "                     ).generate(str(feb_df['cleaned_text']))\n",
    "\n",
    "print(wordcloud)\n",
    "plt.imshow(wordcloud)\n",
    "plt.axis('off')\n",
    "plt.show()"
   ]
  },
  {
   "cell_type": "code",
   "execution_count": 91,
   "id": "d443d70d-9f9c-4b73-bf7d-46cab36c6288",
   "metadata": {},
   "outputs": [
    {
     "name": "stdout",
     "output_type": "stream",
     "text": [
      "<wordcloud.wordcloud.WordCloud object at 0x7fada2f16ee0>\n"
     ]
    },
    {
     "data": {
      "image/png": "[encoded data removed]",
      "text/plain": [
       "<Figure size 432x288 with 1 Axes>"
      ]
     },
     "metadata": {
      "needs_background": "light"
     },
     "output_type": "display_data"
    }
   ],
   "source": [
    "stopwords_set = set(STOPWORDS)\n",
    "wordcloud = WordCloud(background_color='white',\n",
    "                     stopwords = stopwords_set,\n",
    "                      max_words = 300,\n",
    "                      max_font_size = 40,\n",
    "                      scale = 2,\n",
    "                      random_state=42\n",
    "                     ).generate(str(mar_df['cleaned_text']))\n",
    "\n",
    "print(wordcloud)\n",
    "plt.imshow(wordcloud)\n",
    "plt.axis('off')\n",
    "plt.show()"
   ]
  },
  {
   "cell_type": "code",
   "execution_count": 92,
   "id": "204e9aef-c39a-4eb8-97a8-cfd8172d434c",
   "metadata": {},
   "outputs": [
    {
     "name": "stdout",
     "output_type": "stream",
     "text": [
      "<wordcloud.wordcloud.WordCloud object at 0x7faaccc727f0>\n"
     ]
    },
    {
     "data": {
      "image/png": "[encoded data removed]",
      "text/plain": [
       "<Figure size 432x288 with 1 Axes>"
      ]
     },
     "metadata": {
      "needs_background": "light"
     },
     "output_type": "display_data"
    }
   ],
   "source": [
    "stopwords_set = set(STOPWORDS)\n",
    "wordcloud = WordCloud(background_color='white',\n",
    "                     stopwords = stopwords_set,\n",
    "                      max_words = 300,\n",
    "                      max_font_size = 40,\n",
    "                      scale = 2,\n",
    "                      random_state=42\n",
    "                     ).generate(str(apr_df['cleaned_text']))\n",
    "\n",
    "print(wordcloud)\n",
    "plt.imshow(wordcloud)\n",
    "plt.axis('off')\n",
    "plt.show()"
   ]
  },
  {
   "cell_type": "code",
   "execution_count": 93,
   "id": "407f7019-d851-47e5-b341-8b7ad8a699cd",
   "metadata": {},
   "outputs": [
    {
     "name": "stdout",
     "output_type": "stream",
     "text": [
      "<wordcloud.wordcloud.WordCloud object at 0x7fac3bc3eca0>\n"
     ]
    },
    {
     "data": {
      "image/png": "[encoded data removed]",
      "text/plain": [
       "<Figure size 432x288 with 1 Axes>"
      ]
     },
     "metadata": {
      "needs_background": "light"
     },
     "output_type": "display_data"
    }
   ],
   "source": [
    "stopwords_set = set(STOPWORDS)\n",
    "wordcloud = WordCloud(background_color='white',\n",
    "                     stopwords = stopwords_set,\n",
    "                      max_words = 300,\n",
    "                      max_font_size = 40,\n",
    "                      scale = 2,\n",
    "                      random_state=42\n",
    "                     ).generate(str(may_df['cleaned_text']))\n",
    "\n",
    "print(wordcloud)\n",
    "plt.imshow(wordcloud)\n",
    "plt.axis('off')\n",
    "plt.show()"
   ]
  },
  {
   "cell_type": "code",
   "execution_count": null,
   "id": "9878ad6a-3537-4ebd-a07e-5886f53a63ef",
   "metadata": {},
   "outputs": [],
   "source": []
  }
 ],
 "metadata": {
  "kernelspec": {
   "display_name": "Python 3 (ipykernel)",
   "language": "python",
   "name": "python3"
  },
  "language_info": {
   "codemirror_mode": {
    "name": "ipython",
    "version": 3
   },
   "file_extension": ".py",
   "mimetype": "text/x-python",
   "name": "python",
   "nbconvert_exporter": "python",
   "pygments_lexer": "ipython3",
   "version": "3.9.12"
  }
 },
 "nbformat": 4,
 "nbformat_minor": 5
}
